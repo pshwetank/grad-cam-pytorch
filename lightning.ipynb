{
 "cells": [
  {
   "cell_type": "markdown",
   "metadata": {
    "toc": true
   },
   "source": [
    "<h1>Table of Contents<span class=\"tocSkip\"></span></h1>\n",
    "<div class=\"toc\"><ul class=\"toc-item\"></ul></div>"
   ]
  },
  {
   "cell_type": "code",
   "execution_count": 3,
   "metadata": {},
   "outputs": [],
   "source": [
    "import sys\n",
    "import numpy as np\n",
    "import pandas as pd\n",
    "import torch\n",
    "from torchvision import datasets\n",
    "from dataclasses import dataclass\n",
    "import pytorch_lightning as pl\n",
    "from torchvision import models\n",
    "from torchvision import transforms\n",
    "import torch.nn as nn\n",
    "import torch.nn.functional as F\n",
    "from collections import OrderedDict\n",
    "from torch.utils.data import random_split, DataLoader\n",
    "from grad_cam import GradCAM\n",
    "from pytorch_lightning.loggers import CSVLogger\n",
    "from pytorch_lightning import Callback"
   ]
  },
  {
   "cell_type": "code",
   "execution_count": 6,
   "metadata": {},
   "outputs": [],
   "source": [
    "class MobileNet_MNIST(nn.Module):\n",
    "    def __init__(self, fc_size = 800, dropout_prob=0.8):\n",
    "        super(MobileNet_MNIST, self).__init__()\n",
    "        self.base_model = models.mobilenet_v2(pretrained=True)\n",
    "        self.fc_layer1 = nn.Linear(1000, fc_size)\n",
    "        self.fc_layer2 = nn.Linear(fc_size, 10)\n",
    "        self.dropout = nn.Dropout(dropout_prob)\n",
    "        #self.softmax = nn.Softmax()\n",
    "    def forward(self,x):\n",
    "        #x = x.repeat(1,3,1,1)\n",
    "        x = self.base_model(x)\n",
    "        x = self.fc_layer1(x)\n",
    "        x = F.relu(x)\n",
    "        x = self.dropout(x)\n",
    "        x = self.fc_layer2(x)\n",
    "        x = F.relu(x)\n",
    "        #x = self.softmax(x)\n",
    "        return x"
   ]
  },
  {
   "cell_type": "code",
   "execution_count": 5,
   "metadata": {},
   "outputs": [],
   "source": [
    "class Interpretation_Callback(Callback):\n",
    "    \"\"\"\n",
    "    Callback to calculate gradient heatmap for model interpretation on the fly. \n",
    "    \"\"\"\n",
    "    def __init__(self, n_samples_max=10, layer, specified_input=None):\n",
    "        \"\"\"\n",
    "        Args:\n",
    "            n_samples_max   : Maximum no of images for whom the gradient images are required to be plotted. If the mini batch size is lower \n",
    "                              than_samples_max, it will plot the heatmap for all the images in a batch\n",
    "            layer           : The layer on which gradient computations is to be performed\n",
    "            specified_input : If dataloader returns more than a single input, specify the key for the batch dictionary to fetch the correct output. \n",
    "                              If None, _fetch_tensors() method tries to figure out the key that contains the tensor input for model \n",
    "        \"\"\"\n",
    "        super().__init__()\n",
    "        self.n_samples_max = n_samples_max\n",
    "    def on_train_start(self, trainer, pl_module):\n",
    "        return\n",
    "    def on_train_batch_start(self, trainer, pl_module, batch, batch_idx, dataloader_idx):\n",
    "        return\n",
    "    def on_train_batch_end(self, trainer, pl_module, outputs, batch, batch_idx, dataloader_idx):\n",
    "        \n",
    "        return\n",
    "    def on_train_end(self, trainer, pl_module):\n",
    "        return\n",
    "    @classmethod\n",
    "    def _fetch_tensors(cls, batch):\n",
    "        \"\"\"\n",
    "        Finds out the image tensors in a given batch sample. Since batch might return different kind of inputs, it is necessary to extract the target image\n",
    "        to perform gradient interpretation\n",
    "        \"\"\"\n",
    "        inp_type = type(batch)\n",
    "        if inp_type is torch.Tensor or inp_type is torch.cude.Tensor:\n",
    "            return batch\n",
    "        elif \n",
    "        return"
   ]
  },
  {
   "cell_type": "code",
   "execution_count": 7,
   "metadata": {},
   "outputs": [],
   "source": [
    "class Explainer_Classifier(pl.LightningModule):\n",
    "    def __init__(self, hparams):\n",
    "        super(Explainer_Classifier, self).__init__()\n",
    "        self.hparams = hparams\n",
    "        self.model = MobileNet_MNIST()\n",
    "        self.criterion = nn.CrossEntropyLoss()\n",
    "        self.dset = []\n",
    "        \n",
    "    def forward(self, x):\n",
    "        return self.model(x)\n",
    "\n",
    "    def apply_GradCam(self, images, labels, target_layers):\n",
    "        probs, ids = self.gcam.forward(images)    \n",
    "        self.gcam.backward(ids=ids)\n",
    "\n",
    "    def training_step(self, batch, batch_idx):\n",
    "        data, labels = batch\n",
    "        outputs = self.forward(data)\n",
    "        train_loss = self.criterion(outputs, labels)\n",
    "        tqdm_dict = {'train_loss':train_loss}\n",
    "        logger_stats = {'train_loss':train_loss, 'batch_id':batch_idx, \n",
    "                        'data_samples':[data.cpu()], 'labels':[labels.cpu()]}\n",
    "        outputs = OrderedDict({\n",
    "            'loss':train_loss,\n",
    "            'progressbar':tqdm_dict,\n",
    "            'log':logger_stats\n",
    "        })\n",
    "        return outputs\n",
    "    \n",
    "    def on_train_end(self):\n",
    "        print(\"Initialising GradCam\")\n",
    "        self.gcam = GradCAM(model=self.model)\n",
    "        model_layer = 'base_model.features.17.conv.3'\n",
    "        #self.apply_GradCam(data, labels, target_layers=model_layer)\n",
    "    \n",
    "    def validation_step(self, batch, batch_idx):\n",
    "        data, labels = batch\n",
    "        outputs = self.forward(data)\n",
    "        lbls = labels.type(torch.cuda.LongTensor)\n",
    "        val_loss = self.criterion(outputs, labels)\n",
    "        tqdm_dict = {'val_loss':val_loss}\n",
    "        outputs = OrderedDict({\n",
    "            'loss':val_loss,\n",
    "            'progressbar':tqdm_dict,\n",
    "            'log':tqdm_dict\n",
    "        })\n",
    "        return outputs\n",
    "\n",
    "    def configure_optimizers(self):\n",
    "        optimizer = torch.optim.Adam(self.parameters(), lr=self.hparams.lr)\n",
    "        #scheduler = torch.optim.lr_scheduler.ExponentialLR(optimizer, gamma = 0.1)\n",
    "        return [optimizer]#, [scheduler]\n",
    "\n",
    "    def train_dataloader(self):\n",
    "        train_dataset = datasets.MNIST(\n",
    "                            'dataset/', train=True, download=True,\n",
    "                            transform = transforms.Compose([transforms.Resize((224,224)), transforms.ToTensor(),\n",
    "                            transforms.Normalize((0.5),(0.5)), transforms.Lambda(lambda x:x.repeat(3,1,1))]))\n",
    "        train_dataloader = DataLoader(train_dataset, batch_size=self.hparams.batch_size)\n",
    "        return train_dataloader\n",
    "\n",
    "    def val_dataloader(self):\n",
    "        val_dataset = datasets.MNIST(\n",
    "                            'dataset/', train=False, download=True,\n",
    "                            transform = transforms.Compose([transforms.Resize((224,224)), transforms.ToTensor(),\n",
    "                            transforms.Normalize((0.5),(0.5)), transforms.Lambda(lambda x:x.repeat(3,1,1))]))\n",
    "        val_dataloader = DataLoader(val_dataset, batch_size=self.hparams.batch_size)\n",
    "        return val_dataloader\n",
    " "
   ]
  },
  {
   "cell_type": "code",
   "execution_count": 8,
   "metadata": {},
   "outputs": [],
   "source": [
    "hyper_params = {'batch_size':64, 'lr':0.001, 'n_epochs':1}"
   ]
  },
  {
   "cell_type": "code",
   "execution_count": 9,
   "metadata": {},
   "outputs": [],
   "source": [
    "#hyper_params = hparams_vals\n",
    "model = Explainer_Classifier(hyper_params)"
   ]
  },
  {
   "cell_type": "code",
   "execution_count": 10,
   "metadata": {},
   "outputs": [],
   "source": [
    "#Adding CSV logger to keep track of sample loss in order to look out for low loss and high loss examples\n",
    "csv_logger = CSVLogger(\"training_logs\", name=\"mnist_gradcam\")"
   ]
  },
  {
   "cell_type": "code",
   "execution_count": 11,
   "metadata": {},
   "outputs": [
    {
     "output_type": "stream",
     "name": "stderr",
     "text": [
      "GPU available: True, used: True\n",
      "TPU available: False, using: 0 TPU cores\n",
      "CUDA_VISIBLE_DEVICES: [0]\n"
     ]
    }
   ],
   "source": [
    "trainer = pl.Trainer(gpus=1, \n",
    "            max_epochs=hyper_params['n_epochs'],\n",
    "            logger=csv_logger)"
   ]
  },
  {
   "cell_type": "code",
   "execution_count": 12,
   "metadata": {
    "scrolled": false
   },
   "outputs": [
    {
     "output_type": "stream",
     "name": "stderr",
     "text": [
      "\n  | Name      | Type             | Params\n-----------------------------------------------\n0 | model     | MobileNet_MNIST  | 4 M   \n1 | criterion | CrossEntropyLoss | 0     \n"
     ]
    },
    {
     "output_type": "display_data",
     "data": {
      "text/plain": "HBox(children=(FloatProgress(value=1.0, bar_style='info', description='Validation sanity check', layout=Layout…",
      "application/vnd.jupyter.widget-view+json": {
       "version_major": 2,
       "version_minor": 0,
       "model_id": "998d08d4f4db4a5c9991d0b8baf11527"
      }
     },
     "metadata": {}
    },
    {
     "output_type": "display_data",
     "data": {
      "text/plain": "HBox(children=(FloatProgress(value=1.0, bar_style='info', description='Training', layout=Layout(flex='2'), max…",
      "application/vnd.jupyter.widget-view+json": {
       "version_major": 2,
       "version_minor": 0,
       "model_id": "259f5be1c8c0469ab2dd00aee9346d85"
      }
     },
     "metadata": {}
    },
    {
     "output_type": "display_data",
     "data": {
      "text/plain": "HBox(children=(FloatProgress(value=1.0, bar_style='info', description='Validating', layout=Layout(flex='2'), m…",
      "application/vnd.jupyter.widget-view+json": {
       "version_major": 2,
       "version_minor": 0,
       "model_id": "08a3bb774d7e40f38e17139f31bb361f"
      }
     },
     "metadata": {}
    },
    {
     "output_type": "stream",
     "name": "stderr",
     "text": [
      "Saving latest checkpoint..\n",
      "\n",
      "Initialising GradCam\n"
     ]
    },
    {
     "output_type": "execute_result",
     "data": {
      "text/plain": [
       "1"
      ]
     },
     "metadata": {},
     "execution_count": 12
    }
   ],
   "source": [
    "trainer.fit(model)"
   ]
  },
  {
   "cell_type": "code",
   "execution_count": null,
   "metadata": {},
   "outputs": [],
   "source": [
    "trainer.test(model)"
   ]
  },
  {
   "cell_type": "code",
   "execution_count": 4,
   "metadata": {},
   "outputs": [],
   "source": [
    "mnist_mobile = MobileNet_MNIST()"
   ]
  },
  {
   "cell_type": "code",
   "execution_count": 6,
   "metadata": {},
   "outputs": [
    {
     "output_type": "stream",
     "name": "stdout",
     "text": [
      "\nbase_model\nbase_model.features\nbase_model.features.0\nbase_model.features.0.0\nbase_model.features.0.1\nbase_model.features.0.2\nbase_model.features.1\nbase_model.features.1.conv\nbase_model.features.1.conv.0\nbase_model.features.1.conv.0.0\nbase_model.features.1.conv.0.1\nbase_model.features.1.conv.0.2\nbase_model.features.1.conv.1\nbase_model.features.1.conv.2\nbase_model.features.2\nbase_model.features.2.conv\nbase_model.features.2.conv.0\nbase_model.features.2.conv.0.0\nbase_model.features.2.conv.0.1\nbase_model.features.2.conv.0.2\nbase_model.features.2.conv.1\nbase_model.features.2.conv.1.0\nbase_model.features.2.conv.1.1\nbase_model.features.2.conv.1.2\nbase_model.features.2.conv.2\nbase_model.features.2.conv.3\nbase_model.features.3\nbase_model.features.3.conv\nbase_model.features.3.conv.0\nbase_model.features.3.conv.0.0\nbase_model.features.3.conv.0.1\nbase_model.features.3.conv.0.2\nbase_model.features.3.conv.1\nbase_model.features.3.conv.1.0\nbase_model.features.3.conv.1.1\nbase_model.features.3.conv.1.2\nbase_model.features.3.conv.2\nbase_model.features.3.conv.3\nbase_model.features.4\nbase_model.features.4.conv\nbase_model.features.4.conv.0\nbase_model.features.4.conv.0.0\nbase_model.features.4.conv.0.1\nbase_model.features.4.conv.0.2\nbase_model.features.4.conv.1\nbase_model.features.4.conv.1.0\nbase_model.features.4.conv.1.1\nbase_model.features.4.conv.1.2\nbase_model.features.4.conv.2\nbase_model.features.4.conv.3\nbase_model.features.5\nbase_model.features.5.conv\nbase_model.features.5.conv.0\nbase_model.features.5.conv.0.0\nbase_model.features.5.conv.0.1\nbase_model.features.5.conv.0.2\nbase_model.features.5.conv.1\nbase_model.features.5.conv.1.0\nbase_model.features.5.conv.1.1\nbase_model.features.5.conv.1.2\nbase_model.features.5.conv.2\nbase_model.features.5.conv.3\nbase_model.features.6\nbase_model.features.6.conv\nbase_model.features.6.conv.0\nbase_model.features.6.conv.0.0\nbase_model.features.6.conv.0.1\nbase_model.features.6.conv.0.2\nbase_model.features.6.conv.1\nbase_model.features.6.conv.1.0\nbase_model.features.6.conv.1.1\nbase_model.features.6.conv.1.2\nbase_model.features.6.conv.2\nbase_model.features.6.conv.3\nbase_model.features.7\nbase_model.features.7.conv\nbase_model.features.7.conv.0\nbase_model.features.7.conv.0.0\nbase_model.features.7.conv.0.1\nbase_model.features.7.conv.0.2\nbase_model.features.7.conv.1\nbase_model.features.7.conv.1.0\nbase_model.features.7.conv.1.1\nbase_model.features.7.conv.1.2\nbase_model.features.7.conv.2\nbase_model.features.7.conv.3\nbase_model.features.8\nbase_model.features.8.conv\nbase_model.features.8.conv.0\nbase_model.features.8.conv.0.0\nbase_model.features.8.conv.0.1\nbase_model.features.8.conv.0.2\nbase_model.features.8.conv.1\nbase_model.features.8.conv.1.0\nbase_model.features.8.conv.1.1\nbase_model.features.8.conv.1.2\nbase_model.features.8.conv.2\nbase_model.features.8.conv.3\nbase_model.features.9\nbase_model.features.9.conv\nbase_model.features.9.conv.0\nbase_model.features.9.conv.0.0\nbase_model.features.9.conv.0.1\nbase_model.features.9.conv.0.2\nbase_model.features.9.conv.1\nbase_model.features.9.conv.1.0\nbase_model.features.9.conv.1.1\nbase_model.features.9.conv.1.2\nbase_model.features.9.conv.2\nbase_model.features.9.conv.3\nbase_model.features.10\nbase_model.features.10.conv\nbase_model.features.10.conv.0\nbase_model.features.10.conv.0.0\nbase_model.features.10.conv.0.1\nbase_model.features.10.conv.0.2\nbase_model.features.10.conv.1\nbase_model.features.10.conv.1.0\nbase_model.features.10.conv.1.1\nbase_model.features.10.conv.1.2\nbase_model.features.10.conv.2\nbase_model.features.10.conv.3\nbase_model.features.11\nbase_model.features.11.conv\nbase_model.features.11.conv.0\nbase_model.features.11.conv.0.0\nbase_model.features.11.conv.0.1\nbase_model.features.11.conv.0.2\nbase_model.features.11.conv.1\nbase_model.features.11.conv.1.0\nbase_model.features.11.conv.1.1\nbase_model.features.11.conv.1.2\nbase_model.features.11.conv.2\nbase_model.features.11.conv.3\nbase_model.features.12\nbase_model.features.12.conv\nbase_model.features.12.conv.0\nbase_model.features.12.conv.0.0\nbase_model.features.12.conv.0.1\nbase_model.features.12.conv.0.2\nbase_model.features.12.conv.1\nbase_model.features.12.conv.1.0\nbase_model.features.12.conv.1.1\nbase_model.features.12.conv.1.2\nbase_model.features.12.conv.2\nbase_model.features.12.conv.3\nbase_model.features.13\nbase_model.features.13.conv\nbase_model.features.13.conv.0\nbase_model.features.13.conv.0.0\nbase_model.features.13.conv.0.1\nbase_model.features.13.conv.0.2\nbase_model.features.13.conv.1\nbase_model.features.13.conv.1.0\nbase_model.features.13.conv.1.1\nbase_model.features.13.conv.1.2\nbase_model.features.13.conv.2\nbase_model.features.13.conv.3\nbase_model.features.14\nbase_model.features.14.conv\nbase_model.features.14.conv.0\nbase_model.features.14.conv.0.0\nbase_model.features.14.conv.0.1\nbase_model.features.14.conv.0.2\nbase_model.features.14.conv.1\nbase_model.features.14.conv.1.0\nbase_model.features.14.conv.1.1\nbase_model.features.14.conv.1.2\nbase_model.features.14.conv.2\nbase_model.features.14.conv.3\nbase_model.features.15\nbase_model.features.15.conv\nbase_model.features.15.conv.0\nbase_model.features.15.conv.0.0\nbase_model.features.15.conv.0.1\nbase_model.features.15.conv.0.2\nbase_model.features.15.conv.1\nbase_model.features.15.conv.1.0\nbase_model.features.15.conv.1.1\nbase_model.features.15.conv.1.2\nbase_model.features.15.conv.2\nbase_model.features.15.conv.3\nbase_model.features.16\nbase_model.features.16.conv\nbase_model.features.16.conv.0\nbase_model.features.16.conv.0.0\nbase_model.features.16.conv.0.1\nbase_model.features.16.conv.0.2\nbase_model.features.16.conv.1\nbase_model.features.16.conv.1.0\nbase_model.features.16.conv.1.1\nbase_model.features.16.conv.1.2\nbase_model.features.16.conv.2\nbase_model.features.16.conv.3\nbase_model.features.17\nbase_model.features.17.conv\nbase_model.features.17.conv.0\nbase_model.features.17.conv.0.0\nbase_model.features.17.conv.0.1\nbase_model.features.17.conv.0.2\nbase_model.features.17.conv.1\nbase_model.features.17.conv.1.0\nbase_model.features.17.conv.1.1\nbase_model.features.17.conv.1.2\nbase_model.features.17.conv.2\nbase_model.features.17.conv.3\nbase_model.features.18\nbase_model.features.18.0\nbase_model.features.18.1\nbase_model.features.18.2\nbase_model.classifier\nbase_model.classifier.0\nbase_model.classifier.1\nfc_layer1\nfc_layer2\ndropout\n"
     ]
    }
   ],
   "source": [
    "for name, module in mnist_mobile.named_modules():\n",
    "    print(name)"
   ]
  },
  {
   "cell_type": "code",
   "execution_count": null,
   "metadata": {},
   "outputs": [],
   "source": []
  },
  {
   "cell_type": "code",
   "execution_count": null,
   "metadata": {},
   "outputs": [],
   "source": []
  }
 ],
 "metadata": {
  "kernelspec": {
   "name": "python3",
   "display_name": "Python 3.7.7 64-bit ('ai-experiments': conda)",
   "metadata": {
    "interpreter": {
     "hash": "cf486d4621c945dcbb398ab31f07069332e213298493c853e1fee6788950a827"
    }
   }
  },
  "language_info": {
   "codemirror_mode": {
    "name": "ipython",
    "version": 3
   },
   "file_extension": ".py",
   "mimetype": "text/x-python",
   "name": "python",
   "nbconvert_exporter": "python",
   "pygments_lexer": "ipython3",
   "version": "3.7.7-final"
  },
  "toc": {
   "base_numbering": 1,
   "nav_menu": {},
   "number_sections": true,
   "sideBar": true,
   "skip_h1_title": false,
   "title_cell": "Table of Contents",
   "title_sidebar": "Contents",
   "toc_cell": true,
   "toc_position": {},
   "toc_section_display": true,
   "toc_window_display": false
  }
 },
 "nbformat": 4,
 "nbformat_minor": 2
}