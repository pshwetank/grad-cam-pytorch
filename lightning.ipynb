{
 "cells": [
  {
   "cell_type": "markdown",
   "metadata": {
    "toc": true
   },
   "source": [
    "<h1>Table of Contents<span class=\"tocSkip\"></span></h1>\n",
    "<div class=\"toc\"><ul class=\"toc-item\"></ul></div>"
   ]
  },
  {
   "cell_type": "code",
   "execution_count": 1,
   "metadata": {},
   "outputs": [],
   "source": [
    "import sys\n",
    "import numpy as np\n",
    "import pandas as pd\n",
    "import torch\n",
    "import random\n",
    "import torch.backends.cudnn as cudnn\n",
    "import cv2\n",
    "from torchvision import datasets\n",
    "from dataclasses import dataclass\n",
    "import pytorch_lightning as pl\n",
    "from torchvision import models\n",
    "from torchvision import transforms\n",
    "import torch.nn as nn\n",
    "import torch.nn.functional as F\n",
    "from collections import OrderedDict\n",
    "from torch.utils.data import random_split, DataLoader\n",
    "from grad_cam import GradCAM\n",
    "from pytorch_lightning.loggers import CSVLogger\n",
    "from pytorch_lightning import Callback\n",
    "import matplotlib.cm as cm\n",
    "from pytorch_memlab import profile, set_target_gpu"
   ]
  },
  {
   "cell_type": "code",
   "execution_count": 2,
   "metadata": {},
   "outputs": [],
   "source": [
    "class MobileNet_MNIST(nn.Module):\n",
    "    def __init__(self, fc_size = 800, dropout_prob=0.8):\n",
    "        super(MobileNet_MNIST, self).__init__()\n",
    "        self.base_model = models.mobilenet_v2(pretrained=True)\n",
    "        self.fc_layer1 = nn.Linear(1000, fc_size)\n",
    "        self.fc_layer2 = nn.Linear(fc_size, 10)\n",
    "        self.dropout = nn.Dropout(dropout_prob)\n",
    "        #self.softmax = nn.Softmax()\n",
    "    def forward(self,x):\n",
    "        #x = x.repeat(1,3,1,1)\n",
    "        x = self.base_model(x)\n",
    "        x = self.fc_layer1(x)\n",
    "        x = F.relu(x)\n",
    "        x = self.dropout(x)\n",
    "        x = self.fc_layer2(x)\n",
    "        x = F.relu(x)\n",
    "        #x = self.softmax(x)\n",
    "        return x"
   ]
  },
  {
   "cell_type": "code",
   "execution_count": 3,
   "metadata": {},
   "outputs": [],
   "source": [
    "class VGGNet_MNIST(nn.Module):\n",
    "    def __init__(self, fc_size=800, dropout_prob=0.5, freeze=True):\n",
    "        super(VGGNet_MNIST, self).__init__()\n",
    "        self.base_model = models.vgg16(pretrained=True)\n",
    "        self.freeze = freeze\n",
    "        if self.freeze:\n",
    "            for params in self.base_model.parameters():\n",
    "                params.requires_grad = False\n",
    "        self.fc_layer1 = nn.Linear(1000, fc_size)\n",
    "        self.fc_layer2 = nn.Linear(fc_size, 10)\n",
    "        self.dropout = nn.Dropout(dropout_prob)\n",
    "        self.softmax = nn.Softmax()\n",
    "    def unfreeze(self):\n",
    "        for params in self.base_model.parameters(): #Freeze backbone\n",
    "            params.requires_grad = True\n",
    "        for params in self.fc_layer1.parameters():  #Freeze fc layer1\n",
    "            params.requires_grad = False\n",
    "        for params in self.fc_layer2.parameters():  #Freeze fc layer2\n",
    "            params.requires_grad = False\n",
    "    def full_unfreeze(self):\n",
    "        for params in self.base_model.parameters(): #Freeze backbone\n",
    "            params.requires_grad = True\n",
    "        for params in self.fc_layer1.parameters():  #Freeze fc layer1\n",
    "            params.requires_grad = True\n",
    "        for params in self.fc_layer2.parameters():  #Freeze fc layer2\n",
    "            params.requires_grad = True                   \n",
    "    def forward(self,x):\n",
    "        #x = x.repeat(1,3,1,1)\n",
    "        x = self.base_model(x)\n",
    "        x = self.fc_layer1(x)\n",
    "        x = F.relu(x)\n",
    "        x = self.dropout(x)\n",
    "        x = self.fc_layer2(x)\n",
    "        x = F.relu(x)\n",
    "        x = self.softmax(x)\n",
    "        return x"
   ]
  },
  {
   "cell_type": "code",
   "execution_count": 4,
   "metadata": {},
   "outputs": [],
   "source": [
    "mod = VGGNet_MNIST()"
   ]
  },
  {
   "cell_type": "code",
   "execution_count": 5,
   "metadata": {},
   "outputs": [],
   "source": [
    "mod.unfreeze()"
   ]
  },
  {
   "cell_type": "code",
   "execution_count": 6,
   "metadata": {},
   "outputs": [],
   "source": [
    "mod.full_unfreeze()"
   ]
  },
  {
   "cell_type": "code",
   "execution_count": 7,
   "metadata": {},
   "outputs": [],
   "source": [
    "class Loss_Tracker:\n",
    "    '''\n",
    "    Keep track of running loss values obtained from progressbar callback dictionary and also stores data\n",
    "    about minimum loss, maximum loss and mean loss value for each batch\n",
    "    '''\n",
    "    def __init__(self):\n",
    "        self.loss_arr = np.array([])\n",
    "        self.current_running_loss = None\n",
    "        self.current_batch_loss = None\n",
    "    def update(self, run_loss):\n",
    "        if isinstance(run_loss, float):\n",
    "            if len(self.loss_arr)==0:\n",
    "                #This is the first loss value to be logged\n",
    "                self.loss_arr = np.append(self.loss_arr, run_loss)\n",
    "                self.current_running_loss = run_loss\n",
    "                self.current_batch_loss = run_loss\n",
    "            else:\n",
    "                #Not the first batch. Need to reverse calculate batch loss from runinng loss values\n",
    "                self.current_batch_loss = ((len(self.loss_arr) + 1)*run_loss) - np.sum(self.loss_arr)\n",
    "                self.loss_arr = np.append(self.loss_arr, self.current_batch_loss)\n",
    "                self.current_running_loss = run_loss\n",
    "        elif isinstance(run_loss, torch.Tensor):\n",
    "            #Convert tensor to numpy type\n",
    "            loss_val = run_loss.detach().cpu().numpy()\n",
    "            self.loss_arr = np.append(self.loss_arr, loss_val)\n",
    "            self.current_batch_loss = loss_val\n",
    "            self.current_running_loss = np.mean(self.loss_arr)\n",
    "        \n",
    "    def min_val(self):\n",
    "        if len(self.loss_arr) != 0:\n",
    "            #The loss values are already logged into the array\n",
    "            return np.min(self.loss_arr)\n",
    "        else:\n",
    "            print(\"No loss values logged in module\")\n",
    "            return\n",
    "    def max_val(self):\n",
    "        if len(self.loss_arr) != 0:\n",
    "            #The loss values are already logged into the array\n",
    "            return np.max(self.loss_arr)\n",
    "        else:\n",
    "            print(\"No loss values logged in module\")\n",
    "            return\n",
    "    def is_current_max(self):\n",
    "        #Checks whether current batch loss is the highest loss value till now\n",
    "        if not self.current_batch_loss is None:\n",
    "            if np.max(self.loss_arr) == self.current_batch_loss:\n",
    "                return True\n",
    "            else:\n",
    "                return False\n",
    "        else:\n",
    "            print(\"No loss values are logged into the system.\")\n",
    "    def is_current_min(self):\n",
    "        #Checks whether current batch loss is the highest loss value till now\n",
    "        if not self.current_batch_loss is None:\n",
    "            if np.min(self.loss_arr) == self.current_batch_loss:\n",
    "                return True\n",
    "            else:\n",
    "                return False\n",
    "        else:\n",
    "            print(\"No loss values are logged into the system.\")\n",
    "\n",
    "    def reset(self):\n",
    "        #Required to be done at the end of training epoch\n",
    "        self.loss_arr = np.array([])\n",
    "        self.current_running_loss = None\n",
    "        self.current_batch_loss = None"
   ]
  },
  {
   "cell_type": "code",
   "execution_count": 8,
   "metadata": {},
   "outputs": [],
   "source": [
    "class GradCam_Pipeline(nn.Module):\n",
    "    '''\n",
    "    Pytorch wrapper to generate gradient heatmap using GradCam. It performs all the preprocessing as well as postprocessing operations leading to generation of      final heatmap image.\n",
    "    Arguments:\n",
    "    model        : Torch model on which model interpretation is to be done\n",
    "    target_layer : Layer from which the gradients are to be calculated. It is usually the last convolution layer before FC layer.\n",
    "    normal_val   : Normalisation values including ((mean for each channel),(standard deviation of each channel)) \n",
    "    '''\n",
    "    def __init__(self, model, target_layer, normal_val=None):\n",
    "        super(GradCam_Pipeline, self).__init__()\n",
    "        self.model = model\n",
    "        self.target_layer = target_layer\n",
    "        self.gradcam_operator = GradCAM(model=self.model)\n",
    "        self.normal_val = normal_val\n",
    "\n",
    "    def prepare_img(self, grad_region, batch):\n",
    "        '''\n",
    "        Generate individual heatmap images from the image batch\n",
    "        Arguments:\n",
    "        grad_region : Gradient maps generated from gradcam wrapper\n",
    "        batch       : Torch tensor batch of images\n",
    "        '''\n",
    "        gradcam_lst = []\n",
    "        for j in range(len(grad_region)):\n",
    "            gcam = grad_region[j,0]\n",
    "            sample_img = batch[j]\n",
    "            denorm_img = self._denormalise_img(sample_img, self.normal_val)\n",
    "            cmap = cm.jet_r(gcam)[..., :3] * 255.0\n",
    "            alpha = gcam[..., None]\n",
    "            gcam = alpha * cmap + (1 - alpha) * denorm_img\n",
    "            filename = os.path.join('trial_samples',str(j)+'.jpg')\n",
    "            cv2.imwrite(filename, np.uint8(gcam))\n",
    "            gradcam_lst.append(gcam)\n",
    "        return gradcam_lst\n",
    "\n",
    "    def forward(self, x):\n",
    "        probs, ids = self.gradcam_operator.forward(x)\n",
    "        self.gradcam_operator.backward(ids=ids)\n",
    "        regions = self.gradcam_operator.generate(self.target_layer)\n",
    "        self.gradcam_lst = self.prepare_img(regions, x)\n",
    "        return self.gradcam_lst\n",
    "\n",
    "    @classmethod\n",
    "    def _denormalise_img(cls, image, normal_val=None):\n",
    "        '''\n",
    "        Reverse conversion of a normalised image to a non-normalised image\n",
    "        Arguments:\n",
    "        image      : Single batch torch tensor containing single normalised image\n",
    "        normal_val : Normalisation values including ((mean for each channel),(standard deviation of each channel)) \n",
    "        '''\n",
    "        image = image.cpu().numpy()\n",
    "        image = np.einsum('ijk->jki', image)\n",
    "        if normal_val is None:\n",
    "            normal_val = ((0.5,0.5,0.5), (0.5,0.5,0.5)) #((mean), (std))\n",
    "        for i in range(3):\n",
    "            image[:,:,i] = image[:,:,i]*normal_val[0][i] + normal_val[1][i]\n",
    "        image = image*255.0\n",
    "        return image        "
   ]
  },
  {
   "cell_type": "code",
   "execution_count": 9,
   "metadata": {},
   "outputs": [],
   "source": [
    "class Interpretation_Callback(Callback):\n",
    "    \"\"\"\n",
    "    Callback to calculate gradient heatmap for model interpretation on the fly. \n",
    "    \"\"\"\n",
    "    def __init__(self, n_samples_max, layer, save_dir, normal_val=None, specified_input=None):\n",
    "        \"\"\"\n",
    "        Args:\n",
    "            n_samples_max   : Maximum no of images for whom the gradient images are required to be plotted. If the mini batch size is lower \n",
    "                              than_samples_max, it will plot the heatmap for all the images in a batch\n",
    "            layer           : The layer on which gradient computations is to be performed\n",
    "            save_dir        : Directory in which all the heatmap plots are to be saved\n",
    "            specified_input : If dataloader returns more than a single input, specify the key for the batch dictionary to fetch the correct output. \n",
    "                              If None, _fetch_tensors() method tries to figure out the key that contains the tensor input for model \n",
    "        \"\"\"\n",
    "        super().__init__()\n",
    "        self.n_samples_max = n_samples_max\n",
    "        self.grad_layer = layer\n",
    "        self.save_dir = save_dir\n",
    "        self.specified_input = specified_input\n",
    "        self.normal_val = normal_val\n",
    "        self.track_loss = Loss_Tracker()\n",
    "\n",
    "    def on_train_start(self, trainer, pl_module):\n",
    "        self.low_batch, self.high_batch = None, None #Stores the batch with lowest and highest training loss\n",
    "        self.low_bound_loss, self.high_bound_loss = None, None #Stores the lowest and highest loss value recorded for any batch\n",
    "\n",
    "    def on_train_batch_end(self, trainer, pl_module, outputs, batch, batch_idx, dataloader_idx):\n",
    "        try:\n",
    "            #look for self.train_loss atrribute in training loop\n",
    "            batch_training_loss = pl_module.train_loss\n",
    "            self.track_loss.update(batch_training_loss)\n",
    "        except:\n",
    "            #In case, self.train_loss is not defined, fetch loss data from progressbar \n",
    "            running_train_loss = self._get_loss(trainer.progress_bar_dict)\n",
    "            self.track_loss.update(running_train_loss)\n",
    "        batch_imgs = self._fetch_tensors(batch)\n",
    "        if self.track_loss.is_current_max():\n",
    "            self.high_batch = batch_imgs\n",
    "        if self.track_loss.is_current_min():\n",
    "            self.low_batch = batch_imgs\n",
    "        #Note to self: Write tests to check correct logging\n",
    "\n",
    "    def on_train_epoch_end(self, trainer, pl_module, outputs):\n",
    "        self.track_loss.reset()\n",
    "    \n",
    "    def on_train_end(self, trainer, pl_module):\n",
    "        print(\"Initiating GradCAM\")\n",
    "        pl_module.model.full_unfreeze()\n",
    "        print(\"Unfreezing all layers to calculate gradients\")\n",
    "        self.gradcam = GradCam_Pipeline(model=pl_module.model, target_layer=self.grad_layer, normal_val=self.normal_val)\n",
    "        self.high_loss_grads = self.gradcam(self.high_batch[:10,].cuda())\n",
    "\n",
    "    @classmethod\n",
    "    def _fetch_tensors(cls, batch, dict_inp=None):\n",
    "        \"\"\"\n",
    "        Finds out the image tensors in a given batch sample. Since batch might return different kind of inputs, it is necessary to extract the target image\n",
    "        to perform gradient interpretation\n",
    "        \"\"\"\n",
    "        inp_type = type(batch)\n",
    "        if inp_type is torch.Tensor:\n",
    "            return batch\n",
    "        elif inp_type is dict:\n",
    "            if not dict_inp is None:\n",
    "                #When the specific key in a dictionary is already given\n",
    "                tensor_inp = batch[dict_inp]\n",
    "                return tensor_inp\n",
    "            else:\n",
    "                #Interesting case when a specific key is not provided. In such case, try to search for a value with common tensor \n",
    "                #dimensions like (*,3,224,224) or (*,3,512,512) or any 4-dimensional tensor\n",
    "                key = None\n",
    "                for unique_key in batch.keys():\n",
    "                    inp = batch[unique_key]\n",
    "                    if type(inp) is torch.Tensor:\n",
    "                        tensor_dim = len(inp.shape)\n",
    "                        if tensor_dim == 4:\n",
    "                            key = unique_key\n",
    "                if key is None:\n",
    "                    #replace it with error message\n",
    "                    print(\"No value with 4 dimensions found in dictionary. Please check the dictionary structure or specify the key\")\n",
    "                else:\n",
    "                    return batch[key]\n",
    "        else:\n",
    "            #This might be a case where the model returns multiple values at once in form of a tuple or a list. Then it is required to find out which of the\n",
    "            #returned items from batch is an image tensor\n",
    "            n_items = len(batch)\n",
    "            tensor_index = None\n",
    "            for ind in range(n_items):\n",
    "                item = batch[ind]\n",
    "                if type(item) is torch.Tensor:\n",
    "                    tensor_dim = len(item.shape)\n",
    "                    if tensor_dim == 4:\n",
    "                        tensor_index = ind\n",
    "            if tensor_index is None:\n",
    "                #replace it with error message\n",
    "                print(\"No value with 4 dimensional tensor found in batch tuple. Please check the dataloader or return dictionary to avoid such errors\")\n",
    "            else:\n",
    "                return batch[tensor_index]\n",
    "\n",
    "    @classmethod\n",
    "    def _get_loss(cls, outputs):\n",
    "        \"\"\"\n",
    "        Get the loss value from the outputs of training_step. Generally, the output will be either directly a loss value or a dictionary containing one \n",
    "        of the entries as loss value \n",
    "        \"\"\"\n",
    "        if type(outputs) is torch.Tensor and len(outputs.shape) == 0:\n",
    "            #Usually a rare case when training_loop is directly returning loss value\n",
    "            return outputs\n",
    "        else:\n",
    "            #In such case, the training_step is in form of an ordered dictionary that will definitely contain a 'loss' key\n",
    "            loss_val = float(outputs['loss'])\n",
    "            return loss_val\n",
    "             "
   ]
  },
  {
   "cell_type": "code",
   "execution_count": 13,
   "metadata": {},
   "outputs": [],
   "source": [
    "class Explainer_Classifier(pl.LightningModule):\n",
    "    def __init__(self, hparams):\n",
    "        super(Explainer_Classifier, self).__init__()\n",
    "        self.hparams = hparams\n",
    "        self.model = VGGNet_MNIST(self.hparams.fc_size, self.hparams.dropout)\n",
    "        self.criterion = nn.CrossEntropyLoss()\n",
    "        self.accuracy = pl.metrics.Accuracy()\n",
    "        self.val_acc = pl.metrics.Accuracy()\n",
    "\n",
    "    def forward(self, x):\n",
    "        return self.model(x)\n",
    "\n",
    "    def apply_GradCam(self, images, target_layer):\n",
    "        probs, ids = self.gcam.forward(images)    \n",
    "        self.gcam.backward(ids=ids)\n",
    "\n",
    "    def training_step(self, batch, batch_idx):\n",
    "        data, labels = batch\n",
    "        outputs = self.forward(data)\n",
    "        train_loss = self.criterion(outputs, labels)\n",
    "        self.train_loss = train_loss\n",
    "        self.log('loss',train_loss)\n",
    "        self.log('train_acc_step', self.accuracy(outputs, labels))\n",
    "        return {'loss':train_loss, 'progress_bar':{'train_acc_step':self.accuracy(outputs, labels)}}\n",
    "\n",
    "    def training_epoch_end(self, outs):\n",
    "        if self.current_epoch == self.hparams.unfreeze_epoch-1:\n",
    "            self.model.unfreeze()\n",
    "            print(\"Conv layers unfreezed. Starting next phase of training\")\n",
    "        if self.current_epoch == self.hparams.full_unfreeze_epoch-1:\n",
    "            self.model.full_unfreeze()\n",
    "            print(\"Whole model unfreezed. Starting last phase of training.\")\n",
    "        return {'progress_bar':{'train_acc_epoch':self.accuracy.compute()}}\n",
    "    \n",
    "    def validation_step(self, batch, batch_idx):\n",
    "        data, labels = batch\n",
    "        outputs = self.forward(data)\n",
    "        lbls = labels.type(torch.cuda.LongTensor)\n",
    "        val_loss = self.criterion(outputs, labels)\n",
    "        return OrderedDict({'loss':val_loss, 'progress_bar':{'val_acc_step':self.val_acc(outputs, labels), 'val_loss':val_loss}})\n",
    "\n",
    "    def validation_epoch_end(self, outputs):\n",
    "        return {'progressbar':{'val_acc':self.val_acc.compute()}, 'log':{'val_acc':self.val_acc.compute()}}\n",
    "\n",
    "    def configure_optimizers(self):\n",
    "        optimizer = torch.optim.Adam(self.parameters(), lr=self.hparams.lr)\n",
    "        scheduler = torch.optim.lr_scheduler.ExponentialLR(optimizer, gamma = 0.1)\n",
    "        return [optimizer], [scheduler]\n",
    "\n",
    "    def train_dataloader(self):\n",
    "        train_dataset = datasets.MNIST(\n",
    "                            'dataset/', train=True, download=True,\n",
    "                            transform = transforms.Compose([transforms.Resize((224,224)), transforms.ToTensor(),\n",
    "                            transforms.Lambda(lambda x:x.repeat(3,1,1)), transforms.Normalize((0.485, 0.456, 0.406),(0.229, 0.224, 0.225))])) #changes due to vgg\n",
    "        train_dataloader = DataLoader(train_dataset, batch_size=self.hparams.batch_size, num_workers=4)\n",
    "        return train_dataloader\n",
    "\n",
    "    def val_dataloader(self):\n",
    "        val_dataset = datasets.MNIST(\n",
    "                            'dataset/', train=False, download=True,\n",
    "                            transform = transforms.Compose([transforms.Resize((224,224)), transforms.ToTensor(),\n",
    "                            transforms.Lambda(lambda x:x.repeat(3,1,1)), transforms.Normalize((0.485, 0.456, 0.406),(0.229, 0.224, 0.225))])) #changes due to vgg\n",
    "        val_dataloader = DataLoader(val_dataset, batch_size=self.hparams.batch_size, num_workers=4)\n",
    "        return val_dataloader\n",
    " "
   ]
  },
  {
   "cell_type": "code",
   "execution_count": 14,
   "metadata": {},
   "outputs": [],
   "source": [
    "hyper_params = {'batch_size':32, 'lr':0.001, 'n_epochs':10, 'fc_size':800,'dropout':0.8,'unfreeze_epoch':3, 'full_unfreeze_epoch':5}"
   ]
  },
  {
   "cell_type": "code",
   "execution_count": 15,
   "metadata": {},
   "outputs": [],
   "source": [
    "random.seed(42)\n",
    "torch.manual_seed(42)\n",
    "cudnn.deterministic = True"
   ]
  },
  {
   "cell_type": "code",
   "execution_count": 16,
   "metadata": {},
   "outputs": [],
   "source": [
    "#hyper_params = hparams_vals\n",
    "model = Explainer_Classifier(hyper_params)"
   ]
  },
  {
   "cell_type": "code",
   "execution_count": 17,
   "metadata": {},
   "outputs": [],
   "source": [
    "grad_cam_callback = Interpretation_Callback(10,'base_model.features.30','gradcam/', normal_val=((0.485, 0.456, 0.406),(0.229, 0.224, 0.225)))"
   ]
  },
  {
   "cell_type": "code",
   "execution_count": 18,
   "metadata": {},
   "outputs": [
    {
     "output_type": "stream",
     "name": "stderr",
     "text": [
      "GPU available: True, used: True\n",
      "TPU available: None, using: 0 TPU cores\n",
      "LOCAL_RANK: 0 - CUDA_VISIBLE_DEVICES: [0]\n"
     ]
    }
   ],
   "source": [
    "trainer = pl.Trainer(gpus=1, \n",
    "            max_epochs=hyper_params['n_epochs'],\n",
    "            callbacks=[grad_cam_callback],\n",
    "            accumulate_grad_batches=32\n",
    "            )"
   ]
  },
  {
   "cell_type": "code",
   "execution_count": 16,
   "metadata": {
    "scrolled": true,
    "tags": []
   },
   "outputs": [
    {
     "output_type": "stream",
     "name": "stderr",
     "text": [
      "7/313 [00:11<00:21,  9.54it/s]\u001b[A\n",
      "Epoch 4:  91%|█████████ | 1984/2188 [10:26<01:04,  3.17it/s, loss=1.68, v_num=28, train_acc_step=0.812, train_acc_epoch=0.731]\n",
      "Validating:  35%|███▍      | 109/313 [00:11<00:21,  9.54it/s]\u001b[A\n",
      "Epoch 4:  91%|█████████ | 1986/2188 [10:26<01:03,  3.17it/s, loss=1.68, v_num=28, train_acc_step=0.812, train_acc_epoch=0.731]\n",
      "Validating:  35%|███▌      | 111/313 [00:11<00:21,  9.53it/s]\u001b[A\n",
      "Epoch 4:  91%|█████████ | 1988/2188 [10:26<01:03,  3.17it/s, loss=1.68, v_num=28, train_acc_step=0.812, train_acc_epoch=0.731]\n",
      "Validating:  36%|███▌      | 113/313 [00:12<00:21,  9.43it/s]\u001b[A\n",
      "Epoch 4:  91%|█████████ | 1990/2188 [10:26<01:02,  3.18it/s, loss=1.68, v_num=28, train_acc_step=0.812, train_acc_epoch=0.731]\n",
      "Validating:  37%|███▋      | 115/313 [00:12<00:20,  9.52it/s]\u001b[A\n",
      "Epoch 4:  91%|█████████ | 1992/2188 [10:26<01:01,  3.18it/s, loss=1.68, v_num=28, train_acc_step=0.812, train_acc_epoch=0.731]\n",
      "Validating:  37%|███▋      | 117/313 [00:12<00:20,  9.61it/s]\u001b[A\n",
      "Epoch 4:  91%|█████████ | 1994/2188 [10:27<01:01,  3.18it/s, loss=1.68, v_num=28, train_acc_step=0.812, train_acc_epoch=0.731]\n",
      "Validating:  38%|███▊      | 119/313 [00:12<00:20,  9.52it/s]\u001b[A\n",
      "Epoch 4:  91%|█████████ | 1996/2188 [10:27<01:00,  3.18it/s, loss=1.68, v_num=28, train_acc_step=0.812, train_acc_epoch=0.731]\n",
      "Validating:  39%|███▊      | 121/313 [00:12<00:20,  9.49it/s]\u001b[A\n",
      "Epoch 4:  91%|█████████▏| 1998/2188 [10:27<00:59,  3.18it/s, loss=1.68, v_num=28, train_acc_step=0.812, train_acc_epoch=0.731]\n",
      "Validating:  39%|███▉      | 123/313 [00:13<00:20,  9.48it/s]\u001b[A\n",
      "Epoch 4:  91%|█████████▏| 2000/2188 [10:27<00:59,  3.19it/s, loss=1.68, v_num=28, train_acc_step=0.812, train_acc_epoch=0.731]\n",
      "Validating:  40%|███▉      | 125/313 [00:13<00:19,  9.50it/s]\u001b[A\n",
      "Epoch 4:  91%|█████████▏| 2002/2188 [10:28<00:58,  3.19it/s, loss=1.68, v_num=28, train_acc_step=0.812, train_acc_epoch=0.731]\n",
      "Validating:  41%|████      | 127/313 [00:13<00:19,  9.51it/s]\u001b[A\n",
      "Epoch 4:  92%|█████████▏| 2004/2188 [10:28<00:57,  3.19it/s, loss=1.68, v_num=28, train_acc_step=0.812, train_acc_epoch=0.731]\n",
      "Validating:  41%|████      | 129/313 [00:13<00:19,  9.50it/s]\u001b[A\n",
      "Epoch 4:  92%|█████████▏| 2006/2188 [10:28<00:57,  3.19it/s, loss=1.68, v_num=28, train_acc_step=0.812, train_acc_epoch=0.731]\n",
      "Validating:  42%|████▏     | 131/313 [00:13<00:19,  9.50it/s]\u001b[A\n",
      "Epoch 4:  92%|█████████▏| 2008/2188 [10:28<00:56,  3.19it/s, loss=1.68, v_num=28, train_acc_step=0.812, train_acc_epoch=0.731]\n",
      "Validating:  42%|████▏     | 133/313 [00:14<00:18,  9.52it/s]\u001b[A\n",
      "Epoch 4:  92%|█████████▏| 2010/2188 [10:28<00:55,  3.20it/s, loss=1.68, v_num=28, train_acc_step=0.812, train_acc_epoch=0.731]\n",
      "Validating:  43%|████▎     | 135/313 [00:14<00:18,  9.54it/s]\u001b[A\n",
      "Epoch 4:  92%|█████████▏| 2012/2188 [10:29<00:55,  3.20it/s, loss=1.68, v_num=28, train_acc_step=0.812, train_acc_epoch=0.731]\n",
      "Validating:  44%|████▍     | 137/313 [00:14<00:18,  9.49it/s]\u001b[A\n",
      "Epoch 4:  92%|█████████▏| 2014/2188 [10:29<00:54,  3.20it/s, loss=1.68, v_num=28, train_acc_step=0.812, train_acc_epoch=0.731]\n",
      "Validating:  44%|████▍     | 139/313 [00:14<00:18,  9.53it/s]\u001b[A\n",
      "Epoch 4:  92%|█████████▏| 2016/2188 [10:29<00:53,  3.20it/s, loss=1.68, v_num=28, train_acc_step=0.812, train_acc_epoch=0.731]\n",
      "Validating:  45%|████▌     | 141/313 [00:14<00:18,  9.48it/s]\u001b[A\n",
      "Epoch 4:  92%|█████████▏| 2018/2188 [10:29<00:53,  3.20it/s, loss=1.68, v_num=28, train_acc_step=0.812, train_acc_epoch=0.731]\n",
      "Validating:  46%|████▌     | 143/313 [00:15<00:17,  9.51it/s]\u001b[A\n",
      "Epoch 4:  92%|█████████▏| 2020/2188 [10:29<00:52,  3.21it/s, loss=1.68, v_num=28, train_acc_step=0.812, train_acc_epoch=0.731]\n",
      "Validating:  46%|████▋     | 145/313 [00:15<00:17,  9.55it/s]\u001b[A\n",
      "Epoch 4:  92%|█████████▏| 2022/2188 [10:30<00:51,  3.21it/s, loss=1.68, v_num=28, train_acc_step=0.812, train_acc_epoch=0.731]\n",
      "Validating:  47%|████▋     | 147/313 [00:15<00:17,  9.59it/s]\u001b[A\n",
      "Epoch 4:  93%|█████████▎| 2024/2188 [10:30<00:51,  3.21it/s, loss=1.68, v_num=28, train_acc_step=0.812, train_acc_epoch=0.731]\n",
      "Validating:  48%|████▊     | 149/313 [00:15<00:17,  9.55it/s]\u001b[A\n",
      "Epoch 4:  93%|█████████▎| 2026/2188 [10:30<00:50,  3.21it/s, loss=1.68, v_num=28, train_acc_step=0.812, train_acc_epoch=0.731]\n",
      "Validating:  48%|████▊     | 151/313 [00:16<00:17,  9.52it/s]\u001b[A\n",
      "Epoch 4:  93%|█████████▎| 2028/2188 [10:30<00:49,  3.22it/s, loss=1.68, v_num=28, train_acc_step=0.812, train_acc_epoch=0.731]\n",
      "Validating:  49%|████▉     | 153/313 [00:16<00:16,  9.48it/s]\u001b[A\n",
      "Epoch 4:  93%|█████████▎| 2030/2188 [10:30<00:49,  3.22it/s, loss=1.68, v_num=28, train_acc_step=0.812, train_acc_epoch=0.731]\n",
      "Validating:  50%|████▉     | 155/313 [00:16<00:16,  9.52it/s]\u001b[A\n",
      "Epoch 4:  93%|█████████▎| 2032/2188 [10:31<00:48,  3.22it/s, loss=1.68, v_num=28, train_acc_step=0.812, train_acc_epoch=0.731]\n",
      "Validating:  50%|█████     | 157/313 [00:16<00:16,  9.53it/s]\u001b[A\n",
      "Epoch 4:  93%|█████████▎| 2034/2188 [10:31<00:47,  3.22it/s, loss=1.68, v_num=28, train_acc_step=0.812, train_acc_epoch=0.731]\n",
      "Validating:  51%|█████     | 159/313 [00:16<00:16,  9.55it/s]\u001b[A\n",
      "Epoch 4:  93%|█████████▎| 2036/2188 [10:31<00:47,  3.22it/s, loss=1.68, v_num=28, train_acc_step=0.812, train_acc_epoch=0.731]\n",
      "Validating:  51%|█████▏    | 161/313 [00:17<00:16,  9.38it/s]\u001b[A\n",
      "Epoch 4:  93%|█████████▎| 2038/2188 [10:31<00:46,  3.23it/s, loss=1.68, v_num=28, train_acc_step=0.812, train_acc_epoch=0.731]\n",
      "Validating:  52%|█████▏    | 163/313 [00:17<00:16,  9.37it/s]\u001b[A\n",
      "Epoch 4:  93%|█████████▎| 2040/2188 [10:32<00:45,  3.23it/s, loss=1.68, v_num=28, train_acc_step=0.812, train_acc_epoch=0.731]\n",
      "Validating:  53%|█████▎    | 165/313 [00:17<00:15,  9.28it/s]\u001b[A\n",
      "Epoch 4:  93%|█████████▎| 2042/2188 [10:32<00:45,  3.23it/s, loss=1.68, v_num=28, train_acc_step=0.812, train_acc_epoch=0.731]\n",
      "Validating:  53%|█████▎    | 167/313 [00:17<00:15,  9.42it/s]\u001b[A\n",
      "Epoch 4:  93%|█████████▎| 2044/2188 [10:32<00:44,  3.23it/s, loss=1.68, v_num=28, train_acc_step=0.812, train_acc_epoch=0.731]\n",
      "Validating:  54%|█████▍    | 169/313 [00:17<00:15,  9.48it/s]\u001b[A\n",
      "Epoch 4:  94%|█████████▎| 2046/2188 [10:32<00:43,  3.23it/s, loss=1.68, v_num=28, train_acc_step=0.812, train_acc_epoch=0.731]\n",
      "Validating:  55%|█████▍    | 171/313 [00:18<00:14,  9.57it/s]\u001b[A\n",
      "Epoch 4:  94%|█████████▎| 2048/2188 [10:32<00:43,  3.24it/s, loss=1.68, v_num=28, train_acc_step=0.812, train_acc_epoch=0.731]\n",
      "Validating:  55%|█████▌    | 173/313 [00:18<00:14,  9.46it/s]\u001b[A\n",
      "Epoch 4:  94%|█████████▎| 2050/2188 [10:33<00:42,  3.24it/s, loss=1.68, v_num=28, train_acc_step=0.812, train_acc_epoch=0.731]\n",
      "Validating:  56%|█████▌    | 175/313 [00:18<00:14,  9.50it/s]\u001b[A\n",
      "Epoch 4:  94%|█████████▍| 2052/2188 [10:33<00:41,  3.24it/s, loss=1.68, v_num=28, train_acc_step=0.812, train_acc_epoch=0.731]\n",
      "Validating:  57%|█████▋    | 177/313 [00:18<00:14,  9.49it/s]\u001b[A\n",
      "Epoch 4:  94%|█████████▍| 2054/2188 [10:33<00:41,  3.24it/s, loss=1.68, v_num=28, train_acc_step=0.812, train_acc_epoch=0.731]\n",
      "Validating:  57%|█████▋    | 179/313 [00:18<00:14,  9.49it/s]\u001b[A\n",
      "Epoch 4:  94%|█████████▍| 2056/2188 [10:33<00:40,  3.24it/s, loss=1.68, v_num=28, train_acc_step=0.812, train_acc_epoch=0.731]\n",
      "Validating:  58%|█████▊    | 181/313 [00:19<00:14,  9.41it/s]\u001b[A\n",
      "Epoch 4:  94%|█████████▍| 2058/2188 [10:33<00:40,  3.25it/s, loss=1.68, v_num=28, train_acc_step=0.812, train_acc_epoch=0.731]\n",
      "Validating:  58%|█████▊    | 183/313 [00:19<00:13,  9.48it/s]\u001b[A\n",
      "Epoch 4:  94%|█████████▍| 2060/2188 [10:34<00:39,  3.25it/s, loss=1.68, v_num=28, train_acc_step=0.812, train_acc_epoch=0.731]\n",
      "Validating:  59%|█████▉    | 185/313 [00:19<00:13,  9.45it/s]\u001b[A\n",
      "Epoch 4:  94%|█████████▍| 2062/2188 [10:34<00:38,  3.25it/s, loss=1.68, v_num=28, train_acc_step=0.812, train_acc_epoch=0.731]\n",
      "Validating:  60%|█████▉    | 187/313 [00:19<00:13,  9.48it/s]\u001b[A\n",
      "Epoch 4:  94%|█████████▍| 2064/2188 [10:34<00:38,  3.25it/s, loss=1.68, v_num=28, train_acc_step=0.812, train_acc_epoch=0.731]\n",
      "Validating:  60%|██████    | 189/313 [00:20<00:13,  9.52it/s]\u001b[A\n",
      "Epoch 4:  94%|█████████▍| 2066/2188 [10:34<00:37,  3.25it/s, loss=1.68, v_num=28, train_acc_step=0.812, train_acc_epoch=0.731]\n",
      "Validating:  61%|██████    | 191/313 [00:20<00:12,  9.41it/s]\u001b[A\n",
      "Epoch 4:  95%|█████████▍| 2068/2188 [10:34<00:36,  3.26it/s, loss=1.68, v_num=28, train_acc_step=0.812, train_acc_epoch=0.731]\n",
      "Validating:  62%|██████▏   | 193/313 [00:20<00:12,  9.46it/s]\u001b[A\n",
      "Epoch 4:  95%|█████████▍| 2070/2188 [10:35<00:36,  3.26it/s, loss=1.68, v_num=28, train_acc_step=0.812, train_acc_epoch=0.731]\n",
      "Validating:  62%|██████▏   | 195/313 [00:20<00:12,  9.47it/s]\u001b[A\n",
      "Epoch 4:  95%|█████████▍| 2072/2188 [10:35<00:35,  3.26it/s, loss=1.68, v_num=28, train_acc_step=0.812, train_acc_epoch=0.731]\n",
      "Validating:  63%|██████▎   | 197/313 [00:20<00:12,  9.40it/s]\u001b[A\n",
      "Epoch 4:  95%|█████████▍| 2074/2188 [10:35<00:34,  3.26it/s, loss=1.68, v_num=28, train_acc_step=0.812, train_acc_epoch=0.731]\n",
      "Validating:  64%|██████▎   | 199/313 [00:21<00:12,  9.36it/s]\u001b[A\n",
      "Epoch 4:  95%|█████████▍| 2076/2188 [10:35<00:34,  3.27it/s, loss=1.68, v_num=28, train_acc_step=0.812, train_acc_epoch=0.731]\n",
      "Validating:  64%|██████▍   | 201/313 [00:21<00:12,  9.26it/s]\u001b[A\n",
      "Epoch 4:  95%|█████████▍| 2078/2188 [10:36<00:33,  3.27it/s, loss=1.68, v_num=28, train_acc_step=0.812, train_acc_epoch=0.731]\n",
      "Validating:  65%|██████▍   | 203/313 [00:21<00:11,  9.22it/s]\u001b[A\n",
      "Epoch 4:  95%|█████████▌| 2080/2188 [10:36<00:33,  3.27it/s, loss=1.68, v_num=28, train_acc_step=0.812, train_acc_epoch=0.731]\n",
      "Validating:  65%|██████▌   | 205/313 [00:21<00:11,  9.22it/s]\u001b[A\n",
      "Epoch 4:  95%|█████████▌| 2082/2188 [10:36<00:32,  3.27it/s, loss=1.68, v_num=28, train_acc_step=0.812, train_acc_epoch=0.731]\n",
      "Validating:  66%|██████▌   | 207/313 [00:21<00:11,  9.20it/s]\u001b[A\n",
      "Epoch 4:  95%|█████████▌| 2084/2188 [10:36<00:31,  3.27it/s, loss=1.68, v_num=28, train_acc_step=0.812, train_acc_epoch=0.731]\n",
      "Validating:  67%|██████▋   | 209/313 [00:22<00:11,  9.23it/s]\u001b[A\n",
      "Epoch 4:  95%|█████████▌| 2086/2188 [10:36<00:31,  3.28it/s, loss=1.68, v_num=28, train_acc_step=0.812, train_acc_epoch=0.731]\n",
      "Validating:  67%|██████▋   | 211/313 [00:22<00:11,  9.23it/s]\u001b[A\n",
      "Epoch 4:  95%|█████████▌| 2088/2188 [10:37<00:30,  3.28it/s, loss=1.68, v_num=28, train_acc_step=0.812, train_acc_epoch=0.731]\n",
      "Validating:  68%|██████▊   | 213/313 [00:22<00:10,  9.25it/s]\u001b[A\n",
      "Epoch 4:  96%|█████████▌| 2090/2188 [10:37<00:29,  3.28it/s, loss=1.68, v_num=28, train_acc_step=0.812, train_acc_epoch=0.731]\n",
      "Validating:  69%|██████▊   | 215/313 [00:22<00:10,  9.26it/s]\u001b[A\n",
      "Epoch 4:  96%|█████████▌| 2092/2188 [10:37<00:29,  3.28it/s, loss=1.68, v_num=28, train_acc_step=0.812, train_acc_epoch=0.731]\n",
      "Validating:  69%|██████▉   | 217/313 [00:23<00:10,  9.20it/s]\u001b[A\n",
      "Epoch 4:  96%|█████████▌| 2094/2188 [10:37<00:28,  3.28it/s, loss=1.68, v_num=28, train_acc_step=0.812, train_acc_epoch=0.731]\n",
      "Validating:  70%|██████▉   | 219/313 [00:23<00:10,  9.18it/s]\u001b[A\n",
      "Epoch 4:  96%|█████████▌| 2096/2188 [10:38<00:28,  3.29it/s, loss=1.68, v_num=28, train_acc_step=0.812, train_acc_epoch=0.731]\n",
      "Validating:  71%|███████   | 221/313 [00:23<00:09,  9.22it/s]\u001b[A\n",
      "Epoch 4:  96%|█████████▌| 2098/2188 [10:38<00:27,  3.29it/s, loss=1.68, v_num=28, train_acc_step=0.812, train_acc_epoch=0.731]\n",
      "Validating:  71%|███████   | 223/313 [00:23<00:09,  9.24it/s]\u001b[A\n",
      "Epoch 4:  96%|█████████▌| 2100/2188 [10:38<00:26,  3.29it/s, loss=1.68, v_num=28, train_acc_step=0.812, train_acc_epoch=0.731]\n",
      "Validating:  72%|███████▏  | 225/313 [00:23<00:09,  9.26it/s]\u001b[A\n",
      "Epoch 4:  96%|█████████▌| 2102/2188 [10:38<00:26,  3.29it/s, loss=1.68, v_num=28, train_acc_step=0.812, train_acc_epoch=0.731]\n",
      "Validating:  73%|███████▎  | 227/313 [00:24<00:09,  9.28it/s]\u001b[A\n",
      "Epoch 4:  96%|█████████▌| 2104/2188 [10:38<00:25,  3.29it/s, loss=1.68, v_num=28, train_acc_step=0.812, train_acc_epoch=0.731]\n",
      "Validating:  73%|███████▎  | 229/313 [00:24<00:09,  9.29it/s]\u001b[A\n",
      "Epoch 4:  96%|█████████▋| 2106/2188 [10:39<00:24,  3.30it/s, loss=1.68, v_num=28, train_acc_step=0.812, train_acc_epoch=0.731]\n",
      "Validating:  74%|███████▍  | 231/313 [00:24<00:08,  9.30it/s]\u001b[A\n",
      "Epoch 4:  96%|█████████▋| 2108/2188 [10:39<00:24,  3.30it/s, loss=1.68, v_num=28, train_acc_step=0.812, train_acc_epoch=0.731]\n",
      "Validating:  74%|███████▍  | 233/313 [00:24<00:08,  9.18it/s]\u001b[A\n",
      "Epoch 4:  96%|█████████▋| 2110/2188 [10:39<00:23,  3.30it/s, loss=1.68, v_num=28, train_acc_step=0.812, train_acc_epoch=0.731]\n",
      "Validating:  75%|███████▌  | 235/313 [00:24<00:08,  9.24it/s]\u001b[A\n",
      "Epoch 4:  97%|█████████▋| 2112/2188 [10:39<00:23,  3.30it/s, loss=1.68, v_num=28, train_acc_step=0.812, train_acc_epoch=0.731]\n",
      "Validating:  76%|███████▌  | 237/313 [00:25<00:08,  9.27it/s]\u001b[A\n",
      "Epoch 4:  97%|█████████▋| 2114/2188 [10:39<00:22,  3.30it/s, loss=1.68, v_num=28, train_acc_step=0.812, train_acc_epoch=0.731]\n",
      "Validating:  76%|███████▋  | 239/313 [00:25<00:07,  9.27it/s]\u001b[A\n",
      "Epoch 4:  97%|█████████▋| 2116/2188 [10:40<00:21,  3.31it/s, loss=1.68, v_num=28, train_acc_step=0.812, train_acc_epoch=0.731]\n",
      "Validating:  77%|███████▋  | 241/313 [00:25<00:07,  9.24it/s]\u001b[A\n",
      "Epoch 4:  97%|█████████▋| 2118/2188 [10:40<00:21,  3.31it/s, loss=1.68, v_num=28, train_acc_step=0.812, train_acc_epoch=0.731]\n",
      "Validating:  78%|███████▊  | 243/313 [00:25<00:07,  9.30it/s]\u001b[A\n",
      "Epoch 4:  97%|█████████▋| 2120/2188 [10:40<00:20,  3.31it/s, loss=1.68, v_num=28, train_acc_step=0.812, train_acc_epoch=0.731]\n",
      "Validating:  78%|███████▊  | 245/313 [00:26<00:07,  9.27it/s]\u001b[A\n",
      "Epoch 4:  97%|█████████▋| 2122/2188 [10:40<00:19,  3.31it/s, loss=1.68, v_num=28, train_acc_step=0.812, train_acc_epoch=0.731]\n",
      "Validating:  79%|███████▉  | 247/313 [00:26<00:07,  9.29it/s]\u001b[A\n",
      "Epoch 4:  97%|█████████▋| 2124/2188 [10:41<00:19,  3.31it/s, loss=1.68, v_num=28, train_acc_step=0.812, train_acc_epoch=0.731]\n",
      "Validating:  80%|███████▉  | 249/313 [00:26<00:06,  9.29it/s]\u001b[A\n",
      "Epoch 4:  97%|█████████▋| 2126/2188 [10:41<00:18,  3.32it/s, loss=1.68, v_num=28, train_acc_step=0.812, train_acc_epoch=0.731]\n",
      "Validating:  80%|████████  | 251/313 [00:26<00:06,  9.31it/s]\u001b[A\n",
      "Epoch 4:  97%|█████████▋| 2128/2188 [10:41<00:18,  3.32it/s, loss=1.68, v_num=28, train_acc_step=0.812, train_acc_epoch=0.731]\n",
      "Validating:  81%|████████  | 253/313 [00:26<00:06,  9.27it/s]\u001b[A\n",
      "Epoch 4:  97%|█████████▋| 2130/2188 [10:41<00:17,  3.32it/s, loss=1.68, v_num=28, train_acc_step=0.812, train_acc_epoch=0.731]\n",
      "Validating:  81%|████████▏ | 255/313 [00:27<00:06,  9.26it/s]\u001b[A\n",
      "Epoch 4:  97%|█████████▋| 2132/2188 [10:41<00:16,  3.32it/s, loss=1.68, v_num=28, train_acc_step=0.812, train_acc_epoch=0.731]\n",
      "Validating:  82%|████████▏ | 257/313 [00:27<00:06,  9.29it/s]\u001b[A\n",
      "Epoch 4:  98%|█████████▊| 2134/2188 [10:42<00:16,  3.32it/s, loss=1.68, v_num=28, train_acc_step=0.812, train_acc_epoch=0.731]\n",
      "Validating:  83%|████████▎ | 259/313 [00:27<00:05,  9.28it/s]\u001b[A\n",
      "Epoch 4:  98%|█████████▊| 2136/2188 [10:42<00:15,  3.33it/s, loss=1.68, v_num=28, train_acc_step=0.812, train_acc_epoch=0.731]\n",
      "Validating:  83%|████████▎ | 261/313 [00:27<00:05,  9.29it/s]\u001b[A\n",
      "Epoch 4:  98%|█████████▊| 2138/2188 [10:42<00:15,  3.33it/s, loss=1.68, v_num=28, train_acc_step=0.812, train_acc_epoch=0.731]\n",
      "Validating:  84%|████████▍ | 263/313 [00:27<00:05,  9.26it/s]\u001b[A\n",
      "Epoch 4:  98%|█████████▊| 2140/2188 [10:42<00:14,  3.33it/s, loss=1.68, v_num=28, train_acc_step=0.812, train_acc_epoch=0.731]\n",
      "Validating:  85%|████████▍ | 265/313 [00:28<00:05,  9.28it/s]\u001b[A\n",
      "Epoch 4:  98%|█████████▊| 2142/2188 [10:42<00:13,  3.33it/s, loss=1.68, v_num=28, train_acc_step=0.812, train_acc_epoch=0.731]\n",
      "Validating:  85%|████████▌ | 267/313 [00:28<00:04,  9.31it/s]\u001b[A\n",
      "Epoch 4:  98%|█████████▊| 2144/2188 [10:43<00:13,  3.33it/s, loss=1.68, v_num=28, train_acc_step=0.812, train_acc_epoch=0.731]\n",
      "Validating:  86%|████████▌ | 269/313 [00:28<00:04,  9.31it/s]\u001b[A\n",
      "Epoch 4:  98%|█████████▊| 2146/2188 [10:43<00:12,  3.34it/s, loss=1.68, v_num=28, train_acc_step=0.812, train_acc_epoch=0.731]\n",
      "Validating:  87%|████████▋ | 271/313 [00:28<00:04,  9.31it/s]\u001b[A\n",
      "Epoch 4:  98%|█████████▊| 2148/2188 [10:43<00:11,  3.34it/s, loss=1.68, v_num=28, train_acc_step=0.812, train_acc_epoch=0.731]\n",
      "Validating:  87%|████████▋ | 273/313 [00:29<00:04,  9.29it/s]\u001b[A\n",
      "Epoch 4:  98%|█████████▊| 2150/2188 [10:43<00:11,  3.34it/s, loss=1.68, v_num=28, train_acc_step=0.812, train_acc_epoch=0.731]\n",
      "Validating:  88%|████████▊ | 275/313 [00:29<00:04,  9.30it/s]\u001b[A\n",
      "Epoch 4:  98%|█████████▊| 2152/2188 [10:44<00:10,  3.34it/s, loss=1.68, v_num=28, train_acc_step=0.812, train_acc_epoch=0.731]\n",
      "Validating:  88%|████████▊ | 277/313 [00:29<00:03,  9.27it/s]\u001b[A\n",
      "Epoch 4:  98%|█████████▊| 2154/2188 [10:44<00:10,  3.34it/s, loss=1.68, v_num=28, train_acc_step=0.812, train_acc_epoch=0.731]\n",
      "Validating:  89%|████████▉ | 279/313 [00:29<00:03,  9.28it/s]\u001b[A\n",
      "Epoch 4:  99%|█████████▊| 2156/2188 [10:44<00:09,  3.35it/s, loss=1.68, v_num=28, train_acc_step=0.812, train_acc_epoch=0.731]\n",
      "Validating:  90%|████████▉ | 281/313 [00:29<00:03,  9.25it/s]\u001b[A\n",
      "Epoch 4:  99%|█████████▊| 2158/2188 [10:44<00:08,  3.35it/s, loss=1.68, v_num=28, train_acc_step=0.812, train_acc_epoch=0.731]\n",
      "Validating:  90%|█████████ | 283/313 [00:30<00:03,  9.29it/s]\u001b[A\n",
      "Epoch 4:  99%|█████████▊| 2160/2188 [10:44<00:08,  3.35it/s, loss=1.68, v_num=28, train_acc_step=0.812, train_acc_epoch=0.731]\n",
      "Validating:  91%|█████████ | 285/313 [00:30<00:03,  9.29it/s]\u001b[A\n",
      "Epoch 4:  99%|█████████▉| 2162/2188 [10:45<00:07,  3.35it/s, loss=1.68, v_num=28, train_acc_step=0.812, train_acc_epoch=0.731]\n",
      "Validating:  92%|█████████▏| 287/313 [00:30<00:02,  9.20it/s]\u001b[A\n",
      "Epoch 4:  99%|█████████▉| 2164/2188 [10:45<00:07,  3.35it/s, loss=1.68, v_num=28, train_acc_step=0.812, train_acc_epoch=0.731]\n",
      "Validating:  92%|█████████▏| 289/313 [00:30<00:02,  9.24it/s]\u001b[A\n",
      "Epoch 4:  99%|█████████▉| 2166/2188 [10:45<00:06,  3.36it/s, loss=1.68, v_num=28, train_acc_step=0.812, train_acc_epoch=0.731]\n",
      "Validating:  93%|█████████▎| 291/313 [00:31<00:02,  9.18it/s]\u001b[A\n",
      "Epoch 4:  99%|█████████▉| 2168/2188 [10:45<00:05,  3.36it/s, loss=1.68, v_num=28, train_acc_step=0.812, train_acc_epoch=0.731]\n",
      "Validating:  94%|█████████▎| 293/313 [00:31<00:02,  9.24it/s]\u001b[A\n",
      "Epoch 4:  99%|█████████▉| 2170/2188 [10:45<00:05,  3.36it/s, loss=1.68, v_num=28, train_acc_step=0.812, train_acc_epoch=0.731]\n",
      "Validating:  94%|█████████▍| 295/313 [00:31<00:01,  9.24it/s]\u001b[A\n",
      "Epoch 4:  99%|█████████▉| 2172/2188 [10:46<00:04,  3.36it/s, loss=1.68, v_num=28, train_acc_step=0.812, train_acc_epoch=0.731]\n",
      "Validating:  95%|█████████▍| 297/313 [00:31<00:01,  9.28it/s]\u001b[A\n",
      "Epoch 4:  99%|█████████▉| 2174/2188 [10:46<00:04,  3.36it/s, loss=1.68, v_num=28, train_acc_step=0.812, train_acc_epoch=0.731]\n",
      "Validating:  96%|█████████▌| 299/313 [00:31<00:01,  9.27it/s]\u001b[A\n",
      "Epoch 4:  99%|█████████▉| 2176/2188 [10:46<00:03,  3.37it/s, loss=1.68, v_num=28, train_acc_step=0.812, train_acc_epoch=0.731]\n",
      "Validating:  96%|█████████▌| 301/313 [00:32<00:01,  9.23it/s]\u001b[A\n",
      "Epoch 4: 100%|█████████▉| 2178/2188 [10:46<00:02,  3.37it/s, loss=1.68, v_num=28, train_acc_step=0.812, train_acc_epoch=0.731]\n",
      "Validating:  97%|█████████▋| 303/313 [00:32<00:01,  9.27it/s]\u001b[A\n",
      "Epoch 4: 100%|█████████▉| 2180/2188 [10:47<00:02,  3.37it/s, loss=1.68, v_num=28, train_acc_step=0.812, train_acc_epoch=0.731]\n",
      "Validating:  97%|█████████▋| 305/313 [00:32<00:00,  9.27it/s]\u001b[A\n",
      "Epoch 4: 100%|█████████▉| 2182/2188 [10:47<00:01,  3.37it/s, loss=1.68, v_num=28, train_acc_step=0.812, train_acc_epoch=0.731]\n",
      "Validating:  98%|█████████▊| 307/313 [00:32<00:00,  9.28it/s]\u001b[A\n",
      "Epoch 4: 100%|█████████▉| 2184/2188 [10:47<00:01,  3.37it/s, loss=1.68, v_num=28, train_acc_step=0.812, train_acc_epoch=0.731]\n",
      "Validating:  99%|█████████▊| 309/313 [00:32<00:00,  9.30it/s]\u001b[A\n",
      "Epoch 4: 100%|█████████▉| 2186/2188 [10:47<00:00,  3.37it/s, loss=1.68, v_num=28, train_acc_step=0.812, train_acc_epoch=0.731]\n",
      "Validating:  99%|█████████▉| 311/313 [00:33<00:00,  9.32it/s]\u001b[A\n",
      "Epoch 4: 100%|██████████| 2188/2188 [10:50<00:00,  3.36it/s, loss=1.68, v_num=28, train_acc_step=0.812, train_acc_epoch=0.731]\n",
      "                                                             \u001b[AInitiating GradCAM\n",
      "Unfreezing all layers to calculate gradients\n",
      "Epoch 4: 100%|██████████| 2188/2188 [10:51<00:00,  3.36it/s, loss=1.68, v_num=28, train_acc_step=0.812, train_acc_epoch=0.731]\n"
     ]
    },
    {
     "output_type": "execute_result",
     "data": {
      "text/plain": [
       "1"
      ]
     },
     "metadata": {},
     "execution_count": 16
    }
   ],
   "source": [
    "trainer.fit(model)"
   ]
  },
  {
   "cell_type": "code",
   "execution_count": 19,
   "metadata": {},
   "outputs": [
    {
     "data": {
      "text/plain": [
       "1"
      ]
     },
     "execution_count": 19,
     "metadata": {},
     "output_type": "execute_result"
    }
   ],
   "source": [
    "trainer.test(model)"
   ]
  },
  {
   "cell_type": "code",
   "execution_count": 13,
   "metadata": {},
   "outputs": [],
   "source": [
    "mnist_mobile = VGGNet_MNIST()"
   ]
  },
  {
   "cell_type": "code",
   "execution_count": 14,
   "metadata": {},
   "outputs": [
    {
     "output_type": "stream",
     "name": "stdout",
     "text": [
      "\nbase_model\nbase_model.features\nbase_model.features.0\nbase_model.features.1\nbase_model.features.2\nbase_model.features.3\nbase_model.features.4\nbase_model.features.5\nbase_model.features.6\nbase_model.features.7\nbase_model.features.8\nbase_model.features.9\nbase_model.features.10\nbase_model.features.11\nbase_model.features.12\nbase_model.features.13\nbase_model.features.14\nbase_model.features.15\nbase_model.features.16\nbase_model.features.17\nbase_model.features.18\nbase_model.features.19\nbase_model.features.20\nbase_model.features.21\nbase_model.features.22\nbase_model.features.23\nbase_model.features.24\nbase_model.features.25\nbase_model.features.26\nbase_model.features.27\nbase_model.features.28\nbase_model.features.29\nbase_model.features.30\nbase_model.avgpool\nbase_model.classifier\nbase_model.classifier.0\nbase_model.classifier.1\nbase_model.classifier.2\nbase_model.classifier.3\nbase_model.classifier.4\nbase_model.classifier.5\nbase_model.classifier.6\nfc_layer1\nfc_layer2\ndropout\n"
     ]
    }
   ],
   "source": [
    "for name, module in mnist_mobile.named_modules():\n",
    "    print(name)"
   ]
  },
  {
   "cell_type": "code",
   "execution_count": 20,
   "metadata": {},
   "outputs": [],
   "source": [
    "sample = torch.randn(1,3,224,224).cuda()"
   ]
  },
  {
   "cell_type": "code",
   "execution_count": 3,
   "metadata": {},
   "outputs": [],
   "source": [
    "sample_cpu = torch.randn(4,3,224,224)"
   ]
  },
  {
   "cell_type": "code",
   "execution_count": 4,
   "metadata": {},
   "outputs": [
    {
     "output_type": "execute_result",
     "data": {
      "text/plain": [
       "torch.Size([3, 224, 224])"
      ]
     },
     "metadata": {},
     "execution_count": 4
    }
   ],
   "source": [
    "sample_cpu[0].shape"
   ]
  },
  {
   "cell_type": "code",
   "execution_count": 7,
   "metadata": {},
   "outputs": [],
   "source": [
    "d = torch.unsqueeze(sample_cpu[0],0)"
   ]
  },
  {
   "cell_type": "code",
   "execution_count": 8,
   "metadata": {},
   "outputs": [
    {
     "output_type": "execute_result",
     "data": {
      "text/plain": [
       "torch.Size([1, 3, 224, 224])"
      ]
     },
     "metadata": {},
     "execution_count": 8
    }
   ],
   "source": [
    "d.shape"
   ]
  },
  {
   "cell_type": "code",
   "execution_count": 3,
   "metadata": {},
   "outputs": [],
   "source": [
    "import torch\n",
    "from pytorch_memlab import MemReporter"
   ]
  },
  {
   "cell_type": "code",
   "execution_count": 3,
   "metadata": {},
   "outputs": [],
   "source": [
    "model = MobileNet_MNIST().cuda()\n",
    "#model.to('cuda')"
   ]
  },
  {
   "cell_type": "code",
   "execution_count": 4,
   "metadata": {},
   "outputs": [],
   "source": [
    "gradcam = GradCAM(model=model, single_usage=True)\n",
    "#calculating heatmaps for high loss batch images\n"
   ]
  },
  {
   "cell_type": "code",
   "execution_count": 7,
   "metadata": {},
   "outputs": [],
   "source": [
    "reporter = MemReporter()"
   ]
  },
  {
   "cell_type": "code",
   "execution_count": 5,
   "metadata": {},
   "outputs": [],
   "source": [
    "model.zero_grad()"
   ]
  },
  {
   "cell_type": "code",
   "execution_count": 10,
   "metadata": {
    "tags": []
   },
   "outputs": [],
   "source": [
    "high_batch_seg = torch.randn(32,3,224,224)\n",
    "probs, ids = gradcam.forward(high_batch_seg.cuda())\n",
    "gradcam.backward(ids=ids)\n",
    "regions = gradcam.generate('base_model.features.17.conv.3')"
   ]
  },
  {
   "cell_type": "code",
   "execution_count": 12,
   "metadata": {},
   "outputs": [
    {
     "output_type": "execute_result",
     "data": {
      "text/plain": [
       "(32, 1, 224, 224)"
      ]
     },
     "metadata": {},
     "execution_count": 12
    }
   ],
   "source": [
    "regions.shape"
   ]
  },
  {
   "cell_type": "code",
   "execution_count": 3,
   "metadata": {},
   "outputs": [],
   "source": [
    "def test_func():\n",
    "    model = MobileNet_MNIST().cuda()\n",
    "    gradcam = GradCAM(model=model)\n",
    "    model.zero_grad()\n",
    "    high_batch_seg = torch.randn(4,3,224,224)\n",
    "    probs, ids = gradcam.forward(high_batch_seg.cuda())\n",
    "    gradcam.backward(ids=ids)\n",
    "    regions = gradcam.generate('base_model.features.17.conv.3')"
   ]
  },
  {
   "cell_type": "code",
   "execution_count": 13,
   "metadata": {},
   "outputs": [],
   "source": [
    "torch.cuda.empty_cache()"
   ]
  },
  {
   "cell_type": "code",
   "execution_count": 4,
   "metadata": {},
   "outputs": [],
   "source": [
    "%load_ext pytorch_memlab"
   ]
  },
  {
   "cell_type": "code",
   "execution_count": 25,
   "metadata": {},
   "outputs": [],
   "source": [
    "sample = torch.randn(32,3,224,224)"
   ]
  },
  {
   "cell_type": "code",
   "execution_count": 34,
   "metadata": {},
   "outputs": [
    {
     "output_type": "execute_result",
     "data": {
      "text/plain": [
       "torch.Size([32, 3, 224, 224])"
      ]
     },
     "metadata": {},
     "execution_count": 34
    }
   ],
   "source": [
    "sample.shape"
   ]
  },
  {
   "cell_type": "code",
   "execution_count": 31,
   "metadata": {},
   "outputs": [],
   "source": [
    "a = sample[0,0]"
   ]
  },
  {
   "cell_type": "code",
   "execution_count": 33,
   "metadata": {},
   "outputs": [
    {
     "output_type": "execute_result",
     "data": {
      "text/plain": [
       "torch.Size([224, 224, 1])"
      ]
     },
     "metadata": {},
     "execution_count": 33
    }
   ],
   "source": [
    "a[..., None].shape"
   ]
  },
  {
   "cell_type": "code",
   "execution_count": null,
   "metadata": {},
   "outputs": [],
   "source": []
  }
 ],
 "metadata": {
  "kernelspec": {
   "name": "python3",
   "display_name": "Python 3.7.7 64-bit ('ai-experiments': conda)",
   "metadata": {
    "interpreter": {
     "hash": "cf486d4621c945dcbb398ab31f07069332e213298493c853e1fee6788950a827"
    }
   }
  },
  "language_info": {
   "codemirror_mode": {
    "name": "ipython",
    "version": 3
   },
   "file_extension": ".py",
   "mimetype": "text/x-python",
   "name": "python",
   "nbconvert_exporter": "python",
   "pygments_lexer": "ipython3",
   "version": "3.7.7-final"
  },
  "toc": {
   "base_numbering": 1,
   "nav_menu": {},
   "number_sections": true,
   "sideBar": true,
   "skip_h1_title": false,
   "title_cell": "Table of Contents",
   "title_sidebar": "Contents",
   "toc_cell": true,
   "toc_position": {},
   "toc_section_display": true,
   "toc_window_display": false
  }
 },
 "nbformat": 4,
 "nbformat_minor": 2
}