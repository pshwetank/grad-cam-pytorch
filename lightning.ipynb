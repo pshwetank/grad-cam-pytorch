{
 "cells": [
  {
   "cell_type": "markdown",
   "metadata": {
    "toc": true
   },
   "source": [
    "<h1>Table of Contents<span class=\"tocSkip\"></span></h1>\n",
    "<div class=\"toc\"><ul class=\"toc-item\"></ul></div>"
   ]
  },
  {
   "cell_type": "code",
   "execution_count": 1,
   "metadata": {},
   "outputs": [],
   "source": [
    "import sys\n",
    "import numpy as np\n",
    "import pandas as pd\n",
    "import torch\n",
    "from torchvision import datasets\n",
    "from dataclasses import dataclass\n",
    "import pytorch_lightning as pl\n",
    "from torchvision import models\n",
    "from torchvision import transforms\n",
    "import torch.nn as nn\n",
    "import torch.nn.functional as F\n",
    "from collections import OrderedDict\n",
    "from torch.utils.data import random_split, DataLoader\n",
    "from grad_cam import GradCAM\n",
    "from pytorch_lightning.loggers import CSVLogger\n",
    "from pytorch_lightning import Callback"
   ]
  },
  {
   "cell_type": "code",
   "execution_count": 2,
   "metadata": {},
   "outputs": [],
   "source": [
    "class MobileNet_MNIST(nn.Module):\n",
    "    def __init__(self, fc_size = 800, dropout_prob=0.8):\n",
    "        super(MobileNet_MNIST, self).__init__()\n",
    "        self.base_model = models.mobilenet_v2(pretrained=True)\n",
    "        self.fc_layer1 = nn.Linear(1000, fc_size)\n",
    "        self.fc_layer2 = nn.Linear(fc_size, 10)\n",
    "        self.dropout = nn.Dropout(dropout_prob)\n",
    "        #self.softmax = nn.Softmax()\n",
    "    def forward(self,x):\n",
    "        #x = x.repeat(1,3,1,1)\n",
    "        x = self.base_model(x)\n",
    "        x = self.fc_layer1(x)\n",
    "        x = F.relu(x)\n",
    "        x = self.dropout(x)\n",
    "        x = self.fc_layer2(x)\n",
    "        x = F.relu(x)\n",
    "        #x = self.softmax(x)\n",
    "        return x"
   ]
  },
  {
   "cell_type": "code",
   "execution_count": 11,
   "metadata": {},
   "outputs": [],
   "source": [
    "class Loss_Tracker:\n",
    "    '''\n",
    "    Keep track of running loss values obtained from progressbar callback dictionary and also stores data\n",
    "    about minimum loss, maximum loss and mean loss value for each batch\n",
    "    '''\n",
    "    def __init__(self):\n",
    "        self.loss_arr = np.array([])\n",
    "        self.current_running_loss = None\n",
    "        self.current_batch_loss = None\n",
    "    def update(self, run_loss):\n",
    "        if isinstance(run_loss, float):\n",
    "            if len(self.loss_arr)==0:\n",
    "                #This is the first loss value to be logged\n",
    "                self.loss_arr = np.append(self.loss_arr, run_loss)\n",
    "                self.current_running_loss = run_loss\n",
    "                self.current_batch_loss = run_loss\n",
    "            else:\n",
    "                #Not the first batch. Need to reverse calculate batch loss from runinng loss values\n",
    "                self.current_batch_loss = ((len(self.loss_arr) + 1)*run_loss) - np.sum(self.loss_arr)\n",
    "                self.loss_arr = np.append(self.loss_arr, self.current_batch_loss)\n",
    "                self.current_running_loss = run_loss\n",
    "        elif isinstance(run_loss, torch.Tensor):\n",
    "            #Convert tensor to numpy type\n",
    "            loss_val = run_loss.detach().cpu().numpy()\n",
    "            self.loss_arr = np.append(self.loss_arr, loss_val)\n",
    "            self.current_batch_loss = loss_val\n",
    "            self.current_running_loss = np.mean(self.loss_arr)\n",
    "        \n",
    "    def min_val(self):\n",
    "        if len(self.loss_arr) != 0:\n",
    "            #The loss values are already logged into the array\n",
    "            return np.min(self.loss_arr)\n",
    "        else:\n",
    "            print(\"No loss values logged in module\")\n",
    "            return\n",
    "    def max_val(self):\n",
    "        if len(self.loss_arr) != 0:\n",
    "            #The loss values are already logged into the array\n",
    "            return np.max(self.loss_arr)\n",
    "        else:\n",
    "            print(\"No loss values logged in module\")\n",
    "            return\n",
    "    def is_current_max(self):\n",
    "        #Checks whether current batch loss is the highest loss value till now\n",
    "        if not self.current_batch_loss is None:\n",
    "            if np.max(self.loss_arr) == self.current_batch_loss:\n",
    "                return True\n",
    "            else:\n",
    "                return False\n",
    "        else:\n",
    "            print(\"No loss values are logged into the system.\")\n",
    "    def is_current_min(self):\n",
    "        #Checks whether current batch loss is the highest loss value till now\n",
    "        if not self.current_batch_loss is None:\n",
    "            if np.min(self.loss_arr) == self.current_batch_loss:\n",
    "                return True\n",
    "            else:\n",
    "                return False\n",
    "        else:\n",
    "            print(\"No loss values are logged into the system.\")\n",
    "    def reset(self):\n",
    "        #Required to be done at the end of training epoch\n",
    "        self.loss_arr = np.array([])\n",
    "        self.current_running_loss = None\n",
    "        self.current_batch_loss = None"
   ]
  },
  {
   "cell_type": "code",
   "execution_count": 36,
   "metadata": {},
   "outputs": [],
   "source": [
    "class Interpretation_Callback(Callback):\n",
    "    \"\"\"\n",
    "    Callback to calculate gradient heatmap for model interpretation on the fly. \n",
    "    \"\"\"\n",
    "    def __init__(self, n_samples_max, layer, save_dir, specified_input=None):\n",
    "        \"\"\"\n",
    "        Args:\n",
    "            n_samples_max   : Maximum no of images for whom the gradient images are required to be plotted. If the mini batch size is lower \n",
    "                              than_samples_max, it will plot the heatmap for all the images in a batch\n",
    "            layer           : The layer on which gradient computations is to be performed\n",
    "            save_dir        : Directory in which all the heatmap plots are to be saved\n",
    "            specified_input : If dataloader returns more than a single input, specify the key for the batch dictionary to fetch the correct output. \n",
    "                              If None, _fetch_tensors() method tries to figure out the key that contains the tensor input for model \n",
    "        \"\"\"\n",
    "        super().__init__()\n",
    "        self.n_samples_max = n_samples_max\n",
    "        self.grad_layer = layer\n",
    "        self.save_dir = save_dir\n",
    "        self.specified_input = specified_input\n",
    "        self.track_loss = Loss_Tracker()\n",
    "\n",
    "    def on_train_start(self, trainer, pl_module):\n",
    "        self.low_batch, self.high_batch = None, None #Stores the batch with lowest and highest training loss\n",
    "        self.low_bound_loss, self.high_bound_loss = None, None #Stores the lowest and highest loss value recorded for any batch\n",
    "\n",
    "    def on_train_batch_end(self, trainer, pl_module, outputs, batch, batch_idx, dataloader_idx):\n",
    "        try:\n",
    "            #look for self.train_loss atrribute in training loop\n",
    "            batch_training_loss = pl_module.train_loss\n",
    "            self.track_loss.update(batch_training_loss)\n",
    "        except:\n",
    "            #In case, self.train_loss is not defined, fetch loss data from progressbar \n",
    "            running_train_loss = self._get_loss(trainer.progress_bar_dict)\n",
    "            self.track_loss.update(running_train_loss)\n",
    "        batch_imgs = self._fetch_tensors(batch)\n",
    "        if self.track_loss.is_current_max():\n",
    "            self.high_batch = batch_imgs\n",
    "        if self.track_loss.is_current_min():\n",
    "            self.low_batch = batch_imgs\n",
    "        #Note to self: Write tests to check correct logging\n",
    "\n",
    "    def on_train_epoch_end(self, trainer, pl_module, outputs):\n",
    "        self.track_loss.reset()\n",
    "    \n",
    "    def on_train_end(self, trainer, pl_module):\n",
    "        print(\"Initiating GradCAM\")\n",
    "        self.gradcam = GradCAM(model=pl_module.model)\n",
    "        #calculating heatmaps for high loss batch images\n",
    "        high_batch_seg = torch.unsqueeze(self.high_batch[0],0)\n",
    "        probs, ids = self.gradcam.forward(high_batch_seg.cuda())\n",
    "        self.gradcam.backward(ids=ids)\n",
    "        regions = self.gradcam.generate(self.grad_layer)\n",
    "        \n",
    "    @classmethod\n",
    "    def _fetch_tensors(cls, batch, dict_inp=None):\n",
    "        \"\"\"\n",
    "        Finds out the image tensors in a given batch sample. Since batch might return different kind of inputs, it is necessary to extract the target image\n",
    "        to perform gradient interpretation\n",
    "        \"\"\"\n",
    "        inp_type = type(batch)\n",
    "        if inp_type is torch.Tensor:\n",
    "            return batch\n",
    "        elif inp_type is dict:\n",
    "            if not dict_inp is None:\n",
    "                #When the specific key in a dictionary is already given\n",
    "                tensor_inp = batch[dict_inp]\n",
    "                return tensor_inp\n",
    "            else:\n",
    "                #Interesting case when a specific key is not provided. In such case, try to search for a value with common tensor \n",
    "                #dimensions like (*,3,224,224) or (*,3,512,512) or any 4-dimensional tensor\n",
    "                key = None\n",
    "                for unique_key in batch.keys():\n",
    "                    inp = batch[unique_key]\n",
    "                    if type(inp) is torch.Tensor:\n",
    "                        tensor_dim = len(inp.shape)\n",
    "                        if tensor_dim == 4:\n",
    "                            key = unique_key\n",
    "                if key is None:\n",
    "                    #replace it with error message\n",
    "                    print(\"No value with 4 dimensions found in dictionary. Please check the dictionary structure or specify the key\")\n",
    "                else:\n",
    "                    return batch[key]\n",
    "        else:\n",
    "            #This might be a case where the model returns multiple values at once in form of a tuple or a list. Then it is required to find out which of the\n",
    "            #returned items from batch is an image tensor\n",
    "            n_items = len(batch)\n",
    "            tensor_index = None\n",
    "            for ind in range(n_items):\n",
    "                item = batch[ind]\n",
    "                if type(item) is torch.Tensor:\n",
    "                    tensor_dim = len(item.shape)\n",
    "                    if tensor_dim == 4:\n",
    "                        tensor_index = ind\n",
    "            if tensor_index is None:\n",
    "                #replace it with error message\n",
    "                print(\"No value with 4 dimensional tensor found in batch tuple. Please check the dataloader or return dictionary to avoid such errors\")\n",
    "            else:\n",
    "                return batch[tensor_index]\n",
    "\n",
    "    @classmethod\n",
    "    def _get_loss(cls, outputs):\n",
    "        \"\"\"\n",
    "        Get the loss value from the outputs of training_step. Generally, the output will be either directly a loss value or a dictionary containing one \n",
    "        of the entries as loss value \n",
    "        \"\"\"\n",
    "        if type(outputs) is torch.Tensor and len(outputs.shape) == 0:\n",
    "            #Usually a rare case when training_loop is directly returning loss value\n",
    "            return outputs\n",
    "        else:\n",
    "            #In such case, the training_step is in form of an ordered dictionary that will definitely contain a 'loss' key\n",
    "            loss_val = float(outputs['loss'])\n",
    "            return loss_val\n",
    "             "
   ]
  },
  {
   "cell_type": "code",
   "execution_count": 44,
   "metadata": {},
   "outputs": [],
   "source": [
    "class Explainer_Classifier(pl.LightningModule):\n",
    "    def __init__(self, hparams):\n",
    "        super(Explainer_Classifier, self).__init__()\n",
    "        self.hparams = hparams\n",
    "        self.model = MobileNet_MNIST()\n",
    "        self.criterion = nn.CrossEntropyLoss()\n",
    "        self.dset = []\n",
    "        \n",
    "    def forward(self, x):\n",
    "        return self.model(x)\n",
    "\n",
    "    def apply_GradCam(self, images, target_layer):\n",
    "        probs, ids = self.gcam.forward(images)    \n",
    "        self.gcam.backward(ids=ids)\n",
    "\n",
    "    def training_step(self, batch, batch_idx):\n",
    "        data, labels = batch\n",
    "        outputs = self.forward(data)\n",
    "        train_loss = self.criterion(outputs, labels)\n",
    "        self.log('train_loss',train_loss)\n",
    "        return train_loss\n",
    "    \n",
    "    def validation_step(self, batch, batch_idx):\n",
    "        data, labels = batch\n",
    "        outputs = self.forward(data)\n",
    "        lbls = labels.type(torch.cuda.LongTensor)\n",
    "        val_loss = self.criterion(outputs, labels)\n",
    "        self.log('val_loss', val_loss)\n",
    "        return val_loss\n",
    "\n",
    "    def configure_optimizers(self):\n",
    "        optimizer = torch.optim.Adam(self.parameters(), lr=self.hparams.lr)\n",
    "        #scheduler = torch.optim.lr_scheduler.ExponentialLR(optimizer, gamma = 0.1)\n",
    "        return [optimizer]#, [scheduler]\n",
    "\n",
    "    def train_dataloader(self):\n",
    "        train_dataset = datasets.MNIST(\n",
    "                            'dataset/', train=True, download=True,\n",
    "                            transform = transforms.Compose([transforms.Resize((224,224)), transforms.ToTensor(),\n",
    "                            transforms.Normalize((0.5),(0.5)), transforms.Lambda(lambda x:x.repeat(3,1,1))]))\n",
    "        train_dataloader = DataLoader(train_dataset, batch_size=self.hparams.batch_size, num_workers=4)\n",
    "        return train_dataloader\n",
    "\n",
    "    def val_dataloader(self):\n",
    "        val_dataset = datasets.MNIST(\n",
    "                            'dataset/', train=False, download=True,\n",
    "                            transform = transforms.Compose([transforms.Resize((224,224)), transforms.ToTensor(),\n",
    "                            transforms.Normalize((0.5),(0.5)), transforms.Lambda(lambda x:x.repeat(3,1,1))]))\n",
    "        val_dataloader = DataLoader(val_dataset, batch_size=self.hparams.batch_size, num_workers=4)\n",
    "        return val_dataloader\n",
    " "
   ]
  },
  {
   "cell_type": "code",
   "execution_count": 45,
   "metadata": {},
   "outputs": [],
   "source": [
    "hyper_params = {'batch_size':64, 'lr':0.001, 'n_epochs':1}"
   ]
  },
  {
   "cell_type": "code",
   "execution_count": 46,
   "metadata": {},
   "outputs": [],
   "source": [
    "#hyper_params = hparams_vals\n",
    "model = Explainer_Classifier(hyper_params)"
   ]
  },
  {
   "cell_type": "code",
   "execution_count": 47,
   "metadata": {},
   "outputs": [],
   "source": [
    "#Adding CSV logger to keep track of sample loss in order to look out for low loss and high loss examples\n",
    "csv_logger = CSVLogger(\"training_logs\", name=\"mnist_gradcam\")"
   ]
  },
  {
   "cell_type": "code",
   "execution_count": 48,
   "metadata": {},
   "outputs": [],
   "source": [
    "grad_cam_callback = Interpretation_Callback(10,'base_model.features.17.conv.3','gradcam/')"
   ]
  },
  {
   "cell_type": "code",
   "execution_count": 49,
   "metadata": {},
   "outputs": [
    {
     "output_type": "stream",
     "name": "stderr",
     "text": [
      "GPU available: True, used: True\n",
      "TPU available: None, using: 0 TPU cores\n",
      "LOCAL_RANK: 0 - CUDA_VISIBLE_DEVICES: [0]\n"
     ]
    }
   ],
   "source": [
    "trainer = pl.Trainer(gpus=1, \n",
    "            max_epochs=hyper_params['n_epochs'],\n",
    "            callbacks=[grad_cam_callback])"
   ]
  },
  {
   "cell_type": "code",
   "execution_count": 50,
   "metadata": {
    "scrolled": true
   },
   "outputs": [
    {
     "output_type": "stream",
     "name": "stderr",
     "text": [
      "\n  | Name      | Type             | Params\n-----------------------------------------------\n0 | model     | MobileNet_MNIST  | 4.3 M \n1 | criterion | CrossEntropyLoss | 0     \n-----------------------------------------------\n4.3 M     Trainable params\n0         Non-trainable params\n4.3 M     Total params\n"
     ]
    },
    {
     "output_type": "display_data",
     "data": {
      "text/plain": "HBox(children=(FloatProgress(value=1.0, bar_style='info', description='Validation sanity check', layout=Layout…",
      "application/vnd.jupyter.widget-view+json": {
       "version_major": 2,
       "version_minor": 0,
       "model_id": "53b837d02a344948bc6b77498aced001"
      }
     },
     "metadata": {}
    },
    {
     "output_type": "display_data",
     "data": {
      "text/plain": "HBox(children=(FloatProgress(value=1.0, bar_style='info', description='Training', layout=Layout(flex='2'), max…",
      "application/vnd.jupyter.widget-view+json": {
       "version_major": 2,
       "version_minor": 0,
       "model_id": "dc78f73a321b4f7fa0a952e6b6d394c4"
      }
     },
     "metadata": {}
    },
    {
     "output_type": "display_data",
     "data": {
      "text/plain": "HBox(children=(FloatProgress(value=1.0, bar_style='info', description='Validating', layout=Layout(flex='2'), m…",
      "application/vnd.jupyter.widget-view+json": {
       "version_major": 2,
       "version_minor": 0,
       "model_id": "a22f8c59f0084d938e1a8a5a473b4ddf"
      }
     },
     "metadata": {}
    },
    {
     "output_type": "stream",
     "name": "stdout",
     "text": [
      "Initiating GradCAM\n\n"
     ]
    },
    {
     "output_type": "execute_result",
     "data": {
      "text/plain": [
       "1"
      ]
     },
     "metadata": {},
     "execution_count": 50
    }
   ],
   "source": [
    "trainer.fit(model)"
   ]
  },
  {
   "cell_type": "code",
   "execution_count": 19,
   "metadata": {},
   "outputs": [
    {
     "data": {
      "text/plain": [
       "1"
      ]
     },
     "execution_count": 19,
     "metadata": {},
     "output_type": "execute_result"
    }
   ],
   "source": [
    "trainer.test(model)"
   ]
  },
  {
   "cell_type": "code",
   "execution_count": 4,
   "metadata": {},
   "outputs": [],
   "source": [
    "mnist_mobile = MobileNet_MNIST()"
   ]
  },
  {
   "cell_type": "code",
   "execution_count": 6,
   "metadata": {},
   "outputs": [
    {
     "name": "stdout",
     "output_type": "stream",
     "text": [
      "\n",
      "base_model\n",
      "base_model.features\n",
      "base_model.features.0\n",
      "base_model.features.0.0\n",
      "base_model.features.0.1\n",
      "base_model.features.0.2\n",
      "base_model.features.1\n",
      "base_model.features.1.conv\n",
      "base_model.features.1.conv.0\n",
      "base_model.features.1.conv.0.0\n",
      "base_model.features.1.conv.0.1\n",
      "base_model.features.1.conv.0.2\n",
      "base_model.features.1.conv.1\n",
      "base_model.features.1.conv.2\n",
      "base_model.features.2\n",
      "base_model.features.2.conv\n",
      "base_model.features.2.conv.0\n",
      "base_model.features.2.conv.0.0\n",
      "base_model.features.2.conv.0.1\n",
      "base_model.features.2.conv.0.2\n",
      "base_model.features.2.conv.1\n",
      "base_model.features.2.conv.1.0\n",
      "base_model.features.2.conv.1.1\n",
      "base_model.features.2.conv.1.2\n",
      "base_model.features.2.conv.2\n",
      "base_model.features.2.conv.3\n",
      "base_model.features.3\n",
      "base_model.features.3.conv\n",
      "base_model.features.3.conv.0\n",
      "base_model.features.3.conv.0.0\n",
      "base_model.features.3.conv.0.1\n",
      "base_model.features.3.conv.0.2\n",
      "base_model.features.3.conv.1\n",
      "base_model.features.3.conv.1.0\n",
      "base_model.features.3.conv.1.1\n",
      "base_model.features.3.conv.1.2\n",
      "base_model.features.3.conv.2\n",
      "base_model.features.3.conv.3\n",
      "base_model.features.4\n",
      "base_model.features.4.conv\n",
      "base_model.features.4.conv.0\n",
      "base_model.features.4.conv.0.0\n",
      "base_model.features.4.conv.0.1\n",
      "base_model.features.4.conv.0.2\n",
      "base_model.features.4.conv.1\n",
      "base_model.features.4.conv.1.0\n",
      "base_model.features.4.conv.1.1\n",
      "base_model.features.4.conv.1.2\n",
      "base_model.features.4.conv.2\n",
      "base_model.features.4.conv.3\n",
      "base_model.features.5\n",
      "base_model.features.5.conv\n",
      "base_model.features.5.conv.0\n",
      "base_model.features.5.conv.0.0\n",
      "base_model.features.5.conv.0.1\n",
      "base_model.features.5.conv.0.2\n",
      "base_model.features.5.conv.1\n",
      "base_model.features.5.conv.1.0\n",
      "base_model.features.5.conv.1.1\n",
      "base_model.features.5.conv.1.2\n",
      "base_model.features.5.conv.2\n",
      "base_model.features.5.conv.3\n",
      "base_model.features.6\n",
      "base_model.features.6.conv\n",
      "base_model.features.6.conv.0\n",
      "base_model.features.6.conv.0.0\n",
      "base_model.features.6.conv.0.1\n",
      "base_model.features.6.conv.0.2\n",
      "base_model.features.6.conv.1\n",
      "base_model.features.6.conv.1.0\n",
      "base_model.features.6.conv.1.1\n",
      "base_model.features.6.conv.1.2\n",
      "base_model.features.6.conv.2\n",
      "base_model.features.6.conv.3\n",
      "base_model.features.7\n",
      "base_model.features.7.conv\n",
      "base_model.features.7.conv.0\n",
      "base_model.features.7.conv.0.0\n",
      "base_model.features.7.conv.0.1\n",
      "base_model.features.7.conv.0.2\n",
      "base_model.features.7.conv.1\n",
      "base_model.features.7.conv.1.0\n",
      "base_model.features.7.conv.1.1\n",
      "base_model.features.7.conv.1.2\n",
      "base_model.features.7.conv.2\n",
      "base_model.features.7.conv.3\n",
      "base_model.features.8\n",
      "base_model.features.8.conv\n",
      "base_model.features.8.conv.0\n",
      "base_model.features.8.conv.0.0\n",
      "base_model.features.8.conv.0.1\n",
      "base_model.features.8.conv.0.2\n",
      "base_model.features.8.conv.1\n",
      "base_model.features.8.conv.1.0\n",
      "base_model.features.8.conv.1.1\n",
      "base_model.features.8.conv.1.2\n",
      "base_model.features.8.conv.2\n",
      "base_model.features.8.conv.3\n",
      "base_model.features.9\n",
      "base_model.features.9.conv\n",
      "base_model.features.9.conv.0\n",
      "base_model.features.9.conv.0.0\n",
      "base_model.features.9.conv.0.1\n",
      "base_model.features.9.conv.0.2\n",
      "base_model.features.9.conv.1\n",
      "base_model.features.9.conv.1.0\n",
      "base_model.features.9.conv.1.1\n",
      "base_model.features.9.conv.1.2\n",
      "base_model.features.9.conv.2\n",
      "base_model.features.9.conv.3\n",
      "base_model.features.10\n",
      "base_model.features.10.conv\n",
      "base_model.features.10.conv.0\n",
      "base_model.features.10.conv.0.0\n",
      "base_model.features.10.conv.0.1\n",
      "base_model.features.10.conv.0.2\n",
      "base_model.features.10.conv.1\n",
      "base_model.features.10.conv.1.0\n",
      "base_model.features.10.conv.1.1\n",
      "base_model.features.10.conv.1.2\n",
      "base_model.features.10.conv.2\n",
      "base_model.features.10.conv.3\n",
      "base_model.features.11\n",
      "base_model.features.11.conv\n",
      "base_model.features.11.conv.0\n",
      "base_model.features.11.conv.0.0\n",
      "base_model.features.11.conv.0.1\n",
      "base_model.features.11.conv.0.2\n",
      "base_model.features.11.conv.1\n",
      "base_model.features.11.conv.1.0\n",
      "base_model.features.11.conv.1.1\n",
      "base_model.features.11.conv.1.2\n",
      "base_model.features.11.conv.2\n",
      "base_model.features.11.conv.3\n",
      "base_model.features.12\n",
      "base_model.features.12.conv\n",
      "base_model.features.12.conv.0\n",
      "base_model.features.12.conv.0.0\n",
      "base_model.features.12.conv.0.1\n",
      "base_model.features.12.conv.0.2\n",
      "base_model.features.12.conv.1\n",
      "base_model.features.12.conv.1.0\n",
      "base_model.features.12.conv.1.1\n",
      "base_model.features.12.conv.1.2\n",
      "base_model.features.12.conv.2\n",
      "base_model.features.12.conv.3\n",
      "base_model.features.13\n",
      "base_model.features.13.conv\n",
      "base_model.features.13.conv.0\n",
      "base_model.features.13.conv.0.0\n",
      "base_model.features.13.conv.0.1\n",
      "base_model.features.13.conv.0.2\n",
      "base_model.features.13.conv.1\n",
      "base_model.features.13.conv.1.0\n",
      "base_model.features.13.conv.1.1\n",
      "base_model.features.13.conv.1.2\n",
      "base_model.features.13.conv.2\n",
      "base_model.features.13.conv.3\n",
      "base_model.features.14\n",
      "base_model.features.14.conv\n",
      "base_model.features.14.conv.0\n",
      "base_model.features.14.conv.0.0\n",
      "base_model.features.14.conv.0.1\n",
      "base_model.features.14.conv.0.2\n",
      "base_model.features.14.conv.1\n",
      "base_model.features.14.conv.1.0\n",
      "base_model.features.14.conv.1.1\n",
      "base_model.features.14.conv.1.2\n",
      "base_model.features.14.conv.2\n",
      "base_model.features.14.conv.3\n",
      "base_model.features.15\n",
      "base_model.features.15.conv\n",
      "base_model.features.15.conv.0\n",
      "base_model.features.15.conv.0.0\n",
      "base_model.features.15.conv.0.1\n",
      "base_model.features.15.conv.0.2\n",
      "base_model.features.15.conv.1\n",
      "base_model.features.15.conv.1.0\n",
      "base_model.features.15.conv.1.1\n",
      "base_model.features.15.conv.1.2\n",
      "base_model.features.15.conv.2\n",
      "base_model.features.15.conv.3\n",
      "base_model.features.16\n",
      "base_model.features.16.conv\n",
      "base_model.features.16.conv.0\n",
      "base_model.features.16.conv.0.0\n",
      "base_model.features.16.conv.0.1\n",
      "base_model.features.16.conv.0.2\n",
      "base_model.features.16.conv.1\n",
      "base_model.features.16.conv.1.0\n",
      "base_model.features.16.conv.1.1\n",
      "base_model.features.16.conv.1.2\n",
      "base_model.features.16.conv.2\n",
      "base_model.features.16.conv.3\n",
      "base_model.features.17\n",
      "base_model.features.17.conv\n",
      "base_model.features.17.conv.0\n",
      "base_model.features.17.conv.0.0\n",
      "base_model.features.17.conv.0.1\n",
      "base_model.features.17.conv.0.2\n",
      "base_model.features.17.conv.1\n",
      "base_model.features.17.conv.1.0\n",
      "base_model.features.17.conv.1.1\n",
      "base_model.features.17.conv.1.2\n",
      "base_model.features.17.conv.2\n",
      "base_model.features.17.conv.3\n",
      "base_model.features.18\n",
      "base_model.features.18.0\n",
      "base_model.features.18.1\n",
      "base_model.features.18.2\n",
      "base_model.classifier\n",
      "base_model.classifier.0\n",
      "base_model.classifier.1\n",
      "fc_layer1\n",
      "fc_layer2\n",
      "dropout\n"
     ]
    }
   ],
   "source": [
    "for name, module in mnist_mobile.named_modules():\n",
    "    print(name)"
   ]
  },
  {
   "cell_type": "code",
   "execution_count": 20,
   "metadata": {},
   "outputs": [],
   "source": [
    "sample = torch.randn(1,3,224,224).cuda()"
   ]
  },
  {
   "cell_type": "code",
   "execution_count": 3,
   "metadata": {},
   "outputs": [],
   "source": [
    "sample_cpu = torch.randn(4,3,224,224)"
   ]
  },
  {
   "cell_type": "code",
   "execution_count": 4,
   "metadata": {},
   "outputs": [
    {
     "output_type": "execute_result",
     "data": {
      "text/plain": [
       "torch.Size([3, 224, 224])"
      ]
     },
     "metadata": {},
     "execution_count": 4
    }
   ],
   "source": [
    "sample_cpu[0].shape"
   ]
  },
  {
   "cell_type": "code",
   "execution_count": 7,
   "metadata": {},
   "outputs": [],
   "source": [
    "d = torch.unsqueeze(sample_cpu[0],0)"
   ]
  },
  {
   "cell_type": "code",
   "execution_count": 8,
   "metadata": {},
   "outputs": [
    {
     "output_type": "execute_result",
     "data": {
      "text/plain": [
       "torch.Size([1, 3, 224, 224])"
      ]
     },
     "metadata": {},
     "execution_count": 8
    }
   ],
   "source": [
    "d.shape"
   ]
  },
  {
   "cell_type": "code",
   "execution_count": 3,
   "metadata": {},
   "outputs": [],
   "source": [
    "model = MobileNet_MNIST().cuda()\n",
    "#model.to('cuda')"
   ]
  },
  {
   "cell_type": "code",
   "execution_count": 4,
   "metadata": {},
   "outputs": [],
   "source": [
    "gradcam = GradCAM(model=model)\n",
    "#calculating heatmaps for high loss batch images\n"
   ]
  },
  {
   "cell_type": "code",
   "execution_count": 5,
   "metadata": {},
   "outputs": [],
   "source": [
    "model.zero_grad()"
   ]
  },
  {
   "cell_type": "code",
   "execution_count": 6,
   "metadata": {},
   "outputs": [],
   "source": [
    "high_batch_seg = torch.randn(32,3,224,224)\n",
    "probs, ids = gradcam.forward(high_batch_seg.cuda())\n",
    "gradcam.backward(ids=ids)\n",
    "regions = gradcam.generate('base_model.features.17.conv.3')"
   ]
  },
  {
   "cell_type": "code",
   "execution_count": null,
   "metadata": {},
   "outputs": [],
   "source": []
  }
 ],
 "metadata": {
  "kernelspec": {
   "name": "python3",
   "display_name": "Python 3.7.7 64-bit ('ai-experiments': conda)",
   "metadata": {
    "interpreter": {
     "hash": "cf486d4621c945dcbb398ab31f07069332e213298493c853e1fee6788950a827"
    }
   }
  },
  "language_info": {
   "codemirror_mode": {
    "name": "ipython",
    "version": 3
   },
   "file_extension": ".py",
   "mimetype": "text/x-python",
   "name": "python",
   "nbconvert_exporter": "python",
   "pygments_lexer": "ipython3",
   "version": "3.7.7-final"
  },
  "toc": {
   "base_numbering": 1,
   "nav_menu": {},
   "number_sections": true,
   "sideBar": true,
   "skip_h1_title": false,
   "title_cell": "Table of Contents",
   "title_sidebar": "Contents",
   "toc_cell": true,
   "toc_position": {},
   "toc_section_display": true,
   "toc_window_display": false
  }
 },
 "nbformat": 4,
 "nbformat_minor": 2
}