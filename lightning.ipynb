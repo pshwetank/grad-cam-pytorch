{
 "cells": [
  {
   "cell_type": "markdown",
   "metadata": {
    "toc": true
   },
   "source": [
    "<h1>Table of Contents<span class=\"tocSkip\"></span></h1>\n",
    "<div class=\"toc\"><ul class=\"toc-item\"></ul></div>"
   ]
  },
  {
   "cell_type": "code",
   "execution_count": 1,
   "metadata": {},
   "outputs": [],
   "source": [
    "import sys\n",
    "import numpy as np\n",
    "import pandas as pd\n",
    "import torch\n",
    "from torchvision import datasets\n",
    "from dataclasses import dataclass\n",
    "import pytorch_lightning as pl\n",
    "from torchvision import models\n",
    "from torchvision import transforms\n",
    "import torch.nn as nn\n",
    "import torch.nn.functional as F\n",
    "from collections import OrderedDict\n",
    "from torch.utils.data import random_split, DataLoader\n",
    "from grad_cam import GradCAM"
   ]
  },
  {
   "cell_type": "code",
   "execution_count": 2,
   "metadata": {},
   "outputs": [],
   "source": [
    "class MobileNet_MNIST(nn.Module):\n",
    "    def __init__(self, fc_size = 800, dropout_prob=0.8):\n",
    "        super(MobileNet_MNIST, self).__init__()\n",
    "        self.base_model = models.mobilenet_v2(pretrained=True)\n",
    "        self.fc_layer1 = nn.Linear(1000, fc_size)\n",
    "        self.fc_layer2 = nn.Linear(fc_size, 10)\n",
    "        self.dropout = nn.Dropout(dropout_prob)\n",
    "        #self.softmax = nn.Softmax()\n",
    "    def forward(self,x):\n",
    "        #x = x.repeat(1,3,1,1)\n",
    "        x = self.base_model(x)\n",
    "        x = self.fc_layer1(x)\n",
    "        x = F.relu(x)\n",
    "        x = self.dropout(x)\n",
    "        x = self.fc_layer2(x)\n",
    "        x = F.relu(x)\n",
    "        #x = self.softmax(x)\n",
    "        return x"
   ]
  },
  {
   "cell_type": "code",
   "execution_count": 3,
   "metadata": {},
   "outputs": [],
   "source": [
    "class Explainer_Classifier(pl.LightningModule):\n",
    "    def __init__(self, hparams):\n",
    "        super(Explainer_Classifier, self).__init__()\n",
    "        self.hparams = hparams\n",
    "        self.model = MobileNet_MNIST()\n",
    "        self.criterion = nn.CrossEntropyLoss()\n",
    "        self.gcam = GradCAM(model=self.model)\n",
    "        \n",
    "    def forward(self, x):\n",
    "        return self.model(x)\n",
    "\n",
    "    def apply_GradCam(self, images, labels, target_layers):\n",
    "        probs, ids = self.gcam.forward(images)\n",
    "        #print(probs.shape)\n",
    "        #print(ids.shape)\n",
    "        \n",
    "        self.gcam.backward(ids=ids)\n",
    "        #regions = self.gcam.generate(target_layer=target_layers)\n",
    "        #sys.exit()\n",
    "\n",
    "    def training_step(self, batch, batch_idx):\n",
    "        data, labels = batch\n",
    "        outputs = self.forward(data)\n",
    "        model_layer = 'base_model.features.17.conv.3'\n",
    "        self.apply_GradCam(data, labels, target_layers=model_layer)\n",
    "        train_loss = self.criterion(outputs, labels)\n",
    "        #sys.exit()\n",
    "        tqdm_dict = {'train_loss':train_loss}\n",
    "        outputs = OrderedDict({\n",
    "            'loss':train_loss,\n",
    "            'progressbar':tqdm_dict,\n",
    "            'log':tqdm_dict\n",
    "        })\n",
    "        \n",
    "        return outputs\n",
    "    \n",
    "    def validation_step(self, batch, batch_idx):\n",
    "        data, labels = batch\n",
    "        #model_layer = 'base_model.features.17.conv.3'\n",
    "        outputs = self.forward(data)\n",
    "        lbls = labels.type(torch.cuda.LongTensor)\n",
    "        #self.apply_GradCam(data, labels, target_layers=model_layer)\n",
    "        val_loss = self.criterion(outputs, labels)\n",
    "        tqdm_dict = {'val_loss':val_loss}\n",
    "        outputs = OrderedDict({\n",
    "            'loss':val_loss,\n",
    "            'progressbar':tqdm_dict,\n",
    "            'log':tqdm_dict\n",
    "        })\n",
    "        return outputs\n",
    "\n",
    "    def test_step(self, batch, batch_idx):\n",
    "        data, labels = batch\n",
    "        model_layer = 'base_model.features.17.conv.3'\n",
    "        self.apply_GradCam(data, labels, target_layers=model_layer)\n",
    "\n",
    "    def configure_optimizers(self):\n",
    "        optimizer = torch.optim.Adam(self.parameters(), lr=self.hparams.lr)\n",
    "        #scheduler = torch.optim.lr_scheduler.ExponentialLR(optimizer, gamma = 0.1)\n",
    "        return [optimizer]#, [scheduler]\n",
    "\n",
    "    def train_dataloader(self):\n",
    "        train_dataset = datasets.MNIST(\n",
    "                            'dataset/', train=True, download=True,\n",
    "                            transform = transforms.Compose([transforms.Resize((224,224)), transforms.ToTensor(),\n",
    "                            transforms.Normalize((0.5),(0.5)), transforms.Lambda(lambda x:x.repeat(3,1,1))]))\n",
    "        train_dataloader = DataLoader(train_dataset, batch_size=self.hparams.batch_size)\n",
    "        return train_dataloader\n",
    "\n",
    "    def val_dataloader(self):\n",
    "        val_dataset = datasets.MNIST(\n",
    "                            'dataset/', train=False, download=True,\n",
    "                            transform = transforms.Compose([transforms.Resize((224,224)), transforms.ToTensor(),\n",
    "                            transforms.Normalize((0.5),(0.5)), transforms.Lambda(lambda x:x.repeat(3,1,1))]))\n",
    "        val_dataloader = DataLoader(val_dataset, batch_size=self.hparams.batch_size)\n",
    "        return val_dataloader\n",
    "\n",
    "    def test_dataloader(self):\n",
    "        test_dataset = datasets.MNIST(\n",
    "                            'dataset/', train=False, download=True,\n",
    "                            transform = transforms.Compose([transforms.Resize((224,224)), transforms.ToTensor(),\n",
    "                            transforms.Normalize((0.5),(0.5)), transforms.Lambda(lambda x:x.repeat(3,1,1))]))\n",
    "        test_dataloader = DataLoader(test_dataset, batch_size=self.hparams.batch_size)\n",
    "        return test_dataloader    "
   ]
  },
  {
   "cell_type": "code",
   "execution_count": 4,
   "metadata": {},
   "outputs": [],
   "source": [
    "hyper_params = {'batch_size':1, 'lr':0.001, 'n_epochs':1}"
   ]
  },
  {
   "cell_type": "code",
   "execution_count": 5,
   "metadata": {},
   "outputs": [],
   "source": [
    "#hyper_params = hparams_vals\n",
    "model = Explainer_Classifier(hyper_params)"
   ]
  },
  {
   "cell_type": "code",
   "execution_count": 6,
   "metadata": {},
   "outputs": [
    {
     "output_type": "stream",
     "name": "stderr",
     "text": [
      "GPU available: True, used: True\n",
      "TPU available: False, using: 0 TPU cores\n",
      "CUDA_VISIBLE_DEVICES: [0]\n"
     ]
    }
   ],
   "source": [
    "trainer = pl.Trainer(gpus=1, max_epochs=hyper_params['n_epochs'])"
   ]
  },
  {
   "cell_type": "code",
   "execution_count": 7,
   "metadata": {
    "scrolled": false
   },
   "outputs": [
    {
     "output_type": "stream",
     "name": "stderr",
     "text": [
      "\n  | Name      | Type             | Params\n-----------------------------------------------\n0 | model     | MobileNet_MNIST  | 4 M   \n1 | criterion | CrossEntropyLoss | 0     \n"
     ]
    },
    {
     "output_type": "display_data",
     "data": {
      "text/plain": "HBox(children=(FloatProgress(value=1.0, bar_style='info', description='Validation sanity check', layout=Layout…",
      "application/vnd.jupyter.widget-view+json": {
       "version_major": 2,
       "version_minor": 0,
       "model_id": "da2dee0a519945389664eb0e1504a933"
      }
     },
     "metadata": {}
    },
    {
     "output_type": "display_data",
     "data": {
      "text/plain": "HBox(children=(FloatProgress(value=1.0, bar_style='info', description='Training', layout=Layout(flex='2'), max…",
      "application/vnd.jupyter.widget-view+json": {
       "version_major": 2,
       "version_minor": 0,
       "model_id": "8161f544497e4430941d4cb092acbd0f"
      }
     },
     "metadata": {}
    },
    {
     "output_type": "stream",
     "name": "stderr",
     "text": [
      "Saving latest checkpoint..\n",
      "\n"
     ]
    },
    {
     "output_type": "execute_result",
     "data": {
      "text/plain": [
       "1"
      ]
     },
     "metadata": {},
     "execution_count": 7
    }
   ],
   "source": [
    "trainer.fit(model)"
   ]
  },
  {
   "cell_type": "code",
   "execution_count": null,
   "metadata": {},
   "outputs": [],
   "source": [
    "trainer.test(model)"
   ]
  },
  {
   "cell_type": "code",
   "execution_count": 4,
   "metadata": {},
   "outputs": [],
   "source": [
    "mnist_mobile = MobileNet_MNIST()"
   ]
  },
  {
   "cell_type": "code",
   "execution_count": 6,
   "metadata": {},
   "outputs": [
    {
     "output_type": "stream",
     "name": "stdout",
     "text": [
      "\nbase_model\nbase_model.features\nbase_model.features.0\nbase_model.features.0.0\nbase_model.features.0.1\nbase_model.features.0.2\nbase_model.features.1\nbase_model.features.1.conv\nbase_model.features.1.conv.0\nbase_model.features.1.conv.0.0\nbase_model.features.1.conv.0.1\nbase_model.features.1.conv.0.2\nbase_model.features.1.conv.1\nbase_model.features.1.conv.2\nbase_model.features.2\nbase_model.features.2.conv\nbase_model.features.2.conv.0\nbase_model.features.2.conv.0.0\nbase_model.features.2.conv.0.1\nbase_model.features.2.conv.0.2\nbase_model.features.2.conv.1\nbase_model.features.2.conv.1.0\nbase_model.features.2.conv.1.1\nbase_model.features.2.conv.1.2\nbase_model.features.2.conv.2\nbase_model.features.2.conv.3\nbase_model.features.3\nbase_model.features.3.conv\nbase_model.features.3.conv.0\nbase_model.features.3.conv.0.0\nbase_model.features.3.conv.0.1\nbase_model.features.3.conv.0.2\nbase_model.features.3.conv.1\nbase_model.features.3.conv.1.0\nbase_model.features.3.conv.1.1\nbase_model.features.3.conv.1.2\nbase_model.features.3.conv.2\nbase_model.features.3.conv.3\nbase_model.features.4\nbase_model.features.4.conv\nbase_model.features.4.conv.0\nbase_model.features.4.conv.0.0\nbase_model.features.4.conv.0.1\nbase_model.features.4.conv.0.2\nbase_model.features.4.conv.1\nbase_model.features.4.conv.1.0\nbase_model.features.4.conv.1.1\nbase_model.features.4.conv.1.2\nbase_model.features.4.conv.2\nbase_model.features.4.conv.3\nbase_model.features.5\nbase_model.features.5.conv\nbase_model.features.5.conv.0\nbase_model.features.5.conv.0.0\nbase_model.features.5.conv.0.1\nbase_model.features.5.conv.0.2\nbase_model.features.5.conv.1\nbase_model.features.5.conv.1.0\nbase_model.features.5.conv.1.1\nbase_model.features.5.conv.1.2\nbase_model.features.5.conv.2\nbase_model.features.5.conv.3\nbase_model.features.6\nbase_model.features.6.conv\nbase_model.features.6.conv.0\nbase_model.features.6.conv.0.0\nbase_model.features.6.conv.0.1\nbase_model.features.6.conv.0.2\nbase_model.features.6.conv.1\nbase_model.features.6.conv.1.0\nbase_model.features.6.conv.1.1\nbase_model.features.6.conv.1.2\nbase_model.features.6.conv.2\nbase_model.features.6.conv.3\nbase_model.features.7\nbase_model.features.7.conv\nbase_model.features.7.conv.0\nbase_model.features.7.conv.0.0\nbase_model.features.7.conv.0.1\nbase_model.features.7.conv.0.2\nbase_model.features.7.conv.1\nbase_model.features.7.conv.1.0\nbase_model.features.7.conv.1.1\nbase_model.features.7.conv.1.2\nbase_model.features.7.conv.2\nbase_model.features.7.conv.3\nbase_model.features.8\nbase_model.features.8.conv\nbase_model.features.8.conv.0\nbase_model.features.8.conv.0.0\nbase_model.features.8.conv.0.1\nbase_model.features.8.conv.0.2\nbase_model.features.8.conv.1\nbase_model.features.8.conv.1.0\nbase_model.features.8.conv.1.1\nbase_model.features.8.conv.1.2\nbase_model.features.8.conv.2\nbase_model.features.8.conv.3\nbase_model.features.9\nbase_model.features.9.conv\nbase_model.features.9.conv.0\nbase_model.features.9.conv.0.0\nbase_model.features.9.conv.0.1\nbase_model.features.9.conv.0.2\nbase_model.features.9.conv.1\nbase_model.features.9.conv.1.0\nbase_model.features.9.conv.1.1\nbase_model.features.9.conv.1.2\nbase_model.features.9.conv.2\nbase_model.features.9.conv.3\nbase_model.features.10\nbase_model.features.10.conv\nbase_model.features.10.conv.0\nbase_model.features.10.conv.0.0\nbase_model.features.10.conv.0.1\nbase_model.features.10.conv.0.2\nbase_model.features.10.conv.1\nbase_model.features.10.conv.1.0\nbase_model.features.10.conv.1.1\nbase_model.features.10.conv.1.2\nbase_model.features.10.conv.2\nbase_model.features.10.conv.3\nbase_model.features.11\nbase_model.features.11.conv\nbase_model.features.11.conv.0\nbase_model.features.11.conv.0.0\nbase_model.features.11.conv.0.1\nbase_model.features.11.conv.0.2\nbase_model.features.11.conv.1\nbase_model.features.11.conv.1.0\nbase_model.features.11.conv.1.1\nbase_model.features.11.conv.1.2\nbase_model.features.11.conv.2\nbase_model.features.11.conv.3\nbase_model.features.12\nbase_model.features.12.conv\nbase_model.features.12.conv.0\nbase_model.features.12.conv.0.0\nbase_model.features.12.conv.0.1\nbase_model.features.12.conv.0.2\nbase_model.features.12.conv.1\nbase_model.features.12.conv.1.0\nbase_model.features.12.conv.1.1\nbase_model.features.12.conv.1.2\nbase_model.features.12.conv.2\nbase_model.features.12.conv.3\nbase_model.features.13\nbase_model.features.13.conv\nbase_model.features.13.conv.0\nbase_model.features.13.conv.0.0\nbase_model.features.13.conv.0.1\nbase_model.features.13.conv.0.2\nbase_model.features.13.conv.1\nbase_model.features.13.conv.1.0\nbase_model.features.13.conv.1.1\nbase_model.features.13.conv.1.2\nbase_model.features.13.conv.2\nbase_model.features.13.conv.3\nbase_model.features.14\nbase_model.features.14.conv\nbase_model.features.14.conv.0\nbase_model.features.14.conv.0.0\nbase_model.features.14.conv.0.1\nbase_model.features.14.conv.0.2\nbase_model.features.14.conv.1\nbase_model.features.14.conv.1.0\nbase_model.features.14.conv.1.1\nbase_model.features.14.conv.1.2\nbase_model.features.14.conv.2\nbase_model.features.14.conv.3\nbase_model.features.15\nbase_model.features.15.conv\nbase_model.features.15.conv.0\nbase_model.features.15.conv.0.0\nbase_model.features.15.conv.0.1\nbase_model.features.15.conv.0.2\nbase_model.features.15.conv.1\nbase_model.features.15.conv.1.0\nbase_model.features.15.conv.1.1\nbase_model.features.15.conv.1.2\nbase_model.features.15.conv.2\nbase_model.features.15.conv.3\nbase_model.features.16\nbase_model.features.16.conv\nbase_model.features.16.conv.0\nbase_model.features.16.conv.0.0\nbase_model.features.16.conv.0.1\nbase_model.features.16.conv.0.2\nbase_model.features.16.conv.1\nbase_model.features.16.conv.1.0\nbase_model.features.16.conv.1.1\nbase_model.features.16.conv.1.2\nbase_model.features.16.conv.2\nbase_model.features.16.conv.3\nbase_model.features.17\nbase_model.features.17.conv\nbase_model.features.17.conv.0\nbase_model.features.17.conv.0.0\nbase_model.features.17.conv.0.1\nbase_model.features.17.conv.0.2\nbase_model.features.17.conv.1\nbase_model.features.17.conv.1.0\nbase_model.features.17.conv.1.1\nbase_model.features.17.conv.1.2\nbase_model.features.17.conv.2\nbase_model.features.17.conv.3\nbase_model.features.18\nbase_model.features.18.0\nbase_model.features.18.1\nbase_model.features.18.2\nbase_model.classifier\nbase_model.classifier.0\nbase_model.classifier.1\nfc_layer1\nfc_layer2\ndropout\n"
     ]
    }
   ],
   "source": [
    "for name, module in mnist_mobile.named_modules():\n",
    "    print(name)"
   ]
  },
  {
   "cell_type": "code",
   "execution_count": null,
   "metadata": {},
   "outputs": [],
   "source": []
  }
 ],
 "metadata": {
  "kernelspec": {
   "display_name": "Python 3",
   "language": "python",
   "name": "python3"
  },
  "language_info": {
   "codemirror_mode": {
    "name": "ipython",
    "version": 3
   },
   "file_extension": ".py",
   "mimetype": "text/x-python",
   "name": "python",
   "nbconvert_exporter": "python",
   "pygments_lexer": "ipython3",
   "version": "3.7.7-final"
  },
  "toc": {
   "base_numbering": 1,
   "nav_menu": {},
   "number_sections": true,
   "sideBar": true,
   "skip_h1_title": false,
   "title_cell": "Table of Contents",
   "title_sidebar": "Contents",
   "toc_cell": true,
   "toc_position": {},
   "toc_section_display": true,
   "toc_window_display": false
  }
 },
 "nbformat": 4,
 "nbformat_minor": 2
}