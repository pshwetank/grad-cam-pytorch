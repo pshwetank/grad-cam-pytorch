{
 "cells": [
  {
   "cell_type": "markdown",
   "metadata": {
    "toc": true
   },
   "source": [
    "<h1>Table of Contents<span class=\"tocSkip\"></span></h1>\n",
    "<div class=\"toc\"><ul class=\"toc-item\"></ul></div>"
   ]
  },
  {
   "cell_type": "code",
   "execution_count": 5,
   "metadata": {},
   "outputs": [],
   "source": [
    "import numpy as np\n",
    "import pandas as pd\n",
    "import torch\n",
    "from torchvision import datasets\n",
    "import pytorch_lightning as pl\n",
    "from torchvision import models\n",
    "from torchvision import transforms"
   ]
  },
  {
   "cell_type": "code",
   "execution_count": 7,
   "metadata": {},
   "outputs": [],
   "source": [
    "class Explainer_Classifier(pl.LightningModule):\n",
    "    def __init__(self, hparams):\n",
    "        super (Explainer_Classifier, self).__init__()\n",
    "        self.hparams = hparams\n",
    "        self.model = models.MobileNetV2(pretrained=True)\n",
    "\n",
    "    def forward(self, x):\n",
    "        return self.model(x)\n",
    "    \n",
    "    def training_step(self, batch, batch_idx):\n",
    "        data, labels = batch[0], batch[1]\n",
    "        outputs = self.forward(data)\n",
    "        lbls = labels.type(torch.cuda.FloatTensor)\n",
    "        lbls = lbls.unsqueeze(1)\n",
    "        train_loss = self.criterion(outputs, lbls)\n",
    "        tqdm_dict = {'train_loss':train_loss}\n",
    "        outputs = OrderedDict({\n",
    "            'loss':train_loss,\n",
    "            'progressbar':tqdm_dict,\n",
    "            'log':tqdm_dict\n",
    "        })\n",
    "        return outputs\n",
    "    \n",
    "    def validation_step(self, batch, batch_idx):\n",
    "        data, labels = batch[0], batch[1]\n",
    "        outputs = self.forward(data)\n",
    "        lbls = labels.type(torch.cuda.FloatTensor)\n",
    "        lbls = lbls.unsqueeze(1)\n",
    "        train_loss = self.criterion(outputs, lbls)\n",
    "        tqdm_dict = {'train_loss':train_loss}\n",
    "        outputs = OrderedDict({\n",
    "            'loss':train_loss,\n",
    "            'progressbar':tqdm_dict,\n",
    "            'log':tqdm_dict\n",
    "        })\n",
    "        return outputs\n",
    "\n",
    "    def configure_optimizers(self):\n",
    "        optimizer = torch.optim.Adam(lr=self.hparams.lr)\n",
    "        return optimizer\n",
    "\n",
    "    def train_dataloader(self):\n",
    "        train_dataloader = datasets.MNIST(\n",
    "                            'dataset/', train=True, \n",
    "                            transform = transforms.Compose([transforms.ToTensor(), transforms.Normalize((0.5,0.5,0.5), (0.5,0.5,0.5))]))\n",
    "        return train_dataloader\n",
    "\n",
    "    def val_dataloader(self):\n",
    "        val_dataloader = datasets.MNIST(\n",
    "                            'dataset/', train=False, \n",
    "                            transform = transforms.Compose([transforms.ToTensor(), transforms.Normalize((0.5,0.5,0.5), (0.5,0.5,0.5))]))\n",
    "        return val_dataloader\n",
    "\n",
    "    def test_dataloader(self):\n",
    "        test_dataloader = datasets.MNIST(\n",
    "                            'dataset/', train=False, \n",
    "                            transform = transforms.Compose([transforms.ToTensor(), transforms.Normalize((0.5,0.5,0.5), (0.5,0.5,0.5))]))\n",
    "        return test_dataloader\n",
    "    "
   ]
  },
  {
   "cell_type": "code",
   "execution_count": null,
   "metadata": {},
   "outputs": [],
   "source": []
  }
 ],
 "metadata": {
  "kernelspec": {
   "display_name": "Python 3",
   "language": "python",
   "name": "python3"
  },
  "language_info": {
   "codemirror_mode": {
    "name": "ipython",
    "version": 3
   },
   "file_extension": ".py",
   "mimetype": "text/x-python",
   "name": "python",
   "nbconvert_exporter": "python",
   "pygments_lexer": "ipython3",
   "version": "3.7.7"
  },
  "toc": {
   "base_numbering": 1,
   "nav_menu": {},
   "number_sections": true,
   "sideBar": true,
   "skip_h1_title": false,
   "title_cell": "Table of Contents",
   "title_sidebar": "Contents",
   "toc_cell": true,
   "toc_position": {},
   "toc_section_display": true,
   "toc_window_display": false
  }
 },
 "nbformat": 4,
 "nbformat_minor": 2
}
