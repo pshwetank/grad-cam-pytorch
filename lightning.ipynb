{
 "cells": [
  {
   "cell_type": "markdown",
   "metadata": {
    "toc": true
   },
   "source": [
    "<h1>Table of Contents<span class=\"tocSkip\"></span></h1>\n",
    "<div class=\"toc\"><ul class=\"toc-item\"></ul></div>"
   ]
  },
  {
   "cell_type": "code",
   "execution_count": 1,
   "metadata": {},
   "outputs": [],
   "source": [
    "import sys\n",
    "import numpy as np\n",
    "import pandas as pd\n",
    "import torch\n",
    "import random\n",
    "import torch.backends.cudnn as cudnn\n",
    "import cv2\n",
    "from torchvision import datasets\n",
    "from dataclasses import dataclass\n",
    "import pytorch_lightning as pl\n",
    "from torchvision import models\n",
    "from torchvision import transforms\n",
    "import torch.nn as nn\n",
    "import torch.nn.functional as F\n",
    "from collections import OrderedDict\n",
    "from torch.utils.data import random_split, DataLoader\n",
    "from grad_cam import GradCAM\n",
    "from pytorch_lightning.loggers import CSVLogger\n",
    "from pytorch_lightning import Callback\n",
    "import matplotlib.cm as cm\n",
    "from pytorch_memlab import profile, set_target_gpu"
   ]
  },
  {
   "cell_type": "code",
   "execution_count": 2,
   "metadata": {},
   "outputs": [],
   "source": [
    "class MobileNet_MNIST(nn.Module):\n",
    "    def __init__(self, fc_size = 800, dropout_prob=0.8):\n",
    "        super(MobileNet_MNIST, self).__init__()\n",
    "        self.base_model = models.mobilenet_v2(pretrained=True)\n",
    "        self.fc_layer1 = nn.Linear(1000, fc_size)\n",
    "        self.fc_layer2 = nn.Linear(fc_size, 10)\n",
    "        self.dropout = nn.Dropout(dropout_prob)\n",
    "        #self.softmax = nn.Softmax()\n",
    "    def forward(self,x):\n",
    "        #x = x.repeat(1,3,1,1)\n",
    "        x = self.base_model(x)\n",
    "        x = self.fc_layer1(x)\n",
    "        x = F.relu(x)\n",
    "        x = self.dropout(x)\n",
    "        x = self.fc_layer2(x)\n",
    "        x = F.relu(x)\n",
    "        #x = self.softmax(x)\n",
    "        return x"
   ]
  },
  {
   "cell_type": "code",
   "execution_count": 3,
   "metadata": {},
   "outputs": [],
   "source": [
    "class VGGNet_MNIST(nn.Module):\n",
    "    def __init__(self, fc_size=800, dropout_prob=0.5):\n",
    "        super(VGGNet_MNIST, self).__init__()\n",
    "        self.base_model = models.vgg16(pretrained=True)\n",
    "        self.fc_layer1 = nn.Linear(1000, fc_size)\n",
    "        self.fc_layer2 = nn.Linear(fc_size, 10)\n",
    "        self.dropout = nn.Dropout(dropout_prob)\n",
    "    def forward(self,x):\n",
    "        #x = x.repeat(1,3,1,1)\n",
    "        x = self.base_model(x)\n",
    "        x = self.fc_layer1(x)\n",
    "        x = F.relu(x)\n",
    "        x = self.dropout(x)\n",
    "        x = self.fc_layer2(x)\n",
    "        x = F.relu(x)\n",
    "        #x = self.softmax(x)\n",
    "        return x"
   ]
  },
  {
   "cell_type": "code",
   "execution_count": 4,
   "metadata": {},
   "outputs": [],
   "source": [
    "class Loss_Tracker:\n",
    "    '''\n",
    "    Keep track of running loss values obtained from progressbar callback dictionary and also stores data\n",
    "    about minimum loss, maximum loss and mean loss value for each batch\n",
    "    '''\n",
    "    def __init__(self):\n",
    "        self.loss_arr = np.array([])\n",
    "        self.current_running_loss = None\n",
    "        self.current_batch_loss = None\n",
    "    def update(self, run_loss):\n",
    "        if isinstance(run_loss, float):\n",
    "            if len(self.loss_arr)==0:\n",
    "                #This is the first loss value to be logged\n",
    "                self.loss_arr = np.append(self.loss_arr, run_loss)\n",
    "                self.current_running_loss = run_loss\n",
    "                self.current_batch_loss = run_loss\n",
    "            else:\n",
    "                #Not the first batch. Need to reverse calculate batch loss from runinng loss values\n",
    "                self.current_batch_loss = ((len(self.loss_arr) + 1)*run_loss) - np.sum(self.loss_arr)\n",
    "                self.loss_arr = np.append(self.loss_arr, self.current_batch_loss)\n",
    "                self.current_running_loss = run_loss\n",
    "        elif isinstance(run_loss, torch.Tensor):\n",
    "            #Convert tensor to numpy type\n",
    "            loss_val = run_loss.detach().cpu().numpy()\n",
    "            self.loss_arr = np.append(self.loss_arr, loss_val)\n",
    "            self.current_batch_loss = loss_val\n",
    "            self.current_running_loss = np.mean(self.loss_arr)\n",
    "        \n",
    "    def min_val(self):\n",
    "        if len(self.loss_arr) != 0:\n",
    "            #The loss values are already logged into the array\n",
    "            return np.min(self.loss_arr)\n",
    "        else:\n",
    "            print(\"No loss values logged in module\")\n",
    "            return\n",
    "    def max_val(self):\n",
    "        if len(self.loss_arr) != 0:\n",
    "            #The loss values are already logged into the array\n",
    "            return np.max(self.loss_arr)\n",
    "        else:\n",
    "            print(\"No loss values logged in module\")\n",
    "            return\n",
    "    def is_current_max(self):\n",
    "        #Checks whether current batch loss is the highest loss value till now\n",
    "        if not self.current_batch_loss is None:\n",
    "            if np.max(self.loss_arr) == self.current_batch_loss:\n",
    "                return True\n",
    "            else:\n",
    "                return False\n",
    "        else:\n",
    "            print(\"No loss values are logged into the system.\")\n",
    "    def is_current_min(self):\n",
    "        #Checks whether current batch loss is the highest loss value till now\n",
    "        if not self.current_batch_loss is None:\n",
    "            if np.min(self.loss_arr) == self.current_batch_loss:\n",
    "                return True\n",
    "            else:\n",
    "                return False\n",
    "        else:\n",
    "            print(\"No loss values are logged into the system.\")\n",
    "\n",
    "    def reset(self):\n",
    "        #Required to be done at the end of training epoch\n",
    "        self.loss_arr = np.array([])\n",
    "        self.current_running_loss = None\n",
    "        self.current_batch_loss = None"
   ]
  },
  {
   "cell_type": "code",
   "execution_count": 5,
   "metadata": {},
   "outputs": [],
   "source": [
    "class GradCam_Pipeline(nn.Module):\n",
    "    '''\n",
    "    Pytorch wrapper to generate gradient heatmap using GradCam. It performs all the preprocessing as well as postprocessing operations leading to generation of      final heatmap image.\n",
    "    Arguments:\n",
    "    model        : Torch model on which model interpretation is to be done\n",
    "    target_layer : Layer from which the gradients are to be calculated. It is usually the last convolution layer before FC layer.\n",
    "    normal_val   : Normalisation values including ((mean for each channel),(standard deviation of each channel)) \n",
    "    '''\n",
    "    def __init__(self, model, target_layer, normal_val=None):\n",
    "        super(GradCam_Pipeline, self).__init__()\n",
    "        self.model = model\n",
    "        self.target_layer = target_layer\n",
    "        self.gradcam_operator = GradCAM(model=self.model)\n",
    "        self.normal_val = normal_val\n",
    "\n",
    "    def prepare_img(self, grad_region, batch):\n",
    "        '''\n",
    "        Generate individual heatmap images from the image batch\n",
    "        Arguments:\n",
    "        grad_region : Gradient maps generated from gradcam wrapper\n",
    "        batch       : Torch tensor batch of images\n",
    "        '''\n",
    "        gradcam_lst = []\n",
    "        for j in range(len(grad_region)):\n",
    "            gcam = grad_region[j,0]\n",
    "            sample_img = batch[j]\n",
    "            denorm_img = self._denormalise_img(sample_img, self.normal_val)\n",
    "            cmap = cm.jet_r(gcam)[..., :3] * 255.0\n",
    "            alpha = gcam[..., None]\n",
    "            gcam = alpha * cmap + (1 - alpha) * denorm_img\n",
    "            filename = os.path.join('trial_samples',str(j)+'.jpg')\n",
    "            cv2.imwrite(filename, np.uint8(gcam))\n",
    "            gradcam_lst.append(gcam)\n",
    "        return gradcam_lst\n",
    "\n",
    "    def forward(self, x):\n",
    "        probs, ids = self.gradcam_operator.forward(x)\n",
    "        self.gradcam_operator.backward(ids=ids)\n",
    "        regions = self.gradcam_operator.generate(self.target_layer)\n",
    "        self.gradcam_lst = self.prepare_img(regions, x)\n",
    "        return self.gradcam_lst\n",
    "\n",
    "    @classmethod\n",
    "    def _denormalise_img(cls, image, normal_val=None):\n",
    "        '''\n",
    "        Reverse conversion of a normalised image to a non-normalised image\n",
    "        Arguments:\n",
    "        image      : Single batch torch tensor containing single normalised image\n",
    "        normal_val : Normalisation values including ((mean for each channel),(standard deviation of each channel)) \n",
    "        '''\n",
    "        image = image.cpu().numpy()\n",
    "        image = np.einsum('ijk->jki', image)\n",
    "        if normal_val is None:\n",
    "            normal_val = ((0.5,0.5,0.5), (0.5,0.5,0.5)) #((mean), (std))\n",
    "        for i in range(3):\n",
    "            image[:,:,i] = image[:,:,i]*normal_val[0][i] + normal_val[1][i]\n",
    "        image = image*255.0\n",
    "        return image        "
   ]
  },
  {
   "cell_type": "code",
   "execution_count": 6,
   "metadata": {},
   "outputs": [],
   "source": [
    "class Interpretation_Callback(Callback):\n",
    "    \"\"\"\n",
    "    Callback to calculate gradient heatmap for model interpretation on the fly. \n",
    "    \"\"\"\n",
    "    def __init__(self, n_samples_max, layer, save_dir, normal_val=None, specified_input=None):\n",
    "        \"\"\"\n",
    "        Args:\n",
    "            n_samples_max   : Maximum no of images for whom the gradient images are required to be plotted. If the mini batch size is lower \n",
    "                              than_samples_max, it will plot the heatmap for all the images in a batch\n",
    "            layer           : The layer on which gradient computations is to be performed\n",
    "            save_dir        : Directory in which all the heatmap plots are to be saved\n",
    "            specified_input : If dataloader returns more than a single input, specify the key for the batch dictionary to fetch the correct output. \n",
    "                              If None, _fetch_tensors() method tries to figure out the key that contains the tensor input for model \n",
    "        \"\"\"\n",
    "        super().__init__()\n",
    "        self.n_samples_max = n_samples_max\n",
    "        self.grad_layer = layer\n",
    "        self.save_dir = save_dir\n",
    "        self.specified_input = specified_input\n",
    "        self.normal_val = normal_val\n",
    "        self.track_loss = Loss_Tracker()\n",
    "\n",
    "    def on_train_start(self, trainer, pl_module):\n",
    "        self.low_batch, self.high_batch = None, None #Stores the batch with lowest and highest training loss\n",
    "        self.low_bound_loss, self.high_bound_loss = None, None #Stores the lowest and highest loss value recorded for any batch\n",
    "\n",
    "    def on_train_batch_end(self, trainer, pl_module, outputs, batch, batch_idx, dataloader_idx):\n",
    "        try:\n",
    "            #look for self.train_loss atrribute in training loop\n",
    "            batch_training_loss = pl_module.train_loss\n",
    "            self.track_loss.update(batch_training_loss)\n",
    "        except:\n",
    "            #In case, self.train_loss is not defined, fetch loss data from progressbar \n",
    "            running_train_loss = self._get_loss(trainer.progress_bar_dict)\n",
    "            self.track_loss.update(running_train_loss)\n",
    "        batch_imgs = self._fetch_tensors(batch)\n",
    "        if self.track_loss.is_current_max():\n",
    "            self.high_batch = batch_imgs\n",
    "        if self.track_loss.is_current_min():\n",
    "            self.low_batch = batch_imgs\n",
    "        #Note to self: Write tests to check correct logging\n",
    "\n",
    "    def on_train_epoch_end(self, trainer, pl_module, outputs):\n",
    "        self.track_loss.reset()\n",
    "    \n",
    "    def on_train_end(self, trainer, pl_module):\n",
    "        print(\"Initiating GradCAM\")\n",
    "        self.gradcam = GradCam_Pipeline(model=pl_module.model, target_layer=self.grad_layer, normal_val=self.normal_val)\n",
    "        self.high_loss_grads = self.gradcam(self.high_batch[:10,].cuda())\n",
    "\n",
    "    @classmethod\n",
    "    def _fetch_tensors(cls, batch, dict_inp=None):\n",
    "        \"\"\"\n",
    "        Finds out the image tensors in a given batch sample. Since batch might return different kind of inputs, it is necessary to extract the target image\n",
    "        to perform gradient interpretation\n",
    "        \"\"\"\n",
    "        inp_type = type(batch)\n",
    "        if inp_type is torch.Tensor:\n",
    "            return batch\n",
    "        elif inp_type is dict:\n",
    "            if not dict_inp is None:\n",
    "                #When the specific key in a dictionary is already given\n",
    "                tensor_inp = batch[dict_inp]\n",
    "                return tensor_inp\n",
    "            else:\n",
    "                #Interesting case when a specific key is not provided. In such case, try to search for a value with common tensor \n",
    "                #dimensions like (*,3,224,224) or (*,3,512,512) or any 4-dimensional tensor\n",
    "                key = None\n",
    "                for unique_key in batch.keys():\n",
    "                    inp = batch[unique_key]\n",
    "                    if type(inp) is torch.Tensor:\n",
    "                        tensor_dim = len(inp.shape)\n",
    "                        if tensor_dim == 4:\n",
    "                            key = unique_key\n",
    "                if key is None:\n",
    "                    #replace it with error message\n",
    "                    print(\"No value with 4 dimensions found in dictionary. Please check the dictionary structure or specify the key\")\n",
    "                else:\n",
    "                    return batch[key]\n",
    "        else:\n",
    "            #This might be a case where the model returns multiple values at once in form of a tuple or a list. Then it is required to find out which of the\n",
    "            #returned items from batch is an image tensor\n",
    "            n_items = len(batch)\n",
    "            tensor_index = None\n",
    "            for ind in range(n_items):\n",
    "                item = batch[ind]\n",
    "                if type(item) is torch.Tensor:\n",
    "                    tensor_dim = len(item.shape)\n",
    "                    if tensor_dim == 4:\n",
    "                        tensor_index = ind\n",
    "            if tensor_index is None:\n",
    "                #replace it with error message\n",
    "                print(\"No value with 4 dimensional tensor found in batch tuple. Please check the dataloader or return dictionary to avoid such errors\")\n",
    "            else:\n",
    "                return batch[tensor_index]\n",
    "\n",
    "    @classmethod\n",
    "    def _get_loss(cls, outputs):\n",
    "        \"\"\"\n",
    "        Get the loss value from the outputs of training_step. Generally, the output will be either directly a loss value or a dictionary containing one \n",
    "        of the entries as loss value \n",
    "        \"\"\"\n",
    "        if type(outputs) is torch.Tensor and len(outputs.shape) == 0:\n",
    "            #Usually a rare case when training_loop is directly returning loss value\n",
    "            return outputs\n",
    "        else:\n",
    "            #In such case, the training_step is in form of an ordered dictionary that will definitely contain a 'loss' key\n",
    "            loss_val = float(outputs['loss'])\n",
    "            return loss_val\n",
    "             "
   ]
  },
  {
   "cell_type": "code",
   "execution_count": 7,
   "metadata": {},
   "outputs": [],
   "source": [
    "class Explainer_Classifier(pl.LightningModule):\n",
    "    def __init__(self, hparams):\n",
    "        super(Explainer_Classifier, self).__init__()\n",
    "        self.hparams = hparams\n",
    "        self.model = VGGNet_MNIST(self.hparams.fc_size, self.hparams.dropout)\n",
    "        self.criterion = nn.CrossEntropyLoss()\n",
    "        self.accuracy = pl.metrics.Accuracy()\n",
    "        self.val_acc = pl.metrics.Accuracy()\n",
    "\n",
    "    def forward(self, x):\n",
    "        return self.model(x)\n",
    "\n",
    "    def apply_GradCam(self, images, target_layer):\n",
    "        probs, ids = self.gcam.forward(images)    \n",
    "        self.gcam.backward(ids=ids)\n",
    "\n",
    "    def training_step(self, batch, batch_idx):\n",
    "        data, labels = batch\n",
    "        outputs = self.forward(data)\n",
    "        train_loss = self.criterion(outputs, labels)\n",
    "        self.train_loss = train_loss\n",
    "        self.log('loss',train_loss)\n",
    "        self.log('train_acc_step', self.accuracy(outputs, labels))\n",
    "        return {'loss':train_loss, 'progress_bar':{'train_acc_step':self.accuracy(outputs, labels)}}\n",
    "\n",
    "    def training_epoch_end(self, outs):\n",
    "        return {'progress_bar':{'train_acc_epoch':self.accuracy.compute()}}\n",
    "    \n",
    "    def validation_step(self, batch, batch_idx):\n",
    "        data, labels = batch\n",
    "        outputs = self.forward(data)\n",
    "        lbls = labels.type(torch.cuda.LongTensor)\n",
    "        val_loss = self.criterion(outputs, labels)\n",
    "        return OrderedDict({'loss':val_loss, 'progress_bar':{'val_acc_step':self.val_acc(outputs, labels), 'val_loss':val_loss}})\n",
    "\n",
    "    def validation_epoch_end(self, outputs):\n",
    "        return {'progressbar':{'val_acc':self.val_acc.compute()}, 'log':{'val_acc':self.val_acc.compute()}}\n",
    "\n",
    "    def configure_optimizers(self):\n",
    "        optimizer = torch.optim.Adam(self.parameters(), lr=self.hparams.lr)\n",
    "        #scheduler = torch.optim.lr_scheduler.ExponentialLR(optimizer, gamma = 0.1)\n",
    "        return [optimizer]#, [scheduler]\n",
    "\n",
    "    def train_dataloader(self):\n",
    "        train_dataset = datasets.MNIST(\n",
    "                            'dataset/', train=True, download=True,\n",
    "                            transform = transforms.Compose([transforms.Resize((224,224)), transforms.ToTensor(),\n",
    "                            transforms.Lambda(lambda x:x.repeat(3,1,1)), transforms.Normalize((0.485, 0.456, 0.406),(0.229, 0.224, 0.225))])) #changes due to vgg\n",
    "        train_dataloader = DataLoader(train_dataset, batch_size=self.hparams.batch_size, num_workers=4)\n",
    "        return train_dataloader\n",
    "\n",
    "    def val_dataloader(self):\n",
    "        val_dataset = datasets.MNIST(\n",
    "                            'dataset/', train=False, download=True,\n",
    "                            transform = transforms.Compose([transforms.Resize((224,224)), transforms.ToTensor(),\n",
    "                            transforms.Lambda(lambda x:x.repeat(3,1,1)), transforms.Normalize((0.485, 0.456, 0.406),(0.229, 0.224, 0.225))])) #changes due to vgg\n",
    "        val_dataloader = DataLoader(val_dataset, batch_size=self.hparams.batch_size, num_workers=4)\n",
    "        return val_dataloader\n",
    " "
   ]
  },
  {
   "cell_type": "code",
   "execution_count": 8,
   "metadata": {},
   "outputs": [],
   "source": [
    "hyper_params = {'batch_size':32, 'lr':0.002, 'n_epochs':3, 'fc_size':800,'dropout':0.8}"
   ]
  },
  {
   "cell_type": "code",
   "execution_count": 9,
   "metadata": {},
   "outputs": [],
   "source": [
    "random.seed(42)\n",
    "torch.manual_seed(42)\n",
    "cudnn.deterministic = True"
   ]
  },
  {
   "cell_type": "code",
   "execution_count": 10,
   "metadata": {},
   "outputs": [],
   "source": [
    "#hyper_params = hparams_vals\n",
    "model = Explainer_Classifier(hyper_params)"
   ]
  },
  {
   "cell_type": "code",
   "execution_count": 11,
   "metadata": {},
   "outputs": [],
   "source": [
    "grad_cam_callback = Interpretation_Callback(10,'base_model.features.30','gradcam/', normal_val=((0.485, 0.456, 0.406),(0.229, 0.224, 0.225)))"
   ]
  },
  {
   "cell_type": "code",
   "execution_count": 12,
   "metadata": {},
   "outputs": [
    {
     "output_type": "stream",
     "name": "stderr",
     "text": [
      "GPU available: True, used: True\n",
      "TPU available: None, using: 0 TPU cores\n",
      "LOCAL_RANK: 0 - CUDA_VISIBLE_DEVICES: [0]\n"
     ]
    }
   ],
   "source": [
    "trainer = pl.Trainer(gpus=1, \n",
    "            max_epochs=hyper_params['n_epochs'],\n",
    "            callbacks=[grad_cam_callback],\n",
    "            accumulate_grad_batches=32\n",
    "            )"
   ]
  },
  {
   "cell_type": "code",
   "execution_count": 13,
   "metadata": {
    "scrolled": true,
    "tags": []
   },
   "outputs": [
    {
     "output_type": "stream",
     "name": "stderr",
     "text": [
      "\n",
      "  | Name      | Type             | Params\n",
      "-----------------------------------------------\n",
      "0 | model     | VGGNet_MNIST     | 139 M \n",
      "1 | criterion | CrossEntropyLoss | 0     \n",
      "2 | accuracy  | Accuracy         | 0     \n",
      "3 | val_acc   | Accuracy         | 0     \n",
      "-----------------------------------------------\n",
      "139 M     Trainable params\n",
      "0         Non-trainable params\n",
      "139 M     Total params\n",
      "Epoch 0:   7%|▋         | 144/2188 [00:48<11:34,  2.95it/s, loss=5.19e+07, v_num=19, train_acc_step=0.0938]"
     ]
    },
    {
     "output_type": "error",
     "ename": "KeyboardInterrupt",
     "evalue": "",
     "traceback": [
      "\u001b[0;31m---------------------------------------------------------------------------\u001b[0m",
      "\u001b[0;31mKeyboardInterrupt\u001b[0m                         Traceback (most recent call last)",
      "\u001b[0;32m<ipython-input-13-45d4afebefac>\u001b[0m in \u001b[0;36m<module>\u001b[0;34m\u001b[0m\n\u001b[0;32m----> 1\u001b[0;31m \u001b[0mtrainer\u001b[0m\u001b[0;34m.\u001b[0m\u001b[0mfit\u001b[0m\u001b[0;34m(\u001b[0m\u001b[0mmodel\u001b[0m\u001b[0;34m)\u001b[0m\u001b[0;34m\u001b[0m\u001b[0;34m\u001b[0m\u001b[0m\n\u001b[0m",
      "\u001b[0;32m~/.conda/envs/ai-experiments/lib/python3.7/site-packages/pytorch_lightning/trainer/trainer.py\u001b[0m in \u001b[0;36mfit\u001b[0;34m(self, model, train_dataloader, val_dataloaders, datamodule)\u001b[0m\n\u001b[1;32m    468\u001b[0m         \u001b[0mself\u001b[0m\u001b[0;34m.\u001b[0m\u001b[0mcall_hook\u001b[0m\u001b[0;34m(\u001b[0m\u001b[0;34m'on_fit_start'\u001b[0m\u001b[0;34m)\u001b[0m\u001b[0;34m\u001b[0m\u001b[0;34m\u001b[0m\u001b[0m\n\u001b[1;32m    469\u001b[0m \u001b[0;34m\u001b[0m\u001b[0m\n\u001b[0;32m--> 470\u001b[0;31m         \u001b[0mresults\u001b[0m \u001b[0;34m=\u001b[0m \u001b[0mself\u001b[0m\u001b[0;34m.\u001b[0m\u001b[0maccelerator_backend\u001b[0m\u001b[0;34m.\u001b[0m\u001b[0mtrain\u001b[0m\u001b[0;34m(\u001b[0m\u001b[0;34m)\u001b[0m\u001b[0;34m\u001b[0m\u001b[0;34m\u001b[0m\u001b[0m\n\u001b[0m\u001b[1;32m    471\u001b[0m         \u001b[0mself\u001b[0m\u001b[0;34m.\u001b[0m\u001b[0maccelerator_backend\u001b[0m\u001b[0;34m.\u001b[0m\u001b[0mteardown\u001b[0m\u001b[0;34m(\u001b[0m\u001b[0;34m)\u001b[0m\u001b[0;34m\u001b[0m\u001b[0;34m\u001b[0m\u001b[0m\n\u001b[1;32m    472\u001b[0m \u001b[0;34m\u001b[0m\u001b[0m\n",
      "\u001b[0;32m~/.conda/envs/ai-experiments/lib/python3.7/site-packages/pytorch_lightning/accelerators/gpu_accelerator.py\u001b[0m in \u001b[0;36mtrain\u001b[0;34m(self)\u001b[0m\n\u001b[1;32m     66\u001b[0m \u001b[0;34m\u001b[0m\u001b[0m\n\u001b[1;32m     67\u001b[0m         \u001b[0;31m# train or test\u001b[0m\u001b[0;34m\u001b[0m\u001b[0;34m\u001b[0m\u001b[0;34m\u001b[0m\u001b[0m\n\u001b[0;32m---> 68\u001b[0;31m         \u001b[0mresults\u001b[0m \u001b[0;34m=\u001b[0m \u001b[0mself\u001b[0m\u001b[0;34m.\u001b[0m\u001b[0mtrain_or_test\u001b[0m\u001b[0;34m(\u001b[0m\u001b[0;34m)\u001b[0m\u001b[0;34m\u001b[0m\u001b[0;34m\u001b[0m\u001b[0m\n\u001b[0m\u001b[1;32m     69\u001b[0m         \u001b[0;32mreturn\u001b[0m \u001b[0mresults\u001b[0m\u001b[0;34m\u001b[0m\u001b[0;34m\u001b[0m\u001b[0m\n\u001b[1;32m     70\u001b[0m \u001b[0;34m\u001b[0m\u001b[0m\n",
      "\u001b[0;32m~/.conda/envs/ai-experiments/lib/python3.7/site-packages/pytorch_lightning/accelerators/accelerator.py\u001b[0m in \u001b[0;36mtrain_or_test\u001b[0;34m(self)\u001b[0m\n\u001b[1;32m     67\u001b[0m             \u001b[0mresults\u001b[0m \u001b[0;34m=\u001b[0m \u001b[0mself\u001b[0m\u001b[0;34m.\u001b[0m\u001b[0mtrainer\u001b[0m\u001b[0;34m.\u001b[0m\u001b[0mrun_test\u001b[0m\u001b[0;34m(\u001b[0m\u001b[0;34m)\u001b[0m\u001b[0;34m\u001b[0m\u001b[0;34m\u001b[0m\u001b[0m\n\u001b[1;32m     68\u001b[0m         \u001b[0;32melse\u001b[0m\u001b[0;34m:\u001b[0m\u001b[0;34m\u001b[0m\u001b[0;34m\u001b[0m\u001b[0m\n\u001b[0;32m---> 69\u001b[0;31m             \u001b[0mresults\u001b[0m \u001b[0;34m=\u001b[0m \u001b[0mself\u001b[0m\u001b[0;34m.\u001b[0m\u001b[0mtrainer\u001b[0m\u001b[0;34m.\u001b[0m\u001b[0mtrain\u001b[0m\u001b[0;34m(\u001b[0m\u001b[0;34m)\u001b[0m\u001b[0;34m\u001b[0m\u001b[0;34m\u001b[0m\u001b[0m\n\u001b[0m\u001b[1;32m     70\u001b[0m         \u001b[0;32mreturn\u001b[0m \u001b[0mresults\u001b[0m\u001b[0;34m\u001b[0m\u001b[0;34m\u001b[0m\u001b[0m\n\u001b[1;32m     71\u001b[0m \u001b[0;34m\u001b[0m\u001b[0m\n",
      "\u001b[0;32m~/.conda/envs/ai-experiments/lib/python3.7/site-packages/pytorch_lightning/trainer/trainer.py\u001b[0m in \u001b[0;36mtrain\u001b[0;34m(self)\u001b[0m\n\u001b[1;32m    550\u001b[0m         \u001b[0;32mfinally\u001b[0m\u001b[0;34m:\u001b[0m\u001b[0;34m\u001b[0m\u001b[0;34m\u001b[0m\u001b[0m\n\u001b[1;32m    551\u001b[0m             \u001b[0;31m# hook\u001b[0m\u001b[0;34m\u001b[0m\u001b[0;34m\u001b[0m\u001b[0;34m\u001b[0m\u001b[0m\n\u001b[0;32m--> 552\u001b[0;31m             \u001b[0mself\u001b[0m\u001b[0;34m.\u001b[0m\u001b[0mtrain_loop\u001b[0m\u001b[0;34m.\u001b[0m\u001b[0mon_train_end\u001b[0m\u001b[0;34m(\u001b[0m\u001b[0;34m)\u001b[0m\u001b[0;34m\u001b[0m\u001b[0;34m\u001b[0m\u001b[0m\n\u001b[0m\u001b[1;32m    553\u001b[0m \u001b[0;34m\u001b[0m\u001b[0m\n\u001b[1;32m    554\u001b[0m     \u001b[0;32mdef\u001b[0m \u001b[0mrun_evaluation\u001b[0m\u001b[0;34m(\u001b[0m\u001b[0mself\u001b[0m\u001b[0;34m,\u001b[0m \u001b[0mtest_mode\u001b[0m\u001b[0;34m:\u001b[0m \u001b[0mbool\u001b[0m \u001b[0;34m=\u001b[0m \u001b[0;32mFalse\u001b[0m\u001b[0;34m,\u001b[0m \u001b[0mmax_batches\u001b[0m\u001b[0;34m=\u001b[0m\u001b[0;32mNone\u001b[0m\u001b[0;34m)\u001b[0m\u001b[0;34m:\u001b[0m\u001b[0;34m\u001b[0m\u001b[0;34m\u001b[0m\u001b[0m\n",
      "\u001b[0;32m~/.conda/envs/ai-experiments/lib/python3.7/site-packages/pytorch_lightning/trainer/training_loop.py\u001b[0m in \u001b[0;36mon_train_end\u001b[0;34m(self)\u001b[0m\n\u001b[1;32m    189\u001b[0m         \u001b[0;31m# when a checkpoint was saved at the last step\u001b[0m\u001b[0;34m\u001b[0m\u001b[0;34m\u001b[0m\u001b[0;34m\u001b[0m\u001b[0m\n\u001b[1;32m    190\u001b[0m         \u001b[0mself\u001b[0m\u001b[0;34m.\u001b[0m\u001b[0mtrainer\u001b[0m\u001b[0;34m.\u001b[0m\u001b[0mglobal_step\u001b[0m \u001b[0;34m-=\u001b[0m \u001b[0;36m1\u001b[0m\u001b[0;34m\u001b[0m\u001b[0;34m\u001b[0m\u001b[0m\n\u001b[0;32m--> 191\u001b[0;31m         \u001b[0mself\u001b[0m\u001b[0;34m.\u001b[0m\u001b[0mcheck_checkpoint_callback\u001b[0m\u001b[0;34m(\u001b[0m\u001b[0mshould_save\u001b[0m\u001b[0;34m=\u001b[0m\u001b[0;32mTrue\u001b[0m\u001b[0;34m,\u001b[0m \u001b[0mis_last\u001b[0m\u001b[0;34m=\u001b[0m\u001b[0;32mTrue\u001b[0m\u001b[0;34m)\u001b[0m\u001b[0;34m\u001b[0m\u001b[0;34m\u001b[0m\u001b[0m\n\u001b[0m\u001b[1;32m    192\u001b[0m         \u001b[0mself\u001b[0m\u001b[0;34m.\u001b[0m\u001b[0mtrainer\u001b[0m\u001b[0;34m.\u001b[0m\u001b[0mglobal_step\u001b[0m \u001b[0;34m+=\u001b[0m \u001b[0;36m1\u001b[0m\u001b[0;34m\u001b[0m\u001b[0;34m\u001b[0m\u001b[0m\n\u001b[1;32m    193\u001b[0m \u001b[0;34m\u001b[0m\u001b[0m\n",
      "\u001b[0;32m~/.conda/envs/ai-experiments/lib/python3.7/site-packages/pytorch_lightning/trainer/training_loop.py\u001b[0m in \u001b[0;36mcheck_checkpoint_callback\u001b[0;34m(self, should_save, is_last)\u001b[0m\n\u001b[1;32m    223\u001b[0m \u001b[0;34m\u001b[0m\u001b[0m\n\u001b[1;32m    224\u001b[0m             \u001b[0;32mfor\u001b[0m \u001b[0mcallback\u001b[0m \u001b[0;32min\u001b[0m \u001b[0mcheckpoint_callbacks\u001b[0m\u001b[0;34m:\u001b[0m\u001b[0;34m\u001b[0m\u001b[0;34m\u001b[0m\u001b[0m\n\u001b[0;32m--> 225\u001b[0;31m                 \u001b[0mcallback\u001b[0m\u001b[0;34m.\u001b[0m\u001b[0mon_validation_end\u001b[0m\u001b[0;34m(\u001b[0m\u001b[0mself\u001b[0m\u001b[0;34m.\u001b[0m\u001b[0mtrainer\u001b[0m\u001b[0;34m,\u001b[0m \u001b[0mmodel\u001b[0m\u001b[0;34m)\u001b[0m\u001b[0;34m\u001b[0m\u001b[0;34m\u001b[0m\u001b[0m\n\u001b[0m\u001b[1;32m    226\u001b[0m \u001b[0;34m\u001b[0m\u001b[0m\n\u001b[1;32m    227\u001b[0m     \u001b[0;32mdef\u001b[0m \u001b[0mon_train_epoch_start\u001b[0m\u001b[0;34m(\u001b[0m\u001b[0mself\u001b[0m\u001b[0;34m,\u001b[0m \u001b[0mepoch\u001b[0m\u001b[0;34m)\u001b[0m\u001b[0;34m:\u001b[0m\u001b[0;34m\u001b[0m\u001b[0;34m\u001b[0m\u001b[0m\n",
      "\u001b[0;32m~/.conda/envs/ai-experiments/lib/python3.7/site-packages/pytorch_lightning/callbacks/model_checkpoint.py\u001b[0m in \u001b[0;36mon_validation_end\u001b[0;34m(self, trainer, pl_module)\u001b[0m\n\u001b[1;32m    201\u001b[0m         \u001b[0mcheckpoints\u001b[0m \u001b[0mcan\u001b[0m \u001b[0mbe\u001b[0m \u001b[0msaved\u001b[0m \u001b[0mat\u001b[0m \u001b[0mthe\u001b[0m \u001b[0mend\u001b[0m \u001b[0mof\u001b[0m \u001b[0mthe\u001b[0m \u001b[0mval\u001b[0m \u001b[0mloop\u001b[0m\u001b[0;34m\u001b[0m\u001b[0;34m\u001b[0m\u001b[0m\n\u001b[1;32m    202\u001b[0m         \"\"\"\n\u001b[0;32m--> 203\u001b[0;31m         \u001b[0mself\u001b[0m\u001b[0;34m.\u001b[0m\u001b[0msave_checkpoint\u001b[0m\u001b[0;34m(\u001b[0m\u001b[0mtrainer\u001b[0m\u001b[0;34m,\u001b[0m \u001b[0mpl_module\u001b[0m\u001b[0;34m)\u001b[0m\u001b[0;34m\u001b[0m\u001b[0;34m\u001b[0m\u001b[0m\n\u001b[0m\u001b[1;32m    204\u001b[0m \u001b[0;34m\u001b[0m\u001b[0m\n\u001b[1;32m    205\u001b[0m     \u001b[0;32mdef\u001b[0m \u001b[0mon_save_checkpoint\u001b[0m\u001b[0;34m(\u001b[0m\u001b[0mself\u001b[0m\u001b[0;34m,\u001b[0m \u001b[0mtrainer\u001b[0m\u001b[0;34m,\u001b[0m \u001b[0mpl_module\u001b[0m\u001b[0;34m)\u001b[0m \u001b[0;34m->\u001b[0m \u001b[0mDict\u001b[0m\u001b[0;34m[\u001b[0m\u001b[0mstr\u001b[0m\u001b[0;34m,\u001b[0m \u001b[0mAny\u001b[0m\u001b[0;34m]\u001b[0m\u001b[0;34m:\u001b[0m\u001b[0;34m\u001b[0m\u001b[0;34m\u001b[0m\u001b[0m\n",
      "\u001b[0;32m~/.conda/envs/ai-experiments/lib/python3.7/site-packages/pytorch_lightning/callbacks/model_checkpoint.py\u001b[0m in \u001b[0;36msave_checkpoint\u001b[0;34m(self, trainer, pl_module)\u001b[0m\n\u001b[1;32m    249\u001b[0m \u001b[0;34m\u001b[0m\u001b[0m\n\u001b[1;32m    250\u001b[0m         \u001b[0;31m# Mode 2: save the last checkpoint\u001b[0m\u001b[0;34m\u001b[0m\u001b[0;34m\u001b[0m\u001b[0;34m\u001b[0m\u001b[0m\n\u001b[0;32m--> 251\u001b[0;31m         \u001b[0mself\u001b[0m\u001b[0;34m.\u001b[0m\u001b[0m_save_last_checkpoint\u001b[0m\u001b[0;34m(\u001b[0m\u001b[0mtrainer\u001b[0m\u001b[0;34m,\u001b[0m \u001b[0mpl_module\u001b[0m\u001b[0;34m,\u001b[0m \u001b[0mmonitor_candidates\u001b[0m\u001b[0;34m)\u001b[0m\u001b[0;34m\u001b[0m\u001b[0;34m\u001b[0m\u001b[0m\n\u001b[0m\u001b[1;32m    252\u001b[0m \u001b[0;34m\u001b[0m\u001b[0m\n\u001b[1;32m    253\u001b[0m     \u001b[0;32mdef\u001b[0m \u001b[0m__validate_init_configuration\u001b[0m\u001b[0;34m(\u001b[0m\u001b[0mself\u001b[0m\u001b[0;34m)\u001b[0m\u001b[0;34m:\u001b[0m\u001b[0;34m\u001b[0m\u001b[0;34m\u001b[0m\u001b[0m\n",
      "\u001b[0;32m~/.conda/envs/ai-experiments/lib/python3.7/site-packages/pytorch_lightning/callbacks/model_checkpoint.py\u001b[0m in \u001b[0;36m_save_last_checkpoint\u001b[0;34m(self, trainer, pl_module, ckpt_name_metrics)\u001b[0m\n\u001b[1;32m    563\u001b[0m             \u001b[0maccelerator_backend\u001b[0m\u001b[0;34m.\u001b[0m\u001b[0mddp_plugin\u001b[0m\u001b[0;34m.\u001b[0m\u001b[0mrpc_save_model\u001b[0m\u001b[0;34m(\u001b[0m\u001b[0mself\u001b[0m\u001b[0;34m.\u001b[0m\u001b[0m_save_model\u001b[0m\u001b[0;34m,\u001b[0m \u001b[0mlast_filepath\u001b[0m\u001b[0;34m,\u001b[0m \u001b[0mtrainer\u001b[0m\u001b[0;34m,\u001b[0m \u001b[0mpl_module\u001b[0m\u001b[0;34m)\u001b[0m\u001b[0;34m\u001b[0m\u001b[0;34m\u001b[0m\u001b[0m\n\u001b[1;32m    564\u001b[0m         \u001b[0;32melse\u001b[0m\u001b[0;34m:\u001b[0m\u001b[0;34m\u001b[0m\u001b[0;34m\u001b[0m\u001b[0m\n\u001b[0;32m--> 565\u001b[0;31m             \u001b[0mself\u001b[0m\u001b[0;34m.\u001b[0m\u001b[0m_save_model\u001b[0m\u001b[0;34m(\u001b[0m\u001b[0mlast_filepath\u001b[0m\u001b[0;34m,\u001b[0m \u001b[0mtrainer\u001b[0m\u001b[0;34m,\u001b[0m \u001b[0mpl_module\u001b[0m\u001b[0;34m)\u001b[0m\u001b[0;34m\u001b[0m\u001b[0;34m\u001b[0m\u001b[0m\n\u001b[0m\u001b[1;32m    566\u001b[0m         if (\n\u001b[1;32m    567\u001b[0m                 \u001b[0mself\u001b[0m\u001b[0;34m.\u001b[0m\u001b[0mlast_model_path\u001b[0m\u001b[0;34m\u001b[0m\u001b[0;34m\u001b[0m\u001b[0m\n",
      "\u001b[0;32m~/.conda/envs/ai-experiments/lib/python3.7/site-packages/pytorch_lightning/callbacks/model_checkpoint.py\u001b[0m in \u001b[0;36m_save_model\u001b[0;34m(self, filepath, trainer, pl_module)\u001b[0m\n\u001b[1;32m    357\u001b[0m         \u001b[0;31m# delegate the saving to the trainer\u001b[0m\u001b[0;34m\u001b[0m\u001b[0;34m\u001b[0m\u001b[0;34m\u001b[0m\u001b[0m\n\u001b[1;32m    358\u001b[0m         \u001b[0;32mif\u001b[0m \u001b[0mself\u001b[0m\u001b[0;34m.\u001b[0m\u001b[0msave_function\u001b[0m \u001b[0;32mis\u001b[0m \u001b[0;32mnot\u001b[0m \u001b[0;32mNone\u001b[0m\u001b[0;34m:\u001b[0m\u001b[0;34m\u001b[0m\u001b[0;34m\u001b[0m\u001b[0m\n\u001b[0;32m--> 359\u001b[0;31m             \u001b[0mself\u001b[0m\u001b[0;34m.\u001b[0m\u001b[0msave_function\u001b[0m\u001b[0;34m(\u001b[0m\u001b[0mfilepath\u001b[0m\u001b[0;34m,\u001b[0m \u001b[0mself\u001b[0m\u001b[0;34m.\u001b[0m\u001b[0msave_weights_only\u001b[0m\u001b[0;34m)\u001b[0m\u001b[0;34m\u001b[0m\u001b[0;34m\u001b[0m\u001b[0m\n\u001b[0m\u001b[1;32m    360\u001b[0m         \u001b[0;32melse\u001b[0m\u001b[0;34m:\u001b[0m\u001b[0;34m\u001b[0m\u001b[0;34m\u001b[0m\u001b[0m\n\u001b[1;32m    361\u001b[0m             \u001b[0;32mraise\u001b[0m \u001b[0mValueError\u001b[0m\u001b[0;34m(\u001b[0m\u001b[0;34m\".save_function() not set\"\u001b[0m\u001b[0;34m)\u001b[0m\u001b[0;34m\u001b[0m\u001b[0;34m\u001b[0m\u001b[0m\n",
      "\u001b[0;32m~/.conda/envs/ai-experiments/lib/python3.7/site-packages/pytorch_lightning/trainer/properties.py\u001b[0m in \u001b[0;36msave_checkpoint\u001b[0;34m(self, filepath, weights_only)\u001b[0m\n\u001b[1;32m    234\u001b[0m \u001b[0;34m\u001b[0m\u001b[0m\n\u001b[1;32m    235\u001b[0m     \u001b[0;32mdef\u001b[0m \u001b[0msave_checkpoint\u001b[0m\u001b[0;34m(\u001b[0m\u001b[0mself\u001b[0m\u001b[0;34m,\u001b[0m \u001b[0mfilepath\u001b[0m\u001b[0;34m,\u001b[0m \u001b[0mweights_only\u001b[0m\u001b[0;34m:\u001b[0m \u001b[0mbool\u001b[0m \u001b[0;34m=\u001b[0m \u001b[0;32mFalse\u001b[0m\u001b[0;34m)\u001b[0m\u001b[0;34m:\u001b[0m\u001b[0;34m\u001b[0m\u001b[0;34m\u001b[0m\u001b[0m\n\u001b[0;32m--> 236\u001b[0;31m         \u001b[0mself\u001b[0m\u001b[0;34m.\u001b[0m\u001b[0mcheckpoint_connector\u001b[0m\u001b[0;34m.\u001b[0m\u001b[0msave_checkpoint\u001b[0m\u001b[0;34m(\u001b[0m\u001b[0mfilepath\u001b[0m\u001b[0;34m,\u001b[0m \u001b[0mweights_only\u001b[0m\u001b[0;34m)\u001b[0m\u001b[0;34m\u001b[0m\u001b[0;34m\u001b[0m\u001b[0m\n\u001b[0m\u001b[1;32m    237\u001b[0m \u001b[0;34m\u001b[0m\u001b[0m\n\u001b[1;32m    238\u001b[0m     \u001b[0;32mdef\u001b[0m \u001b[0mget_model\u001b[0m\u001b[0;34m(\u001b[0m\u001b[0mself\u001b[0m\u001b[0;34m)\u001b[0m\u001b[0;34m:\u001b[0m\u001b[0;34m\u001b[0m\u001b[0;34m\u001b[0m\u001b[0m\n",
      "\u001b[0;32m~/.conda/envs/ai-experiments/lib/python3.7/site-packages/pytorch_lightning/trainer/connectors/checkpoint_connector.py\u001b[0m in \u001b[0;36msave_checkpoint\u001b[0;34m(self, filepath, weights_only)\u001b[0m\n\u001b[1;32m    387\u001b[0m                 \u001b[0mcheckpoint\u001b[0m \u001b[0;34m=\u001b[0m \u001b[0mself\u001b[0m\u001b[0;34m.\u001b[0m\u001b[0mtrainer\u001b[0m\u001b[0;34m.\u001b[0m\u001b[0maccelerator_backend\u001b[0m\u001b[0;34m.\u001b[0m\u001b[0mon_save\u001b[0m\u001b[0;34m(\u001b[0m\u001b[0mcheckpoint\u001b[0m\u001b[0;34m)\u001b[0m\u001b[0;34m\u001b[0m\u001b[0;34m\u001b[0m\u001b[0m\n\u001b[1;32m    388\u001b[0m             \u001b[0;32mtry\u001b[0m\u001b[0;34m:\u001b[0m\u001b[0;34m\u001b[0m\u001b[0;34m\u001b[0m\u001b[0m\n\u001b[0;32m--> 389\u001b[0;31m                 \u001b[0matomic_save\u001b[0m\u001b[0;34m(\u001b[0m\u001b[0mcheckpoint\u001b[0m\u001b[0;34m,\u001b[0m \u001b[0mfilepath\u001b[0m\u001b[0;34m)\u001b[0m\u001b[0;34m\u001b[0m\u001b[0;34m\u001b[0m\u001b[0m\n\u001b[0m\u001b[1;32m    390\u001b[0m             \u001b[0;32mexcept\u001b[0m \u001b[0mAttributeError\u001b[0m \u001b[0;32mas\u001b[0m \u001b[0merr\u001b[0m\u001b[0;34m:\u001b[0m\u001b[0;34m\u001b[0m\u001b[0;34m\u001b[0m\u001b[0m\n\u001b[1;32m    391\u001b[0m                 \u001b[0;32mif\u001b[0m \u001b[0mLightningModule\u001b[0m\u001b[0;34m.\u001b[0m\u001b[0mCHECKPOINT_HYPER_PARAMS_KEY\u001b[0m \u001b[0;32min\u001b[0m \u001b[0mcheckpoint\u001b[0m\u001b[0;34m:\u001b[0m\u001b[0;34m\u001b[0m\u001b[0;34m\u001b[0m\u001b[0m\n",
      "\u001b[0;32m~/.conda/envs/ai-experiments/lib/python3.7/site-packages/pytorch_lightning/utilities/cloud_io.py\u001b[0m in \u001b[0;36matomic_save\u001b[0;34m(checkpoint, filepath)\u001b[0m\n\u001b[1;32m     59\u001b[0m     \u001b[0;31m# More details can be found here: https://github.com/pytorch/pytorch/issues/42239\u001b[0m\u001b[0;34m\u001b[0m\u001b[0;34m\u001b[0m\u001b[0;34m\u001b[0m\u001b[0m\n\u001b[1;32m     60\u001b[0m     \u001b[0;32mif\u001b[0m \u001b[0mLooseVersion\u001b[0m\u001b[0;34m(\u001b[0m\u001b[0mtorch\u001b[0m\u001b[0;34m.\u001b[0m\u001b[0m__version__\u001b[0m\u001b[0;34m)\u001b[0m\u001b[0;34m.\u001b[0m\u001b[0mversion\u001b[0m\u001b[0;34m[\u001b[0m\u001b[0;34m:\u001b[0m\u001b[0;36m3\u001b[0m\u001b[0;34m]\u001b[0m \u001b[0;34m==\u001b[0m \u001b[0;34m[\u001b[0m\u001b[0;36m1\u001b[0m\u001b[0;34m,\u001b[0m \u001b[0;36m6\u001b[0m\u001b[0;34m,\u001b[0m \u001b[0;36m0\u001b[0m\u001b[0;34m]\u001b[0m\u001b[0;34m:\u001b[0m\u001b[0;34m\u001b[0m\u001b[0;34m\u001b[0m\u001b[0m\n\u001b[0;32m---> 61\u001b[0;31m         \u001b[0mtorch\u001b[0m\u001b[0;34m.\u001b[0m\u001b[0msave\u001b[0m\u001b[0;34m(\u001b[0m\u001b[0mcheckpoint\u001b[0m\u001b[0;34m,\u001b[0m \u001b[0mbytesbuffer\u001b[0m\u001b[0;34m,\u001b[0m \u001b[0m_use_new_zipfile_serialization\u001b[0m\u001b[0;34m=\u001b[0m\u001b[0;32mFalse\u001b[0m\u001b[0;34m)\u001b[0m\u001b[0;34m\u001b[0m\u001b[0;34m\u001b[0m\u001b[0m\n\u001b[0m\u001b[1;32m     62\u001b[0m     \u001b[0;32melse\u001b[0m\u001b[0;34m:\u001b[0m\u001b[0;34m\u001b[0m\u001b[0;34m\u001b[0m\u001b[0m\n\u001b[1;32m     63\u001b[0m         \u001b[0mtorch\u001b[0m\u001b[0;34m.\u001b[0m\u001b[0msave\u001b[0m\u001b[0;34m(\u001b[0m\u001b[0mcheckpoint\u001b[0m\u001b[0;34m,\u001b[0m \u001b[0mbytesbuffer\u001b[0m\u001b[0;34m)\u001b[0m\u001b[0;34m\u001b[0m\u001b[0;34m\u001b[0m\u001b[0m\n",
      "\u001b[0;32m~/.conda/envs/ai-experiments/lib/python3.7/site-packages/torch/serialization.py\u001b[0m in \u001b[0;36msave\u001b[0;34m(obj, f, pickle_module, pickle_protocol, _use_new_zipfile_serialization)\u001b[0m\n\u001b[1;32m    364\u001b[0m                 \u001b[0m_save\u001b[0m\u001b[0;34m(\u001b[0m\u001b[0mobj\u001b[0m\u001b[0;34m,\u001b[0m \u001b[0mopened_zipfile\u001b[0m\u001b[0;34m,\u001b[0m \u001b[0mpickle_module\u001b[0m\u001b[0;34m,\u001b[0m \u001b[0mpickle_protocol\u001b[0m\u001b[0;34m)\u001b[0m\u001b[0;34m\u001b[0m\u001b[0;34m\u001b[0m\u001b[0m\n\u001b[1;32m    365\u001b[0m                 \u001b[0;32mreturn\u001b[0m\u001b[0;34m\u001b[0m\u001b[0;34m\u001b[0m\u001b[0m\n\u001b[0;32m--> 366\u001b[0;31m         \u001b[0m_legacy_save\u001b[0m\u001b[0;34m(\u001b[0m\u001b[0mobj\u001b[0m\u001b[0;34m,\u001b[0m \u001b[0mopened_file\u001b[0m\u001b[0;34m,\u001b[0m \u001b[0mpickle_module\u001b[0m\u001b[0;34m,\u001b[0m \u001b[0mpickle_protocol\u001b[0m\u001b[0;34m)\u001b[0m\u001b[0;34m\u001b[0m\u001b[0;34m\u001b[0m\u001b[0m\n\u001b[0m\u001b[1;32m    367\u001b[0m \u001b[0;34m\u001b[0m\u001b[0m\n\u001b[1;32m    368\u001b[0m \u001b[0;34m\u001b[0m\u001b[0m\n",
      "\u001b[0;32m~/.conda/envs/ai-experiments/lib/python3.7/site-packages/torch/serialization.py\u001b[0m in \u001b[0;36m_legacy_save\u001b[0;34m(obj, f, pickle_module, pickle_protocol)\u001b[0m\n\u001b[1;32m    435\u001b[0m     \u001b[0mf\u001b[0m\u001b[0;34m.\u001b[0m\u001b[0mflush\u001b[0m\u001b[0;34m(\u001b[0m\u001b[0;34m)\u001b[0m\u001b[0;34m\u001b[0m\u001b[0;34m\u001b[0m\u001b[0m\n\u001b[1;32m    436\u001b[0m     \u001b[0;32mfor\u001b[0m \u001b[0mkey\u001b[0m \u001b[0;32min\u001b[0m \u001b[0mserialized_storage_keys\u001b[0m\u001b[0;34m:\u001b[0m\u001b[0;34m\u001b[0m\u001b[0;34m\u001b[0m\u001b[0m\n\u001b[0;32m--> 437\u001b[0;31m         \u001b[0mserialized_storages\u001b[0m\u001b[0;34m[\u001b[0m\u001b[0mkey\u001b[0m\u001b[0;34m]\u001b[0m\u001b[0;34m.\u001b[0m\u001b[0m_write_file\u001b[0m\u001b[0;34m(\u001b[0m\u001b[0mf\u001b[0m\u001b[0;34m,\u001b[0m \u001b[0m_should_read_directly\u001b[0m\u001b[0;34m(\u001b[0m\u001b[0mf\u001b[0m\u001b[0;34m)\u001b[0m\u001b[0;34m,\u001b[0m \u001b[0;32mTrue\u001b[0m\u001b[0;34m)\u001b[0m\u001b[0;34m\u001b[0m\u001b[0;34m\u001b[0m\u001b[0m\n\u001b[0m\u001b[1;32m    438\u001b[0m \u001b[0;34m\u001b[0m\u001b[0m\n\u001b[1;32m    439\u001b[0m \u001b[0;34m\u001b[0m\u001b[0m\n",
      "\u001b[0;31mKeyboardInterrupt\u001b[0m: "
     ]
    }
   ],
   "source": [
    "trainer.fit(model)"
   ]
  },
  {
   "cell_type": "code",
   "execution_count": 19,
   "metadata": {},
   "outputs": [
    {
     "data": {
      "text/plain": [
       "1"
      ]
     },
     "execution_count": 19,
     "metadata": {},
     "output_type": "execute_result"
    }
   ],
   "source": [
    "trainer.test(model)"
   ]
  },
  {
   "cell_type": "code",
   "execution_count": 13,
   "metadata": {},
   "outputs": [],
   "source": [
    "mnist_mobile = VGGNet_MNIST()"
   ]
  },
  {
   "cell_type": "code",
   "execution_count": 14,
   "metadata": {},
   "outputs": [
    {
     "output_type": "stream",
     "name": "stdout",
     "text": [
      "\nbase_model\nbase_model.features\nbase_model.features.0\nbase_model.features.1\nbase_model.features.2\nbase_model.features.3\nbase_model.features.4\nbase_model.features.5\nbase_model.features.6\nbase_model.features.7\nbase_model.features.8\nbase_model.features.9\nbase_model.features.10\nbase_model.features.11\nbase_model.features.12\nbase_model.features.13\nbase_model.features.14\nbase_model.features.15\nbase_model.features.16\nbase_model.features.17\nbase_model.features.18\nbase_model.features.19\nbase_model.features.20\nbase_model.features.21\nbase_model.features.22\nbase_model.features.23\nbase_model.features.24\nbase_model.features.25\nbase_model.features.26\nbase_model.features.27\nbase_model.features.28\nbase_model.features.29\nbase_model.features.30\nbase_model.avgpool\nbase_model.classifier\nbase_model.classifier.0\nbase_model.classifier.1\nbase_model.classifier.2\nbase_model.classifier.3\nbase_model.classifier.4\nbase_model.classifier.5\nbase_model.classifier.6\nfc_layer1\nfc_layer2\ndropout\n"
     ]
    }
   ],
   "source": [
    "for name, module in mnist_mobile.named_modules():\n",
    "    print(name)"
   ]
  },
  {
   "cell_type": "code",
   "execution_count": 20,
   "metadata": {},
   "outputs": [],
   "source": [
    "sample = torch.randn(1,3,224,224).cuda()"
   ]
  },
  {
   "cell_type": "code",
   "execution_count": 3,
   "metadata": {},
   "outputs": [],
   "source": [
    "sample_cpu = torch.randn(4,3,224,224)"
   ]
  },
  {
   "cell_type": "code",
   "execution_count": 4,
   "metadata": {},
   "outputs": [
    {
     "output_type": "execute_result",
     "data": {
      "text/plain": [
       "torch.Size([3, 224, 224])"
      ]
     },
     "metadata": {},
     "execution_count": 4
    }
   ],
   "source": [
    "sample_cpu[0].shape"
   ]
  },
  {
   "cell_type": "code",
   "execution_count": 7,
   "metadata": {},
   "outputs": [],
   "source": [
    "d = torch.unsqueeze(sample_cpu[0],0)"
   ]
  },
  {
   "cell_type": "code",
   "execution_count": 8,
   "metadata": {},
   "outputs": [
    {
     "output_type": "execute_result",
     "data": {
      "text/plain": [
       "torch.Size([1, 3, 224, 224])"
      ]
     },
     "metadata": {},
     "execution_count": 8
    }
   ],
   "source": [
    "d.shape"
   ]
  },
  {
   "cell_type": "code",
   "execution_count": 3,
   "metadata": {},
   "outputs": [],
   "source": [
    "import torch\n",
    "from pytorch_memlab import MemReporter"
   ]
  },
  {
   "cell_type": "code",
   "execution_count": 3,
   "metadata": {},
   "outputs": [],
   "source": [
    "model = MobileNet_MNIST().cuda()\n",
    "#model.to('cuda')"
   ]
  },
  {
   "cell_type": "code",
   "execution_count": 4,
   "metadata": {},
   "outputs": [],
   "source": [
    "gradcam = GradCAM(model=model, single_usage=True)\n",
    "#calculating heatmaps for high loss batch images\n"
   ]
  },
  {
   "cell_type": "code",
   "execution_count": 7,
   "metadata": {},
   "outputs": [],
   "source": [
    "reporter = MemReporter()"
   ]
  },
  {
   "cell_type": "code",
   "execution_count": 5,
   "metadata": {},
   "outputs": [],
   "source": [
    "model.zero_grad()"
   ]
  },
  {
   "cell_type": "code",
   "execution_count": 10,
   "metadata": {
    "tags": []
   },
   "outputs": [],
   "source": [
    "high_batch_seg = torch.randn(32,3,224,224)\n",
    "probs, ids = gradcam.forward(high_batch_seg.cuda())\n",
    "gradcam.backward(ids=ids)\n",
    "regions = gradcam.generate('base_model.features.17.conv.3')"
   ]
  },
  {
   "cell_type": "code",
   "execution_count": 12,
   "metadata": {},
   "outputs": [
    {
     "output_type": "execute_result",
     "data": {
      "text/plain": [
       "(32, 1, 224, 224)"
      ]
     },
     "metadata": {},
     "execution_count": 12
    }
   ],
   "source": [
    "regions.shape"
   ]
  },
  {
   "cell_type": "code",
   "execution_count": 3,
   "metadata": {},
   "outputs": [],
   "source": [
    "def test_func():\n",
    "    model = MobileNet_MNIST().cuda()\n",
    "    gradcam = GradCAM(model=model)\n",
    "    model.zero_grad()\n",
    "    high_batch_seg = torch.randn(4,3,224,224)\n",
    "    probs, ids = gradcam.forward(high_batch_seg.cuda())\n",
    "    gradcam.backward(ids=ids)\n",
    "    regions = gradcam.generate('base_model.features.17.conv.3')"
   ]
  },
  {
   "cell_type": "code",
   "execution_count": 13,
   "metadata": {},
   "outputs": [],
   "source": [
    "torch.cuda.empty_cache()"
   ]
  },
  {
   "cell_type": "code",
   "execution_count": 4,
   "metadata": {},
   "outputs": [],
   "source": [
    "%load_ext pytorch_memlab"
   ]
  },
  {
   "cell_type": "code",
   "execution_count": 25,
   "metadata": {},
   "outputs": [],
   "source": [
    "sample = torch.randn(32,3,224,224)"
   ]
  },
  {
   "cell_type": "code",
   "execution_count": 34,
   "metadata": {},
   "outputs": [
    {
     "output_type": "execute_result",
     "data": {
      "text/plain": [
       "torch.Size([32, 3, 224, 224])"
      ]
     },
     "metadata": {},
     "execution_count": 34
    }
   ],
   "source": [
    "sample.shape"
   ]
  },
  {
   "cell_type": "code",
   "execution_count": 31,
   "metadata": {},
   "outputs": [],
   "source": [
    "a = sample[0,0]"
   ]
  },
  {
   "cell_type": "code",
   "execution_count": 33,
   "metadata": {},
   "outputs": [
    {
     "output_type": "execute_result",
     "data": {
      "text/plain": [
       "torch.Size([224, 224, 1])"
      ]
     },
     "metadata": {},
     "execution_count": 33
    }
   ],
   "source": [
    "a[..., None].shape"
   ]
  },
  {
   "cell_type": "code",
   "execution_count": null,
   "metadata": {},
   "outputs": [],
   "source": []
  }
 ],
 "metadata": {
  "kernelspec": {
   "name": "python3",
   "display_name": "Python 3.7.7 64-bit ('ai-experiments': conda)",
   "metadata": {
    "interpreter": {
     "hash": "cf486d4621c945dcbb398ab31f07069332e213298493c853e1fee6788950a827"
    }
   }
  },
  "language_info": {
   "codemirror_mode": {
    "name": "ipython",
    "version": 3
   },
   "file_extension": ".py",
   "mimetype": "text/x-python",
   "name": "python",
   "nbconvert_exporter": "python",
   "pygments_lexer": "ipython3",
   "version": "3.7.7-final"
  },
  "toc": {
   "base_numbering": 1,
   "nav_menu": {},
   "number_sections": true,
   "sideBar": true,
   "skip_h1_title": false,
   "title_cell": "Table of Contents",
   "title_sidebar": "Contents",
   "toc_cell": true,
   "toc_position": {},
   "toc_section_display": true,
   "toc_window_display": false
  }
 },
 "nbformat": 4,
 "nbformat_minor": 2
}